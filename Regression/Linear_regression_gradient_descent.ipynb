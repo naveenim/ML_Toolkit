{
 "cells": [
  {
   "cell_type": "markdown",
   "metadata": {},
   "source": [
    "# License \n",
    "***\n",
    "Copyright (C) 2017 J. Patrick Hall, jphall@gwu.edu\n",
    "\n",
    "Permission is hereby granted, free of charge, to any person obtaining a copy of this software and associated documentation files (the \"Software\"), to deal in the Software without restriction, including without limitation the rights to use, copy, modify, merge, publish, distribute, sublicense, and/or sell copies of the Software, and to permit persons to whom the Software is furnished to do so, subject to the following conditions:\n",
    "\n",
    "The above copyright notice and this permission notice shall be included in all copies or substantial portions of the Software.\n",
    "\n",
    "THE SOFTWARE IS PROVIDED \"AS IS\", WITHOUT WARRANTY OF ANY KIND, EXPRESS OR IMPLIED, INCLUDING BUT NOT LIMITED TO THE WARRANTIES OF MERCHANTABILITY, FITNESS FOR A PARTICULAR PURPOSE AND NONINFRINGEMENT. IN NO EVENT SHALL THE AUTHORS OR COPYRIGHT HOLDERS BE LIABLE FOR ANY CLAIM, DAMAGES OR OTHER LIABILITY, WHETHER IN AN ACTION OF CONTRACT, TORT OR OTHERWISE, ARISING FROM, OUT OF OR IN CONNECTION WITH THE SOFTWARE OR THE USE OR OTHER DEALINGS IN THE SOFTWARE."
   ]
  },
  {
   "cell_type": "markdown",
   "metadata": {},
   "source": [
    "***\n",
    "# **Basic** Gradient Descent for Multiple Linear Regression"
   ]
  },
  {
   "cell_type": "code",
   "execution_count": 16,
   "metadata": {},
   "outputs": [],
   "source": [
    "# imports \n",
    "import pandas as pd # import pandas for easy data manipulation using data frames\n",
    "import numpy as np  # import numpy for numeric calculations on matrices\n",
    "import time         # for timers\n",
    "\n",
    "# import h2o to check calculations\n",
    "import h2o\n",
    "from h2o.estimators.glm import H2OGeneralizedLinearEstimator"
   ]
  },
  {
   "cell_type": "markdown",
   "metadata": {},
   "source": [
    "#### Assign global constants"
   ]
  },
  {
   "cell_type": "code",
   "execution_count": 17,
   "metadata": {
    "collapsed": true
   },
   "outputs": [],
   "source": [
    "# data-related constants\n",
    "IN_FILE_PATH = '../data/loan_clean.csv'\n",
    "Y            = 'STD_IMP_REP_loan_amnt'\n",
    "DROPS        = ['id', 'GRP_REP_home_ownership', 'GRP_addr_state', 'GRP_home_ownership',\n",
    "                'GRP_purpose', 'GRP_verification_status', '_WARN_']\n",
    "\n",
    "# model-related constants\n",
    "LEARN_RATE   = 0.005 # how much each gradient descent step impacts parameters\n",
    "CONV         = 1e-10 # desired precision in parameters \n",
    "MAX_ITERS    = 10000 # maximum number of gradient descent steps to allow"
   ]
  },
  {
   "cell_type": "markdown",
   "metadata": {},
   "source": [
    "### Import clean data and convert to numpy matrices"
   ]
  },
  {
   "cell_type": "code",
   "execution_count": 18,
   "metadata": {},
   "outputs": [],
   "source": [
    "# import data using Pandas\n",
    "raw = pd.read_csv(IN_FILE_PATH)"
   ]
  },
  {
   "cell_type": "code",
   "execution_count": 19,
   "metadata": {},
   "outputs": [
    {
     "name": "stdout",
     "output_type": "stream",
     "text": [
      "[-1.01918221 -1.33470843 -1.34732948 ..., -0.03158515  1.83948532\n",
      "  0.49534363]\n"
     ]
    }
   ],
   "source": [
    "# select target column\n",
    "y = raw[Y].as_matrix()\n",
    "print(y)"
   ]
  },
  {
   "cell_type": "code",
   "execution_count": 20,
   "metadata": {},
   "outputs": [
    {
     "name": "stdout",
     "output_type": "stream",
     "text": [
      "[[ 1.          0.         -1.1992995  ...,  1.18587165 -0.51649558\n",
      "  -1.35927825]\n",
      " [ 1.          1.         -1.04507688 ..., -1.78827033  1.97187876\n",
      "  -1.79651802]\n",
      " [ 1.          0.         -1.50126739 ...,  1.77829832 -0.51649558\n",
      "  -1.27183029]\n",
      " ..., \n",
      " [ 1.          0.         -0.83944672 ...,  0.66549687 -0.51649558\n",
      "  -0.04755892]\n",
      " [ 1.          0.         -0.27396377 ...,  0.285223    1.97187876\n",
      "  -0.39735074]\n",
      " [ 1.          0.         -0.19484757 ..., -0.00298457  1.97187876\n",
      "   0.3022329 ]]\n"
     ]
    }
   ],
   "source": [
    "# create input matrix\n",
    "# add an additional column of 1's for intercept \n",
    "# by overlaying inputs onto matrix of 1's\n",
    "numeric = raw.drop(DROPS + [Y], axis=1).as_matrix()\n",
    "N, p = numeric.shape\n",
    "X = np.ones(shape=(N, p + 1))\n",
    "X[:,1:] = numeric \n",
    "print(X)"
   ]
  },
  {
   "cell_type": "markdown",
   "metadata": {},
   "source": [
    "### Basic Gradient Descent Routines"
   ]
  },
  {
   "cell_type": "markdown",
   "metadata": {},
   "source": [
    "#### Define squared loss function\n",
    "* For linear regression, we minimize the squared distance between the regression plane and points in the conditional distribution of **y** given **X**.\n",
    "* It is convenient to use a scaled mean squared error (MSE) formula:"
   ]
  },
  {
   "cell_type": "code",
   "execution_count": 21,
   "metadata": {
    "collapsed": true
   },
   "outputs": [],
   "source": [
    "def squared_loss(n, x, y, betas):\n",
    "    \n",
    "    \"\"\" Squared loss function for multiple linear regression.\n",
    "    \n",
    "    :param n: Number of rows in x.\n",
    "    :param x: Matrix of numeric inputs.\n",
    "    :param y: Vector of known target values.\n",
    "    :param beta: Vector or current model parameters.\n",
    "    :return: Scalar MSE value.    \n",
    "    \n",
    "    \"\"\"\n",
    "    \n",
    "    yhat = x.dot(betas)\n",
    "        \n",
    "    return ((1 / (2 * n)) * (y - yhat)**2).sum()"
   ]
  },
  {
   "cell_type": "markdown",
   "metadata": {},
   "source": [
    "#### Define gradient of loss function\n",
    "* The derivative of the loss function w.r.t the model parameters is used to update model parameters at each gradient descent step.\n",
    "* The gradient of our MSE loss function is trivial:"
   ]
  },
  {
   "cell_type": "code",
   "execution_count": 22,
   "metadata": {
    "collapsed": true
   },
   "outputs": [],
   "source": [
    "def grad(n, y, yhat):\n",
    "    \n",
    "    \"\"\" Analytical gradient of scaled MSE loss function.\n",
    "    \n",
    "    :param n: Number of rows in X.\n",
    "    :param y: Vector of known target values.\n",
    "    :param yhat: Vector of predicted target values.\n",
    "    :return: Vector of gradient values.\n",
    "    \n",
    "    \"\"\"\n",
    "    \n",
    "    return ((1 / n)*(yhat - y))"
   ]
  },
  {
   "cell_type": "markdown",
   "metadata": {},
   "source": [
    "#### Define function for executing gradient descent minimization\n",
    "For each gradient descent step:\n",
    "* Predictions are made using the current model parameters.\n",
    "* The gradient is calculated for each model pararmeter.\n",
    "* The gradient is used in combination with the learning rate to update each parameter."
   ]
  },
  {
   "cell_type": "code",
   "execution_count": 23,
   "metadata": {},
   "outputs": [],
   "source": [
    "def grad_descent(X, y, learn_rate, max_iters, sgd_mini_batch_n=0):\n",
    "    \n",
    "    \"\"\" Routine for executing simple gradient descent with stochastic gradient descent option.\n",
    "    \n",
    "    :param X: Matrix of numeric data.\n",
    "    :param y: Vector of known target values.\n",
    "    :param learn_rate: Learning rate.\n",
    "    :param max_iters: Maximum number of gradient descent steps to perform.\n",
    "    :param sgd_mini_batch_n: Minibatch size for sgd optimization.\n",
    "                             If > 0 minibatch stochastic gradient descent is performed.\n",
    "    \n",
    "    \"\"\"\n",
    "\n",
    "    tic = time.time()               # start timer\n",
    "    n_betas = X.shape[1]            # number of model parameters including bias    \n",
    "    betas = np.zeros(shape=n_betas) # parameters start with value of 0\n",
    "    n = y.shape[0]                  # number of rows in X\n",
    "    \n",
    "    # Pandas dataframe for iteration history\n",
    "    iteration_frame = pd.DataFrame(columns=['Iteration', 'Loss'])\n",
    "\n",
    "    print('Iteration history:')\n",
    "    \n",
    "    # loop for gradient descent steps\n",
    "    for i in range(max_iters):\n",
    "        \n",
    "        # stochastic gradient descent\n",
    "        if sgd_mini_batch_n > 0:\n",
    "            \n",
    "            samp_idx = np.random.randint(n, size=sgd_mini_batch_n)\n",
    "            X_samp = X[samp_idx, :]\n",
    "            y_samp = y[samp_idx]\n",
    "            n_samp = X_samp.shape[0]\n",
    "            yhat_samp = X_samp.dot(betas) # model predictions for iteration\n",
    "\n",
    "            # loop for column-wise parameter updates\n",
    "            for j in range(n_betas):\n",
    "\n",
    "                # select column\n",
    "                # calculate column-wise gradient\n",
    "                # update corresponding parameter based on negative gradient\n",
    "                # calculate loss\n",
    "\n",
    "                xj_samp = X_samp[:, j]\n",
    "                xj_grad_samp = grad(n_samp, y_samp, yhat_samp) * xj_samp\n",
    "                betas[j] = betas[j] - learn_rate * xj_grad_samp.sum()\n",
    "                iter_loss = squared_loss(n_samp, X_samp, y_samp, betas)\n",
    "        \n",
    "        # standard gradient descent\n",
    "        else:\n",
    "            \n",
    "            yhat = X.dot(betas) # model predictions for iteration\n",
    "\n",
    "            # loop for column-wise parameter updates\n",
    "            for j in range(n_betas):\n",
    "                xj = X[:, j]\n",
    "                xj_grad = grad(n, y, yhat) * xj\n",
    "                betas[j] = betas[j] - learn_rate * xj_grad.sum()\n",
    "                iter_loss = squared_loss(n, X, y, betas)\n",
    "        \n",
    "        # update loss history\n",
    "        iteration_frame = iteration_frame.append({'Iteration': i,\n",
    "                                                  'Loss':  iter_loss}, \n",
    "                                                  ignore_index=True)        \n",
    "        # progress indicator \n",
    "        if i % 1000 == 0:\n",
    "            print('iter=%d loss=%.6f' % (i, iter_loss))\n",
    "        \n",
    "        # convergence check\n",
    "        if i > 0:\n",
    "            if np.abs(iteration_frame.iat[i-1, 1] - iteration_frame.iat[i, 1]) < CONV:\n",
    "                break\n",
    "\n",
    "    # output \n",
    "    %matplotlib inline\n",
    "    iteration_frame.plot.line(title='Iteration Plot', x='Iteration', y='Loss')\n",
    "    print()           \n",
    "    print('Model parameters at iteration ' + str(i) + ':')\n",
    "    print(betas)\n",
    "    print()\n",
    "    print('Model trained in %.2f s.' % (time.time()-tic))\n"
   ]
  },
  {
   "cell_type": "markdown",
   "metadata": {},
   "source": [
    "#### Execute gradient descent"
   ]
  },
  {
   "cell_type": "code",
   "execution_count": 24,
   "metadata": {},
   "outputs": [
    {
     "name": "stdout",
     "output_type": "stream",
     "text": [
      "Iteration history:\n",
      "iter=0 loss=0.497186\n",
      "iter=1000 loss=0.315239\n",
      "iter=2000 loss=0.315038\n",
      "iter=3000 loss=0.315029\n",
      "iter=4000 loss=0.315028\n",
      "iter=5000 loss=0.315027\n",
      "\n",
      "Model parameters at iteration 5451:\n",
      "[-0.00931092  0.04850417  0.4184085  -0.0423755   0.08968925  0.03013954\n",
      "  0.08019815  0.05024616  0.0155436   0.31241567  0.04137116]\n",
      "\n",
      "Model trained in 134.14 s.\n"
     ]
    },
    {
     "data": {
      "image/png": "[encoded data removed]",
      "text/plain": [
       "<matplotlib.figure.Figure at 0x1040b0978>"
      ]
     },
     "metadata": {},
     "output_type": "display_data"
    }
   ],
   "source": [
    "grad_descent(X, y, LEARN_RATE, MAX_ITERS)"
   ]
  },
  {
   "cell_type": "markdown",
   "metadata": {},
   "source": [
    "#### Execute stochastic gradient descent"
   ]
  },
  {
   "cell_type": "code",
   "execution_count": 25,
   "metadata": {},
   "outputs": [
    {
     "name": "stdout",
     "output_type": "stream",
     "text": [
      "Iteration history:\n",
      "iter=0 loss=0.504182\n",
      "iter=1000 loss=0.342006\n",
      "iter=2000 loss=0.311546\n",
      "iter=3000 loss=0.325628\n",
      "iter=4000 loss=0.330037\n",
      "iter=5000 loss=0.359612\n",
      "iter=6000 loss=0.286463\n",
      "iter=7000 loss=0.301586\n",
      "iter=8000 loss=0.303301\n",
      "iter=9000 loss=0.318988\n",
      "\n",
      "Model parameters at iteration 9999:\n",
      "[-0.00913744  0.048172    0.42078809 -0.0436005   0.09299575  0.03144586\n",
      "  0.08038705  0.05091495  0.01603481  0.31296612  0.04337472]\n",
      "\n",
      "Model trained in 15.34 s.\n"
     ]
    },
    {
     "data": {
      "image/png": "[encoded data removed]",
      "text/plain": [
       "<matplotlib.figure.Figure at 0x115ccf0b8>"
      ]
     },
     "metadata": {},
     "output_type": "display_data"
    }
   ],
   "source": [
    "grad_descent(X, y, LEARN_RATE, MAX_ITERS, sgd_mini_batch_n=1000)"
   ]
  },
  {
   "cell_type": "markdown",
   "metadata": {},
   "source": [
    "### Use h2o to check model parameters"
   ]
  },
  {
   "cell_type": "code",
   "execution_count": 26,
   "metadata": {},
   "outputs": [
    {
     "name": "stdout",
     "output_type": "stream",
     "text": [
      "Checking whether there is an H2O instance running at http://localhost:54321..... not found.\n",
      "Attempting to start a local H2O server...\n",
      "  Java Version: java version \"1.8.0_112\"; Java(TM) SE Runtime Environment (build 1.8.0_112-b16); Java HotSpot(TM) 64-Bit Server VM (build 25.112-b16, mixed mode)\n",
      "  Starting server from /Users/phall/anaconda/lib/python3.5/site-packages/h2o/backend/bin/h2o.jar\n",
      "  Ice root: /var/folders/tc/0ss1l73113j3wdyjsxmy1j2r0000gn/T/tmpm43py4jh\n",
      "  JVM stdout: /var/folders/tc/0ss1l73113j3wdyjsxmy1j2r0000gn/T/tmpm43py4jh/h2o_phall_started_from_python.out\n",
      "  JVM stderr: /var/folders/tc/0ss1l73113j3wdyjsxmy1j2r0000gn/T/tmpm43py4jh/h2o_phall_started_from_python.err\n",
      "  Server is running at http://127.0.0.1:54321\n",
      "Connecting to H2O server at http://127.0.0.1:54321... successful.\n"
     ]
    },
    {
     "data": {
      "text/html": [
       "<div style=\"overflow:auto\"><table style=\"width:50%\"><tr><td>H2O cluster uptime:</td>\n",
       "<td>04 secs</td></tr>\n",
       "<tr><td>H2O cluster version:</td>\n",
       "<td>3.11.0.3873</td></tr>\n",
       "<tr><td>H2O cluster version age:</td>\n",
       "<td>13 days </td></tr>\n",
       "<tr><td>H2O cluster name:</td>\n",
       "<td>H2O_from_python_phall_0gd0qd</td></tr>\n",
       "<tr><td>H2O cluster total nodes:</td>\n",
       "<td>1</td></tr>\n",
       "<tr><td>H2O cluster free memory:</td>\n",
       "<td>3.556 Gb</td></tr>\n",
       "<tr><td>H2O cluster total cores:</td>\n",
       "<td>8</td></tr>\n",
       "<tr><td>H2O cluster allowed cores:</td>\n",
       "<td>8</td></tr>\n",
       "<tr><td>H2O cluster status:</td>\n",
       "<td>accepting new members, healthy</td></tr>\n",
       "<tr><td>H2O connection url:</td>\n",
       "<td>http://127.0.0.1:54321</td></tr>\n",
       "<tr><td>H2O connection proxy:</td>\n",
       "<td>None</td></tr>\n",
       "<tr><td>H2O internal security:</td>\n",
       "<td>False</td></tr>\n",
       "<tr><td>Python version:</td>\n",
       "<td>3.5.2 final</td></tr></table></div>"
      ],
      "text/plain": [
       "--------------------------  ------------------------------\n",
       "H2O cluster uptime:         04 secs\n",
       "H2O cluster version:        3.11.0.3873\n",
       "H2O cluster version age:    13 days\n",
       "H2O cluster name:           H2O_from_python_phall_0gd0qd\n",
       "H2O cluster total nodes:    1\n",
       "H2O cluster free memory:    3.556 Gb\n",
       "H2O cluster total cores:    8\n",
       "H2O cluster allowed cores:  8\n",
       "H2O cluster status:         accepting new members, healthy\n",
       "H2O connection url:         http://127.0.0.1:54321\n",
       "H2O connection proxy:\n",
       "H2O internal security:      False\n",
       "Python version:             3.5.2 final\n",
       "--------------------------  ------------------------------"
      ]
     },
     "metadata": {},
     "output_type": "display_data"
    },
    {
     "name": "stdout",
     "output_type": "stream",
     "text": [
      "Parse progress: |█████████████████████████████████████████████████████████| 100%\n",
      "glm Model Build progress: |███████████████████████████████████████████████| 100%\n",
      "\n",
      "Model parameters:\n",
      "STD_IMP_REP_longest_credit_lengt 0.05023821933458787\n",
      "STD_IMP_REP_annual_inc 0.4184344038333887\n",
      "STD_IMP_REP_delinq_2yrs -0.04237426505134887\n",
      "Intercept -0.009531837795372198\n",
      "STD_IMP_REP_term_length 0.31239210762608416\n",
      "STD_IMP_REP_emp_length 0.030142903020478177\n",
      "bad_loan 0.0494917361604361\n",
      "STD_IMP_REP_total_acc 0.041392767737906726\n",
      "STD_IMP_REP_int_rate 0.08011731349769495\n",
      "STD_IMP_REP_revol_util 0.015542387042639275\n",
      "STD_IMP_REP_dti 0.08966404330351398\n",
      "\n",
      "H2O session _sid_9ecc closed.\n"
     ]
    }
   ],
   "source": [
    "# start h2o\n",
    "h2o.init()\n",
    "\n",
    "DROPS = ['id', 'GRP_REP_home_ownership', 'GRP_addr_state', 'GRP_home_ownership',\n",
    "         'GRP_purpose', 'GRP_verification_status', '_WARN_']\n",
    "\n",
    "# numeric columns \n",
    "train = h2o.import_file(IN_FILE_PATH)\n",
    "train = train.drop(DROPS)\n",
    "X = train.col_names\n",
    "\n",
    "# initialize non-penalized GLM model\n",
    "loan_glm = H2OGeneralizedLinearEstimator(family='gaussian',      # uses squared error\n",
    "                                         solver='IRLSM',         # necessary for non-penalized GLM\n",
    "                                         standardize=False,      # data is already standardized\n",
    "                                         compute_p_values=True,  # necessary for non-penalized GLM \n",
    "                                         lambda_=0)              # necessary for non-penalized GLM\n",
    "\n",
    "# train \n",
    "loan_glm.train(train.col_names, Y, training_frame=train)\n",
    "\n",
    "# print trained model info\n",
    "print() \n",
    "print('Model parameters:')\n",
    "for name, val in loan_glm.coef().items():\n",
    "    print(name, val)\n",
    "print()\n",
    "\n",
    "# shutdown h2o\n",
    "h2o.cluster().shutdown()"
   ]
  }
 ],
 "metadata": {
  "anaconda-cloud": {},
  "kernelspec": {
   "display_name": "Python 3",
   "language": "python",
   "name": "python3"
  },
  "language_info": {
   "codemirror_mode": {
    "name": "ipython",
    "version": 3
   },
   "file_extension": ".py",
   "mimetype": "text/x-python",
   "name": "python",
   "nbconvert_exporter": "python",
   "pygments_lexer": "ipython3",
   "version": "3.6.1"
  }
 },
 "nbformat": 4,
 "nbformat_minor": 2
}
