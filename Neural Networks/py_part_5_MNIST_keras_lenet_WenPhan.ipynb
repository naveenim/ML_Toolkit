{
 "cells": [
  {
   "cell_type": "code",
   "execution_count": 1,
   "metadata": {
    "collapsed": true
   },
   "outputs": [],
   "source": [
    "import os\n",
    "path = os.path.dirname(os.getcwd())"
   ]
  },
  {
   "cell_type": "markdown",
   "metadata": {},
   "source": [
    "# MNIST Data"
   ]
  },
  {
   "cell_type": "code",
   "execution_count": 2,
   "metadata": {
    "collapsed": false
   },
   "outputs": [],
   "source": [
    "import pandas as pd"
   ]
  },
  {
   "cell_type": "code",
   "execution_count": 3,
   "metadata": {
    "collapsed": false
   },
   "outputs": [],
   "source": [
    "pd_train_data = pd.read_csv(path+\"../data/train.csv\") # must clone and unzip!\n",
    "pd_test_data = pd.read_csv(path+\"../data/test.csv\") # must clone and unzip!"
   ]
  },
  {
   "cell_type": "code",
   "execution_count": 4,
   "metadata": {
    "collapsed": false
   },
   "outputs": [],
   "source": [
    "train_data = pd_train_data.as_matrix()\n",
    "test_data = pd_test_data.as_matrix()"
   ]
  },
  {
   "cell_type": "code",
   "execution_count": 5,
   "metadata": {
    "collapsed": true
   },
   "outputs": [],
   "source": [
    "x_train = train_data[:,0:784]\n",
    "y_train = train_data[:,784]"
   ]
  },
  {
   "cell_type": "code",
   "execution_count": 6,
   "metadata": {
    "collapsed": false
   },
   "outputs": [],
   "source": [
    "x_test = test_data[:,0:784]\n",
    "y_test = test_data[:,784]"
   ]
  },
  {
   "cell_type": "code",
   "execution_count": 7,
   "metadata": {
    "collapsed": true
   },
   "outputs": [],
   "source": [
    "x_train = x_train.reshape(x_train.shape[0], 28, 28, 1).astype('float32')\n",
    "x_test = x_test.reshape(x_test.shape[0], 28, 28, 1).astype('float32')"
   ]
  },
  {
   "cell_type": "code",
   "execution_count": 8,
   "metadata": {
    "collapsed": true
   },
   "outputs": [],
   "source": [
    "# Normalize data\n",
    "x_train /= 255\n",
    "x_test /= 255"
   ]
  },
  {
   "cell_type": "code",
   "execution_count": 9,
   "metadata": {
    "collapsed": false
   },
   "outputs": [
    {
     "name": "stderr",
     "output_type": "stream",
     "text": [
      "Using TensorFlow backend.\n"
     ]
    }
   ],
   "source": [
    "from keras.utils import np_utils\n",
    "y_train = np_utils.to_categorical(y_train)\n",
    "y_test = np_utils.to_categorical(y_test)\n",
    "num_classes = y_test.shape[1]"
   ]
  },
  {
   "cell_type": "markdown",
   "metadata": {},
   "source": [
    "# Build Model"
   ]
  },
  {
   "cell_type": "code",
   "execution_count": 10,
   "metadata": {
    "collapsed": false
   },
   "outputs": [],
   "source": [
    "import keras\n",
    "from keras.models import Sequential\n",
    "from keras.layers import Conv2D, MaxPooling2D, Activation, Flatten, Dense"
   ]
  },
  {
   "cell_type": "code",
   "execution_count": 11,
   "metadata": {
    "collapsed": false,
    "scrolled": true
   },
   "outputs": [],
   "source": [
    "model = Sequential()"
   ]
  },
  {
   "cell_type": "code",
   "execution_count": 12,
   "metadata": {
    "collapsed": false,
    "scrolled": false
   },
   "outputs": [],
   "source": [
    "# Convolution and pooling 1\n",
    "model.add(Conv2D(filters=6, kernel_size=(2,2), input_shape=(28,28,1)))\n",
    "model.add(MaxPooling2D(pool_size=2))\n",
    "model.add(Activation(\"sigmoid\"))\n",
    "\n",
    "# Convolution and pooling 2\n",
    "model.add(Conv2D(filters=16, kernel_size=(5,5)))\n",
    "model.add(MaxPooling2D(pool_size=2))\n",
    "model.add(Activation(\"sigmoid\"))\n",
    "\n",
    "# Convolution 3\n",
    "model.add(Conv2D(filters=120, kernel_size=(4,4)))\n",
    "\n",
    "# Fully-Connected\n",
    "model.add(Flatten())\n",
    "model.add(Dense(84))\n",
    "model.add(Activation(\"tanh\"))\n",
    "\n",
    "# Output layer\n",
    "model.add(Dense(10))\n",
    "model.add(Activation('softmax'))"
   ]
  },
  {
   "cell_type": "code",
   "execution_count": 13,
   "metadata": {
    "collapsed": false
   },
   "outputs": [],
   "source": [
    "model.compile(loss=\"categorical_crossentropy\", optimizer=\"sgd\", metrics=[\"accuracy\"])"
   ]
  },
  {
   "cell_type": "code",
   "execution_count": 14,
   "metadata": {
    "collapsed": false
   },
   "outputs": [
    {
     "name": "stdout",
     "output_type": "stream",
     "text": [
      "Epoch 1/20\n",
      "60000/60000 [==============================] - 9s - loss: 2.3039 - acc: 0.1063     \n",
      "Epoch 2/20\n",
      "60000/60000 [==============================] - 9s - loss: 2.3021 - acc: 0.1094     \n",
      "Epoch 3/20\n",
      "60000/60000 [==============================] - 9s - loss: 2.3008 - acc: 0.1123     \n",
      "Epoch 4/20\n",
      "60000/60000 [==============================] - 10s - loss: 2.2988 - acc: 0.1171    \n",
      "Epoch 5/20\n",
      "60000/60000 [==============================] - 9s - loss: 2.2955 - acc: 0.1225     \n",
      "Epoch 6/20\n",
      "60000/60000 [==============================] - 9s - loss: 2.2901 - acc: 0.1339     \n",
      "Epoch 7/20\n",
      "60000/60000 [==============================] - 9s - loss: 2.2790 - acc: 0.1627     \n",
      "Epoch 8/20\n",
      "60000/60000 [==============================] - 10s - loss: 2.2488 - acc: 0.2554    \n",
      "Epoch 9/20\n",
      "60000/60000 [==============================] - 10s - loss: 2.1279 - acc: 0.4423    \n",
      "Epoch 10/20\n",
      "60000/60000 [==============================] - 9s - loss: 1.5722 - acc: 0.6431     \n",
      "Epoch 11/20\n",
      "60000/60000 [==============================] - 9s - loss: 0.8796 - acc: 0.7802     \n",
      "Epoch 12/20\n",
      "60000/60000 [==============================] - 9s - loss: 0.6171 - acc: 0.8325     \n",
      "Epoch 13/20\n",
      "60000/60000 [==============================] - 9s - loss: 0.5105 - acc: 0.8574     \n",
      "Epoch 14/20\n",
      "60000/60000 [==============================] - 9s - loss: 0.4505 - acc: 0.8718     \n",
      "Epoch 15/20\n",
      "60000/60000 [==============================] - 9s - loss: 0.4092 - acc: 0.8826     \n",
      "Epoch 16/20\n",
      "60000/60000 [==============================] - 9s - loss: 0.3782 - acc: 0.8908     \n",
      "Epoch 17/20\n",
      "60000/60000 [==============================] - 9s - loss: 0.3538 - acc: 0.8972     \n",
      "Epoch 18/20\n",
      "60000/60000 [==============================] - 9s - loss: 0.3328 - acc: 0.9032     \n",
      "Epoch 19/20\n",
      "60000/60000 [==============================] - 9s - loss: 0.3144 - acc: 0.9082     \n",
      "Epoch 20/20\n",
      "60000/60000 [==============================] - 9s - loss: 0.2984 - acc: 0.9121     \n"
     ]
    },
    {
     "data": {
      "text/plain": [
       "<keras.callbacks.History at 0x118231090>"
      ]
     },
     "execution_count": 14,
     "metadata": {},
     "output_type": "execute_result"
    }
   ],
   "source": [
    "model.fit(x_train, y_train, epochs=20, batch_size=128)"
   ]
  },
  {
   "cell_type": "code",
   "execution_count": 15,
   "metadata": {
    "collapsed": false
   },
   "outputs": [
    {
     "name": "stdout",
     "output_type": "stream",
     "text": [
      " 9856/10000 [============================>.] - ETA: 0s"
     ]
    },
    {
     "data": {
      "text/plain": [
       "[0.27130569877624511, 0.92059999999999997]"
      ]
     },
     "execution_count": 15,
     "metadata": {},
     "output_type": "execute_result"
    }
   ],
   "source": [
    "model.evaluate(x_test, y_test, batch_size=128)"
   ]
  }
 ],
 "metadata": {
  "anaconda-cloud": {},
  "kernelspec": {
   "display_name": "Python [conda root]",
   "language": "python",
   "name": "conda-root-py"
  },
  "language_info": {
   "codemirror_mode": {
    "name": "ipython",
    "version": 3
   },
   "file_extension": ".py",
   "mimetype": "text/x-python",
   "name": "python",
   "nbconvert_exporter": "python",
   "pygments_lexer": "ipython3",
   "version": "3.5.2"
  }
 },
 "nbformat": 4,
 "nbformat_minor": 1
}
