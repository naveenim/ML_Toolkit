{
 "cells": [
  {
   "cell_type": "markdown",
   "metadata": {},
   "source": [
    "# Python: Part 0 - Pandas and Numpy\n",
    "***\n",
    "## 1. Standard output\n",
    "`print` is the primary function used to write to the console in Python\n",
    "* `print` is a *function* in Python 3\n",
    "* `print` is a *statement* in Python 2 "
   ]
  },
  {
   "cell_type": "code",
   "execution_count": 4,
   "metadata": {},
   "outputs": [
    {
     "name": "stdout",
     "output_type": "stream",
     "text": [
      "Hello World!\n",
      "Hello World!\n"
     ]
    }
   ],
   "source": [
    "print('Hello World!') # Python 3\n",
    "print 'Hello World!'  # Python 2"
   ]
  },
  {
   "cell_type": "code",
   "execution_count": 5,
   "metadata": {},
   "outputs": [
    {
     "data": {
      "text/plain": [
       "'Hello World!'"
      ]
     },
     "execution_count": 5,
     "metadata": {},
     "output_type": "execute_result"
    }
   ],
   "source": [
    "# An object with no functions or operators is also printed to the console\n",
    "x = 'Hello World!'\n",
    "x"
   ]
  },
  {
   "cell_type": "markdown",
   "metadata": {},
   "source": [
    "***\n",
    "## 2. Importing libraries \n",
    "\n",
    "Python contains many libraries, often called *modules*, for different purposes\n",
    "\n",
    "Modules are:\n",
    "* Nearly always free and open source\n",
    "* Installed using many different methods - a package manager like `conda`, readily available through the Anaconda release of Python (https://www.continuum.io/downloads) - is often a good solution for installing and managing packages/modules \n",
    "* Of relatively high and uniform quality and but licensing can vary\n",
    "* Imported using the `import` statement"
   ]
  },
  {
   "cell_type": "code",
   "execution_count": 6,
   "metadata": {},
   "outputs": [],
   "source": [
    "# import packages\n",
    "import string                   # module with string utilities\n",
    "import pandas as pd             # large module with many utilities for dataframes, here aliased as 'pd' \n",
    "import numpy as np              # large module with many numeric and mathematical utilities, here aliased as 'np'\n",
    "import matplotlib.pyplot as plt # module for plotting\n",
    "\n",
    "# \"magic\" syntax to display matplotlib graphics in a notebook\n",
    "# magic statements start with '%' and are often used to control notebook behavior\n",
    "%matplotlib inline             "
   ]
  },
  {
   "cell_type": "markdown",
   "metadata": {},
   "source": [
    "***\n",
    "## 3. Generating a sample data set\n",
    "#### Set the number of rows and columns for the sample data set"
   ]
  },
  {
   "cell_type": "code",
   "execution_count": 7,
   "metadata": {
    "collapsed": true
   },
   "outputs": [],
   "source": [
    "n_rows = 1000\n",
    "n_vars = 2"
   ]
  },
  {
   "cell_type": "markdown",
   "metadata": {},
   "source": [
    "#### Create lists of strings that will become column names\n",
    "* Lists are a common data structure in Python\n",
    "* Lists are surrounded by square brackets [] and contain different data types as list elements\n",
    "* Lists can be created by a speficic type Pythonic syntax, called list comprehensions\n",
    "* Lists in Python are indexed from 0, unlike SAS or R\n",
    "* Lists in Python, and other data structures, can be sliced using numeric indices"
   ]
  },
  {
   "cell_type": "code",
   "execution_count": 8,
   "metadata": {},
   "outputs": [
    {
     "data": {
      "text/plain": [
       "['numeric1', 'numeric2']"
      ]
     },
     "execution_count": 8,
     "metadata": {},
     "output_type": "execute_result"
    }
   ],
   "source": [
    "# list comprehension\n",
    "# str() converts to string\n",
    "# range() creates a list of values from arg1 to arg2\n",
    "num_col_names = ['numeric' + str(i+1) for i in range(0, n_vars)]  \n",
    "num_col_names"
   ]
  },
  {
   "cell_type": "code",
   "execution_count": 9,
   "metadata": {},
   "outputs": [
    {
     "data": {
      "text/plain": [
       "list"
      ]
     },
     "execution_count": 9,
     "metadata": {},
     "output_type": "execute_result"
    }
   ],
   "source": [
    "type(num_col_names) # type() can be used to determine the class of an object in Python"
   ]
  },
  {
   "cell_type": "markdown",
   "metadata": {},
   "source": [
    "##### Python supports anonymous functions"
   ]
  },
  {
   "cell_type": "code",
   "execution_count": 10,
   "metadata": {},
   "outputs": [
    {
     "data": {
      "text/plain": [
       "['char1', 'char2']"
      ]
     },
     "execution_count": 10,
     "metadata": {},
     "output_type": "execute_result"
    }
   ],
   "source": [
    "# anonymous functions\n",
    "# the lamba statement is used to define simple anonymous functions\n",
    "# map() is very similar to to lapply() in R - it applies a function to the elements of a list\n",
    "char_col_names = map(lambda j: 'char' + str(j+1), range(0, n_vars)) \n",
    "char_col_names"
   ]
  },
  {
   "cell_type": "markdown",
   "metadata": {},
   "source": [
    "#### Create a list of text elements from which to sample"
   ]
  },
  {
   "cell_type": "code",
   "execution_count": 11,
   "metadata": {},
   "outputs": [
    {
     "name": "stdout",
     "output_type": "stream",
     "text": [
      "ABCDEFGHIJKLMNOPQRSTUVWXYZ\n"
     ]
    },
    {
     "data": {
      "text/plain": [
       "['AAAAAAAA',\n",
       " 'BBBBBBBB',\n",
       " 'CCCCCCCC',\n",
       " 'DDDDDDDD',\n",
       " 'EEEEEEEE',\n",
       " 'FFFFFFFF',\n",
       " 'GGGGGGGG']"
      ]
     },
     "execution_count": 11,
     "metadata": {},
     "output_type": "execute_result"
    }
   ],
   "source": [
    "# string.ascii_uppercase is a string constant of uppercase letters\n",
    "print(string.ascii_uppercase)\n",
    "\n",
    "# another list comprehension\n",
    "# slice first seven letters of the string\n",
    "text_draw = [(letter * 8) for letter in string.ascii_uppercase[:7]] \n",
    "text_draw"
   ]
  },
  {
   "cell_type": "markdown",
   "metadata": {},
   "source": [
    "#### Create a random numerical columns directly using numpy\n",
    "The numerical columns will originally be a 2-D numpy array"
   ]
  },
  {
   "cell_type": "code",
   "execution_count": 12,
   "metadata": {},
   "outputs": [
    {
     "data": {
      "text/plain": [
       "array([[-1.846671  ,  1.84830227],\n",
       "       [-0.70740383, -1.00412281],\n",
       "       [-0.09483552, -0.25116307],\n",
       "       [-0.12577991, -1.23737785],\n",
       "       [ 0.38218289, -1.7115725 ]])"
      ]
     },
     "execution_count": 12,
     "metadata": {},
     "output_type": "execute_result"
    }
   ],
   "source": [
    "randoms = np.random.randn(n_rows, n_vars)\n",
    "randoms[0:5]"
   ]
  },
  {
   "cell_type": "code",
   "execution_count": 13,
   "metadata": {},
   "outputs": [
    {
     "data": {
      "text/plain": [
       "numpy.ndarray"
      ]
     },
     "execution_count": 13,
     "metadata": {},
     "output_type": "execute_result"
    }
   ],
   "source": [
    "type(randoms)"
   ]
  },
  {
   "cell_type": "markdown",
   "metadata": {},
   "source": [
    "#### Create numerical columns of Pandas dataframe from numpy array\n",
    "Notice that a key is generated automatically "
   ]
  },
  {
   "cell_type": "code",
   "execution_count": 14,
   "metadata": {},
   "outputs": [
    {
     "data": {
      "text/html": [
       "<div>\n",
       "<table border=\"1\" class=\"dataframe\">\n",
       "  <thead>\n",
       "    <tr style=\"text-align: right;\">\n",
       "      <th></th>\n",
       "      <th>numeric1</th>\n",
       "      <th>numeric2</th>\n",
       "    </tr>\n",
       "  </thead>\n",
       "  <tbody>\n",
       "    <tr>\n",
       "      <th>0</th>\n",
       "      <td>-1.846671</td>\n",
       "      <td>1.848302</td>\n",
       "    </tr>\n",
       "    <tr>\n",
       "      <th>1</th>\n",
       "      <td>-0.707404</td>\n",
       "      <td>-1.004123</td>\n",
       "    </tr>\n",
       "    <tr>\n",
       "      <th>2</th>\n",
       "      <td>-0.094836</td>\n",
       "      <td>-0.251163</td>\n",
       "    </tr>\n",
       "    <tr>\n",
       "      <th>3</th>\n",
       "      <td>-0.125780</td>\n",
       "      <td>-1.237378</td>\n",
       "    </tr>\n",
       "    <tr>\n",
       "      <th>4</th>\n",
       "      <td>0.382183</td>\n",
       "      <td>-1.711572</td>\n",
       "    </tr>\n",
       "  </tbody>\n",
       "</table>\n",
       "</div>"
      ],
      "text/plain": [
       "   numeric1  numeric2\n",
       "0 -1.846671  1.848302\n",
       "1 -0.707404 -1.004123\n",
       "2 -0.094836 -0.251163\n",
       "3 -0.125780 -1.237378\n",
       "4  0.382183 -1.711572"
      ]
     },
     "execution_count": 14,
     "metadata": {},
     "output_type": "execute_result"
    }
   ],
   "source": [
    "num_cols = pd.DataFrame(randoms, columns=num_col_names)\n",
    "num_cols.head()"
   ]
  },
  {
   "cell_type": "code",
   "execution_count": 15,
   "metadata": {},
   "outputs": [
    {
     "data": {
      "text/plain": [
       "pandas.core.frame.DataFrame"
      ]
     },
     "execution_count": 15,
     "metadata": {},
     "output_type": "execute_result"
    }
   ],
   "source": [
    "type(num_cols)"
   ]
  },
  {
   "cell_type": "markdown",
   "metadata": {},
   "source": [
    "#### Create random character columns as a Pandas dataframe\n",
    "* Use a numpy sampling function `choice()` to generate a 2-D numpy array of random text values\n",
    "* Create Pandas dataframe from numpy 2-D array"
   ]
  },
  {
   "cell_type": "code",
   "execution_count": 16,
   "metadata": {},
   "outputs": [
    {
     "data": {
      "text/html": [
       "<div>\n",
       "<table border=\"1\" class=\"dataframe\">\n",
       "  <thead>\n",
       "    <tr style=\"text-align: right;\">\n",
       "      <th></th>\n",
       "      <th>char1</th>\n",
       "      <th>char2</th>\n",
       "    </tr>\n",
       "  </thead>\n",
       "  <tbody>\n",
       "    <tr>\n",
       "      <th>0</th>\n",
       "      <td>EEEEEEEE</td>\n",
       "      <td>AAAAAAAA</td>\n",
       "    </tr>\n",
       "    <tr>\n",
       "      <th>1</th>\n",
       "      <td>DDDDDDDD</td>\n",
       "      <td>DDDDDDDD</td>\n",
       "    </tr>\n",
       "    <tr>\n",
       "      <th>2</th>\n",
       "      <td>AAAAAAAA</td>\n",
       "      <td>DDDDDDDD</td>\n",
       "    </tr>\n",
       "    <tr>\n",
       "      <th>3</th>\n",
       "      <td>DDDDDDDD</td>\n",
       "      <td>FFFFFFFF</td>\n",
       "    </tr>\n",
       "    <tr>\n",
       "      <th>4</th>\n",
       "      <td>CCCCCCCC</td>\n",
       "      <td>FFFFFFFF</td>\n",
       "    </tr>\n",
       "  </tbody>\n",
       "</table>\n",
       "</div>"
      ],
      "text/plain": [
       "      char1     char2\n",
       "0  EEEEEEEE  AAAAAAAA\n",
       "1  DDDDDDDD  DDDDDDDD\n",
       "2  AAAAAAAA  DDDDDDDD\n",
       "3  DDDDDDDD  FFFFFFFF\n",
       "4  CCCCCCCC  FFFFFFFF"
      ]
     },
     "execution_count": 16,
     "metadata": {},
     "output_type": "execute_result"
    }
   ],
   "source": [
    "char_cols = pd.DataFrame(np.random.choice(text_draw, (n_rows, n_vars)), \n",
    "                         columns=char_col_names)\n",
    "char_cols.head()"
   ]
  },
  {
   "cell_type": "markdown",
   "metadata": {},
   "source": [
    "#### Use Pandas `concat()` function to join the numeric and character columns into a new dataframe"
   ]
  },
  {
   "cell_type": "code",
   "execution_count": 17,
   "metadata": {},
   "outputs": [
    {
     "data": {
      "text/html": [
       "<div>\n",
       "<table border=\"1\" class=\"dataframe\">\n",
       "  <thead>\n",
       "    <tr style=\"text-align: right;\">\n",
       "      <th></th>\n",
       "      <th>numeric1</th>\n",
       "      <th>numeric2</th>\n",
       "      <th>char1</th>\n",
       "      <th>char2</th>\n",
       "    </tr>\n",
       "  </thead>\n",
       "  <tbody>\n",
       "    <tr>\n",
       "      <th>0</th>\n",
       "      <td>-1.846671</td>\n",
       "      <td>1.848302</td>\n",
       "      <td>EEEEEEEE</td>\n",
       "      <td>AAAAAAAA</td>\n",
       "    </tr>\n",
       "    <tr>\n",
       "      <th>1</th>\n",
       "      <td>-0.707404</td>\n",
       "      <td>-1.004123</td>\n",
       "      <td>DDDDDDDD</td>\n",
       "      <td>DDDDDDDD</td>\n",
       "    </tr>\n",
       "    <tr>\n",
       "      <th>2</th>\n",
       "      <td>-0.094836</td>\n",
       "      <td>-0.251163</td>\n",
       "      <td>AAAAAAAA</td>\n",
       "      <td>DDDDDDDD</td>\n",
       "    </tr>\n",
       "    <tr>\n",
       "      <th>3</th>\n",
       "      <td>-0.125780</td>\n",
       "      <td>-1.237378</td>\n",
       "      <td>DDDDDDDD</td>\n",
       "      <td>FFFFFFFF</td>\n",
       "    </tr>\n",
       "    <tr>\n",
       "      <th>4</th>\n",
       "      <td>0.382183</td>\n",
       "      <td>-1.711572</td>\n",
       "      <td>CCCCCCCC</td>\n",
       "      <td>FFFFFFFF</td>\n",
       "    </tr>\n",
       "  </tbody>\n",
       "</table>\n",
       "</div>"
      ],
      "text/plain": [
       "   numeric1  numeric2     char1     char2\n",
       "0 -1.846671  1.848302  EEEEEEEE  AAAAAAAA\n",
       "1 -0.707404 -1.004123  DDDDDDDD  DDDDDDDD\n",
       "2 -0.094836 -0.251163  AAAAAAAA  DDDDDDDD\n",
       "3 -0.125780 -1.237378  DDDDDDDD  FFFFFFFF\n",
       "4  0.382183 -1.711572  CCCCCCCC  FFFFFFFF"
      ]
     },
     "execution_count": 17,
     "metadata": {},
     "output_type": "execute_result"
    }
   ],
   "source": [
    "scratch_df = pd.concat([num_cols, char_cols], axis=1)\n",
    "scratch_df.head()"
   ]
  },
  {
   "cell_type": "markdown",
   "metadata": {},
   "source": [
    "***\n",
    "## 4. Plotting variables in a dataframe\n",
    "Pandas has several builtin plotting utilities\n",
    "#### Use Pandas `hist()` method to plot a histogram of numeric1"
   ]
  },
  {
   "cell_type": "code",
   "execution_count": 18,
   "metadata": {},
   "outputs": [
    {
     "data": {
      "text/plain": [
       "<matplotlib.axes._subplots.AxesSubplot at 0xc3b33c8>"
      ]
     },
     "execution_count": 18,
     "metadata": {},
     "output_type": "execute_result"
    },
    {
     "data": {
      "image/png": "[encoded data removed]",
      "text/plain": [
       "<matplotlib.figure.Figure at 0x33c1dd8>"
      ]
     },
     "metadata": {},
     "output_type": "display_data"
    }
   ],
   "source": [
    "# Pandas alllows slicing by dataframes index using ix[]\n",
    "# ix[:, 0] means all rows of the 0th column - or numeric1\n",
    "scratch_df.ix[:, 0].plot.hist(title='Histogram of Numeric1')"
   ]
  },
  {
   "cell_type": "markdown",
   "metadata": {},
   "source": [
    "#### use Pandas `scatter()` method to plot numeric1 vs. numeric2"
   ]
  },
  {
   "cell_type": "code",
   "execution_count": 19,
   "metadata": {},
   "outputs": [
    {
     "data": {
      "text/plain": [
       "<matplotlib.axes._subplots.AxesSubplot at 0xc4f7a20>"
      ]
     },
     "execution_count": 19,
     "metadata": {},
     "output_type": "execute_result"
    },
    {
     "name": "stderr",
     "output_type": "stream",
     "text": [
      "C:\\Anaconda\\lib\\site-packages\\matplotlib\\collections.py:590: FutureWarning: elementwise comparison failed; returning scalar instead, but in the future will perform elementwise comparison\n",
      "  if self._edgecolors == str('face'):\n"
     ]
    },
    {
     "data": {
      "image/png": "[encoded data removed]",
      "text/plain": [
       "<matplotlib.figure.Figure at 0x33c9588>"
      ]
     },
     "metadata": {},
     "output_type": "display_data"
    }
   ],
   "source": [
    "scratch_df.plot.scatter(x='numeric1', y='numeric2',\n",
    "                        title='Numeric1 vs. Numeric2')"
   ]
  },
  {
   "cell_type": "markdown",
   "metadata": {},
   "source": [
    "***\n",
    "## 5. Subsetting Pandas dataframes\n",
    "### By columns\n",
    "#### Subsetting by index"
   ]
  },
  {
   "cell_type": "code",
   "execution_count": 20,
   "metadata": {},
   "outputs": [
    {
     "data": {
      "text/plain": [
       "0   -1.846671\n",
       "1   -0.707404\n",
       "2   -0.094836\n",
       "3   -0.125780\n",
       "4    0.382183\n",
       "Name: numeric1, dtype: float64"
      ]
     },
     "execution_count": 20,
     "metadata": {},
     "output_type": "execute_result"
    }
   ],
   "source": [
    "# one column returns a Pandas series\n",
    "# a Pandas series is like a single column vector\n",
    "scratch_df.iloc[:, 0].head()"
   ]
  },
  {
   "cell_type": "code",
   "execution_count": 21,
   "metadata": {},
   "outputs": [
    {
     "data": {
      "text/plain": [
       "pandas.core.series.Series"
      ]
     },
     "execution_count": 21,
     "metadata": {},
     "output_type": "execute_result"
    }
   ],
   "source": [
    "type(scratch_df.iloc[:, 0])"
   ]
  },
  {
   "cell_type": "code",
   "execution_count": 22,
   "metadata": {},
   "outputs": [
    {
     "data": {
      "text/html": [
       "<div>\n",
       "<table border=\"1\" class=\"dataframe\">\n",
       "  <thead>\n",
       "    <tr style=\"text-align: right;\">\n",
       "      <th></th>\n",
       "      <th>numeric1</th>\n",
       "      <th>numeric2</th>\n",
       "    </tr>\n",
       "  </thead>\n",
       "  <tbody>\n",
       "    <tr>\n",
       "      <th>0</th>\n",
       "      <td>-1.846671</td>\n",
       "      <td>1.848302</td>\n",
       "    </tr>\n",
       "    <tr>\n",
       "      <th>1</th>\n",
       "      <td>-0.707404</td>\n",
       "      <td>-1.004123</td>\n",
       "    </tr>\n",
       "    <tr>\n",
       "      <th>2</th>\n",
       "      <td>-0.094836</td>\n",
       "      <td>-0.251163</td>\n",
       "    </tr>\n",
       "    <tr>\n",
       "      <th>3</th>\n",
       "      <td>-0.125780</td>\n",
       "      <td>-1.237378</td>\n",
       "    </tr>\n",
       "    <tr>\n",
       "      <th>4</th>\n",
       "      <td>0.382183</td>\n",
       "      <td>-1.711572</td>\n",
       "    </tr>\n",
       "  </tbody>\n",
       "</table>\n",
       "</div>"
      ],
      "text/plain": [
       "   numeric1  numeric2\n",
       "0 -1.846671  1.848302\n",
       "1 -0.707404 -1.004123\n",
       "2 -0.094836 -0.251163\n",
       "3 -0.125780 -1.237378\n",
       "4  0.382183 -1.711572"
      ]
     },
     "execution_count": 22,
     "metadata": {},
     "output_type": "execute_result"
    }
   ],
   "source": [
    "# more than one columns makes a dataframe\n",
    "# iloc enables location by index\n",
    "scratch_df.iloc[:, 0:2].head()"
   ]
  },
  {
   "cell_type": "code",
   "execution_count": 23,
   "metadata": {},
   "outputs": [
    {
     "data": {
      "text/plain": [
       "pandas.core.frame.DataFrame"
      ]
     },
     "execution_count": 23,
     "metadata": {},
     "output_type": "execute_result"
    }
   ],
   "source": [
    "type(scratch_df.iloc[:, 0:2])"
   ]
  },
  {
   "cell_type": "markdown",
   "metadata": {},
   "source": [
    "#### Subsetting by variable name"
   ]
  },
  {
   "cell_type": "code",
   "execution_count": 24,
   "metadata": {},
   "outputs": [
    {
     "data": {
      "text/plain": [
       "0   -1.846671\n",
       "1   -0.707404\n",
       "2   -0.094836\n",
       "3   -0.125780\n",
       "4    0.382183\n",
       "Name: numeric1, dtype: float64"
      ]
     },
     "execution_count": 24,
     "metadata": {},
     "output_type": "execute_result"
    }
   ],
   "source": [
    "scratch_df['numeric1'].head()"
   ]
  },
  {
   "cell_type": "code",
   "execution_count": 25,
   "metadata": {},
   "outputs": [
    {
     "data": {
      "text/plain": [
       "0   -1.846671\n",
       "1   -0.707404\n",
       "2   -0.094836\n",
       "3   -0.125780\n",
       "4    0.382183\n",
       "Name: numeric1, dtype: float64"
      ]
     },
     "execution_count": 25,
     "metadata": {},
     "output_type": "execute_result"
    }
   ],
   "source": [
    "scratch_df.numeric1.head()"
   ]
  },
  {
   "cell_type": "code",
   "execution_count": 26,
   "metadata": {},
   "outputs": [
    {
     "data": {
      "text/plain": [
       "0   -1.846671\n",
       "1   -0.707404\n",
       "2   -0.094836\n",
       "3   -0.125780\n",
       "4    0.382183\n",
       "Name: numeric1, dtype: float64"
      ]
     },
     "execution_count": 26,
     "metadata": {},
     "output_type": "execute_result"
    }
   ],
   "source": [
    "# loc[] allows for location by column or row label \n",
    "scratch_df.loc[:, 'numeric1'].head()"
   ]
  },
  {
   "cell_type": "code",
   "execution_count": 27,
   "metadata": {},
   "outputs": [
    {
     "data": {
      "text/html": [
       "<div>\n",
       "<table border=\"1\" class=\"dataframe\">\n",
       "  <thead>\n",
       "    <tr style=\"text-align: right;\">\n",
       "      <th></th>\n",
       "      <th>numeric1</th>\n",
       "      <th>numeric2</th>\n",
       "    </tr>\n",
       "  </thead>\n",
       "  <tbody>\n",
       "    <tr>\n",
       "      <th>0</th>\n",
       "      <td>-1.846671</td>\n",
       "      <td>1.848302</td>\n",
       "    </tr>\n",
       "    <tr>\n",
       "      <th>1</th>\n",
       "      <td>-0.707404</td>\n",
       "      <td>-1.004123</td>\n",
       "    </tr>\n",
       "    <tr>\n",
       "      <th>2</th>\n",
       "      <td>-0.094836</td>\n",
       "      <td>-0.251163</td>\n",
       "    </tr>\n",
       "    <tr>\n",
       "      <th>3</th>\n",
       "      <td>-0.125780</td>\n",
       "      <td>-1.237378</td>\n",
       "    </tr>\n",
       "    <tr>\n",
       "      <th>4</th>\n",
       "      <td>0.382183</td>\n",
       "      <td>-1.711572</td>\n",
       "    </tr>\n",
       "  </tbody>\n",
       "</table>\n",
       "</div>"
      ],
      "text/plain": [
       "   numeric1  numeric2\n",
       "0 -1.846671  1.848302\n",
       "1 -0.707404 -1.004123\n",
       "2 -0.094836 -0.251163\n",
       "3 -0.125780 -1.237378\n",
       "4  0.382183 -1.711572"
      ]
     },
     "execution_count": 27,
     "metadata": {},
     "output_type": "execute_result"
    }
   ],
   "source": [
    "# loc can accept lists as an input\n",
    "scratch_df.loc[:, ['numeric1', 'numeric2']].head()"
   ]
  },
  {
   "cell_type": "markdown",
   "metadata": {},
   "source": [
    "### By rows\n",
    "#### Subsetting by index"
   ]
  },
  {
   "cell_type": "code",
   "execution_count": 28,
   "metadata": {},
   "outputs": [
    {
     "data": {
      "text/html": [
       "<div>\n",
       "<table border=\"1\" class=\"dataframe\">\n",
       "  <thead>\n",
       "    <tr style=\"text-align: right;\">\n",
       "      <th></th>\n",
       "      <th>numeric1</th>\n",
       "      <th>numeric2</th>\n",
       "      <th>char1</th>\n",
       "      <th>char2</th>\n",
       "    </tr>\n",
       "  </thead>\n",
       "  <tbody>\n",
       "    <tr>\n",
       "      <th>0</th>\n",
       "      <td>-1.846671</td>\n",
       "      <td>1.848302</td>\n",
       "      <td>EEEEEEEE</td>\n",
       "      <td>AAAAAAAA</td>\n",
       "    </tr>\n",
       "    <tr>\n",
       "      <th>1</th>\n",
       "      <td>-0.707404</td>\n",
       "      <td>-1.004123</td>\n",
       "      <td>DDDDDDDD</td>\n",
       "      <td>DDDDDDDD</td>\n",
       "    </tr>\n",
       "    <tr>\n",
       "      <th>2</th>\n",
       "      <td>-0.094836</td>\n",
       "      <td>-0.251163</td>\n",
       "      <td>AAAAAAAA</td>\n",
       "      <td>DDDDDDDD</td>\n",
       "    </tr>\n",
       "  </tbody>\n",
       "</table>\n",
       "</div>"
      ],
      "text/plain": [
       "   numeric1  numeric2     char1     char2\n",
       "0 -1.846671  1.848302  EEEEEEEE  AAAAAAAA\n",
       "1 -0.707404 -1.004123  DDDDDDDD  DDDDDDDD\n",
       "2 -0.094836 -0.251163  AAAAAAAA  DDDDDDDD"
      ]
     },
     "execution_count": 28,
     "metadata": {},
     "output_type": "execute_result"
    }
   ],
   "source": [
    "scratch_df[0:3]"
   ]
  },
  {
   "cell_type": "code",
   "execution_count": 29,
   "metadata": {},
   "outputs": [
    {
     "data": {
      "text/html": [
       "<div>\n",
       "<table border=\"1\" class=\"dataframe\">\n",
       "  <thead>\n",
       "    <tr style=\"text-align: right;\">\n",
       "      <th></th>\n",
       "      <th>numeric1</th>\n",
       "      <th>numeric2</th>\n",
       "      <th>char1</th>\n",
       "      <th>char2</th>\n",
       "    </tr>\n",
       "  </thead>\n",
       "  <tbody>\n",
       "    <tr>\n",
       "      <th>0</th>\n",
       "      <td>-1.846671</td>\n",
       "      <td>1.848302</td>\n",
       "      <td>EEEEEEEE</td>\n",
       "      <td>AAAAAAAA</td>\n",
       "    </tr>\n",
       "    <tr>\n",
       "      <th>1</th>\n",
       "      <td>-0.707404</td>\n",
       "      <td>-1.004123</td>\n",
       "      <td>DDDDDDDD</td>\n",
       "      <td>DDDDDDDD</td>\n",
       "    </tr>\n",
       "    <tr>\n",
       "      <th>2</th>\n",
       "      <td>-0.094836</td>\n",
       "      <td>-0.251163</td>\n",
       "      <td>AAAAAAAA</td>\n",
       "      <td>DDDDDDDD</td>\n",
       "    </tr>\n",
       "    <tr>\n",
       "      <th>3</th>\n",
       "      <td>-0.125780</td>\n",
       "      <td>-1.237378</td>\n",
       "      <td>DDDDDDDD</td>\n",
       "      <td>FFFFFFFF</td>\n",
       "    </tr>\n",
       "    <tr>\n",
       "      <th>4</th>\n",
       "      <td>0.382183</td>\n",
       "      <td>-1.711572</td>\n",
       "      <td>CCCCCCCC</td>\n",
       "      <td>FFFFFFFF</td>\n",
       "    </tr>\n",
       "  </tbody>\n",
       "</table>\n",
       "</div>"
      ],
      "text/plain": [
       "   numeric1  numeric2     char1     char2\n",
       "0 -1.846671  1.848302  EEEEEEEE  AAAAAAAA\n",
       "1 -0.707404 -1.004123  DDDDDDDD  DDDDDDDD\n",
       "2 -0.094836 -0.251163  AAAAAAAA  DDDDDDDD\n",
       "3 -0.125780 -1.237378  DDDDDDDD  FFFFFFFF\n",
       "4  0.382183 -1.711572  CCCCCCCC  FFFFFFFF"
      ]
     },
     "execution_count": 29,
     "metadata": {},
     "output_type": "execute_result"
    }
   ],
   "source": [
    "# Selecting by index \n",
    "scratch_df.iloc[0:5, :] "
   ]
  },
  {
   "cell_type": "code",
   "execution_count": 30,
   "metadata": {},
   "outputs": [
    {
     "data": {
      "text/html": [
       "<div>\n",
       "<table border=\"1\" class=\"dataframe\">\n",
       "  <thead>\n",
       "    <tr style=\"text-align: right;\">\n",
       "      <th></th>\n",
       "      <th>numeric1</th>\n",
       "      <th>numeric2</th>\n",
       "      <th>char1</th>\n",
       "      <th>char2</th>\n",
       "    </tr>\n",
       "  </thead>\n",
       "  <tbody>\n",
       "    <tr>\n",
       "      <th>0</th>\n",
       "      <td>-1.846671</td>\n",
       "      <td>1.848302</td>\n",
       "      <td>EEEEEEEE</td>\n",
       "      <td>AAAAAAAA</td>\n",
       "    </tr>\n",
       "    <tr>\n",
       "      <th>1</th>\n",
       "      <td>-0.707404</td>\n",
       "      <td>-1.004123</td>\n",
       "      <td>DDDDDDDD</td>\n",
       "      <td>DDDDDDDD</td>\n",
       "    </tr>\n",
       "    <tr>\n",
       "      <th>2</th>\n",
       "      <td>-0.094836</td>\n",
       "      <td>-0.251163</td>\n",
       "      <td>AAAAAAAA</td>\n",
       "      <td>DDDDDDDD</td>\n",
       "    </tr>\n",
       "    <tr>\n",
       "      <th>3</th>\n",
       "      <td>-0.125780</td>\n",
       "      <td>-1.237378</td>\n",
       "      <td>DDDDDDDD</td>\n",
       "      <td>FFFFFFFF</td>\n",
       "    </tr>\n",
       "    <tr>\n",
       "      <th>4</th>\n",
       "      <td>0.382183</td>\n",
       "      <td>-1.711572</td>\n",
       "      <td>CCCCCCCC</td>\n",
       "      <td>FFFFFFFF</td>\n",
       "    </tr>\n",
       "    <tr>\n",
       "      <th>5</th>\n",
       "      <td>-0.661172</td>\n",
       "      <td>-0.124998</td>\n",
       "      <td>FFFFFFFF</td>\n",
       "      <td>GGGGGGGG</td>\n",
       "    </tr>\n",
       "  </tbody>\n",
       "</table>\n",
       "</div>"
      ],
      "text/plain": [
       "   numeric1  numeric2     char1     char2\n",
       "0 -1.846671  1.848302  EEEEEEEE  AAAAAAAA\n",
       "1 -0.707404 -1.004123  DDDDDDDD  DDDDDDDD\n",
       "2 -0.094836 -0.251163  AAAAAAAA  DDDDDDDD\n",
       "3 -0.125780 -1.237378  DDDDDDDD  FFFFFFFF\n",
       "4  0.382183 -1.711572  CCCCCCCC  FFFFFFFF\n",
       "5 -0.661172 -0.124998  FFFFFFFF  GGGGGGGG"
      ]
     },
     "execution_count": 30,
     "metadata": {},
     "output_type": "execute_result"
    }
   ],
   "source": [
    "# select by row label\n",
    "# here index/key values 0:5 are returned\n",
    "scratch_df.loc[0:5, :]"
   ]
  },
  {
   "cell_type": "markdown",
   "metadata": {},
   "source": [
    "#### Boolean subsetting"
   ]
  },
  {
   "cell_type": "code",
   "execution_count": 31,
   "metadata": {},
   "outputs": [
    {
     "data": {
      "text/html": [
       "<div>\n",
       "<table border=\"1\" class=\"dataframe\">\n",
       "  <thead>\n",
       "    <tr style=\"text-align: right;\">\n",
       "      <th></th>\n",
       "      <th>numeric1</th>\n",
       "      <th>numeric2</th>\n",
       "      <th>char1</th>\n",
       "      <th>char2</th>\n",
       "    </tr>\n",
       "  </thead>\n",
       "  <tbody>\n",
       "    <tr>\n",
       "      <th>0</th>\n",
       "      <td>-1.846671</td>\n",
       "      <td>1.848302</td>\n",
       "      <td>EEEEEEEE</td>\n",
       "      <td>AAAAAAAA</td>\n",
       "    </tr>\n",
       "    <tr>\n",
       "      <th>7</th>\n",
       "      <td>-0.135225</td>\n",
       "      <td>0.982267</td>\n",
       "      <td>CCCCCCCC</td>\n",
       "      <td>EEEEEEEE</td>\n",
       "    </tr>\n",
       "    <tr>\n",
       "      <th>9</th>\n",
       "      <td>0.534110</td>\n",
       "      <td>0.430327</td>\n",
       "      <td>AAAAAAAA</td>\n",
       "      <td>FFFFFFFF</td>\n",
       "    </tr>\n",
       "    <tr>\n",
       "      <th>11</th>\n",
       "      <td>-0.957339</td>\n",
       "      <td>0.435087</td>\n",
       "      <td>EEEEEEEE</td>\n",
       "      <td>BBBBBBBB</td>\n",
       "    </tr>\n",
       "    <tr>\n",
       "      <th>12</th>\n",
       "      <td>0.390665</td>\n",
       "      <td>0.408823</td>\n",
       "      <td>GGGGGGGG</td>\n",
       "      <td>FFFFFFFF</td>\n",
       "    </tr>\n",
       "  </tbody>\n",
       "</table>\n",
       "</div>"
      ],
      "text/plain": [
       "    numeric1  numeric2     char1     char2\n",
       "0  -1.846671  1.848302  EEEEEEEE  AAAAAAAA\n",
       "7  -0.135225  0.982267  CCCCCCCC  EEEEEEEE\n",
       "9   0.534110  0.430327  AAAAAAAA  FFFFFFFF\n",
       "11 -0.957339  0.435087  EEEEEEEE  BBBBBBBB\n",
       "12  0.390665  0.408823  GGGGGGGG  FFFFFFFF"
      ]
     },
     "execution_count": 31,
     "metadata": {},
     "output_type": "execute_result"
    }
   ],
   "source": [
    "scratch_df[scratch_df.numeric2 > 0].head()"
   ]
  },
  {
   "cell_type": "code",
   "execution_count": 32,
   "metadata": {},
   "outputs": [
    {
     "data": {
      "text/html": [
       "<div>\n",
       "<table border=\"1\" class=\"dataframe\">\n",
       "  <thead>\n",
       "    <tr style=\"text-align: right;\">\n",
       "      <th></th>\n",
       "      <th>numeric1</th>\n",
       "      <th>numeric2</th>\n",
       "      <th>char1</th>\n",
       "      <th>char2</th>\n",
       "    </tr>\n",
       "  </thead>\n",
       "  <tbody>\n",
       "    <tr>\n",
       "      <th>2</th>\n",
       "      <td>-0.094836</td>\n",
       "      <td>-0.251163</td>\n",
       "      <td>AAAAAAAA</td>\n",
       "      <td>DDDDDDDD</td>\n",
       "    </tr>\n",
       "    <tr>\n",
       "      <th>8</th>\n",
       "      <td>0.565589</td>\n",
       "      <td>-1.405314</td>\n",
       "      <td>AAAAAAAA</td>\n",
       "      <td>EEEEEEEE</td>\n",
       "    </tr>\n",
       "    <tr>\n",
       "      <th>9</th>\n",
       "      <td>0.534110</td>\n",
       "      <td>0.430327</td>\n",
       "      <td>AAAAAAAA</td>\n",
       "      <td>FFFFFFFF</td>\n",
       "    </tr>\n",
       "    <tr>\n",
       "      <th>21</th>\n",
       "      <td>-0.121501</td>\n",
       "      <td>-0.906697</td>\n",
       "      <td>AAAAAAAA</td>\n",
       "      <td>GGGGGGGG</td>\n",
       "    </tr>\n",
       "    <tr>\n",
       "      <th>26</th>\n",
       "      <td>2.096871</td>\n",
       "      <td>1.511935</td>\n",
       "      <td>AAAAAAAA</td>\n",
       "      <td>CCCCCCCC</td>\n",
       "    </tr>\n",
       "  </tbody>\n",
       "</table>\n",
       "</div>"
      ],
      "text/plain": [
       "    numeric1  numeric2     char1     char2\n",
       "2  -0.094836 -0.251163  AAAAAAAA  DDDDDDDD\n",
       "8   0.565589 -1.405314  AAAAAAAA  EEEEEEEE\n",
       "9   0.534110  0.430327  AAAAAAAA  FFFFFFFF\n",
       "21 -0.121501 -0.906697  AAAAAAAA  GGGGGGGG\n",
       "26  2.096871  1.511935  AAAAAAAA  CCCCCCCC"
      ]
     },
     "execution_count": 32,
     "metadata": {},
     "output_type": "execute_result"
    }
   ],
   "source": [
    "scratch_df[scratch_df.char1 == 'AAAAAAAA'].head()"
   ]
  },
  {
   "cell_type": "code",
   "execution_count": 33,
   "metadata": {},
   "outputs": [
    {
     "data": {
      "text/html": [
       "<div>\n",
       "<table border=\"1\" class=\"dataframe\">\n",
       "  <thead>\n",
       "    <tr style=\"text-align: right;\">\n",
       "      <th></th>\n",
       "      <th>numeric1</th>\n",
       "      <th>numeric2</th>\n",
       "      <th>char1</th>\n",
       "      <th>char2</th>\n",
       "    </tr>\n",
       "  </thead>\n",
       "  <tbody>\n",
       "    <tr>\n",
       "      <th>2</th>\n",
       "      <td>-0.094836</td>\n",
       "      <td>-0.251163</td>\n",
       "      <td>AAAAAAAA</td>\n",
       "      <td>DDDDDDDD</td>\n",
       "    </tr>\n",
       "    <tr>\n",
       "      <th>8</th>\n",
       "      <td>0.565589</td>\n",
       "      <td>-1.405314</td>\n",
       "      <td>AAAAAAAA</td>\n",
       "      <td>EEEEEEEE</td>\n",
       "    </tr>\n",
       "    <tr>\n",
       "      <th>9</th>\n",
       "      <td>0.534110</td>\n",
       "      <td>0.430327</td>\n",
       "      <td>AAAAAAAA</td>\n",
       "      <td>FFFFFFFF</td>\n",
       "    </tr>\n",
       "    <tr>\n",
       "      <th>13</th>\n",
       "      <td>-0.679535</td>\n",
       "      <td>-1.710162</td>\n",
       "      <td>BBBBBBBB</td>\n",
       "      <td>EEEEEEEE</td>\n",
       "    </tr>\n",
       "    <tr>\n",
       "      <th>21</th>\n",
       "      <td>-0.121501</td>\n",
       "      <td>-0.906697</td>\n",
       "      <td>AAAAAAAA</td>\n",
       "      <td>GGGGGGGG</td>\n",
       "    </tr>\n",
       "  </tbody>\n",
       "</table>\n",
       "</div>"
      ],
      "text/plain": [
       "    numeric1  numeric2     char1     char2\n",
       "2  -0.094836 -0.251163  AAAAAAAA  DDDDDDDD\n",
       "8   0.565589 -1.405314  AAAAAAAA  EEEEEEEE\n",
       "9   0.534110  0.430327  AAAAAAAA  FFFFFFFF\n",
       "13 -0.679535 -1.710162  BBBBBBBB  EEEEEEEE\n",
       "21 -0.121501 -0.906697  AAAAAAAA  GGGGGGGG"
      ]
     },
     "execution_count": 33,
     "metadata": {},
     "output_type": "execute_result"
    }
   ],
   "source": [
    "scratch_df[scratch_df.char1.isin(['AAAAAAAA', 'BBBBBBBB'])].head()"
   ]
  },
  {
   "cell_type": "code",
   "execution_count": 34,
   "metadata": {},
   "outputs": [
    {
     "data": {
      "text/plain": [
       "7    EEEEEEEE\n",
       "9    FFFFFFFF\n",
       "Name: char2, dtype: object"
      ]
     },
     "execution_count": 34,
     "metadata": {},
     "output_type": "execute_result"
    }
   ],
   "source": [
    "scratch_df[scratch_df.numeric2 > 0].loc[5:10, 'char2']"
   ]
  },
  {
   "cell_type": "markdown",
   "metadata": {},
   "source": [
    "***\n",
    "## 6. Updating the dataframe"
   ]
  },
  {
   "cell_type": "code",
   "execution_count": 35,
   "metadata": {},
   "outputs": [
    {
     "data": {
      "text/html": [
       "<div>\n",
       "<table border=\"1\" class=\"dataframe\">\n",
       "  <thead>\n",
       "    <tr style=\"text-align: right;\">\n",
       "      <th></th>\n",
       "      <th>numeric1</th>\n",
       "      <th>numeric2</th>\n",
       "      <th>char1</th>\n",
       "      <th>char2</th>\n",
       "    </tr>\n",
       "  </thead>\n",
       "  <tbody>\n",
       "    <tr>\n",
       "      <th>995</th>\n",
       "      <td>2.537433</td>\n",
       "      <td>1.944461</td>\n",
       "      <td>ZZZZZZZZ</td>\n",
       "      <td>DDDDDDDD</td>\n",
       "    </tr>\n",
       "    <tr>\n",
       "      <th>996</th>\n",
       "      <td>1.550140</td>\n",
       "      <td>-0.074913</td>\n",
       "      <td>ZZZZZZZZ</td>\n",
       "      <td>FFFFFFFF</td>\n",
       "    </tr>\n",
       "    <tr>\n",
       "      <th>997</th>\n",
       "      <td>2.759164</td>\n",
       "      <td>-0.211622</td>\n",
       "      <td>ZZZZZZZZ</td>\n",
       "      <td>CCCCCCCC</td>\n",
       "    </tr>\n",
       "    <tr>\n",
       "      <th>998</th>\n",
       "      <td>2.095885</td>\n",
       "      <td>-0.700426</td>\n",
       "      <td>ZZZZZZZZ</td>\n",
       "      <td>BBBBBBBB</td>\n",
       "    </tr>\n",
       "    <tr>\n",
       "      <th>999</th>\n",
       "      <td>1.866174</td>\n",
       "      <td>0.539002</td>\n",
       "      <td>ZZZZZZZZ</td>\n",
       "      <td>AAAAAAAA</td>\n",
       "    </tr>\n",
       "  </tbody>\n",
       "</table>\n",
       "</div>"
      ],
      "text/plain": [
       "     numeric1  numeric2     char1     char2\n",
       "995  2.537433  1.944461  ZZZZZZZZ  DDDDDDDD\n",
       "996  1.550140 -0.074913  ZZZZZZZZ  FFFFFFFF\n",
       "997  2.759164 -0.211622  ZZZZZZZZ  CCCCCCCC\n",
       "998  2.095885 -0.700426  ZZZZZZZZ  BBBBBBBB\n",
       "999  1.866174  0.539002  ZZZZZZZZ  AAAAAAAA"
      ]
     },
     "execution_count": 35,
     "metadata": {},
     "output_type": "execute_result"
    }
   ],
   "source": [
    "# must use .copy() or this will be a symbolic link\n",
    "scratch_df2 = scratch_df.copy()\n",
    "\n",
    "# Pandas supports in place overwrites of data\n",
    "# overwrite last 500 rows of char1 with ZZZZZZZZ\n",
    "scratch_df2.loc[500:, 'char1'] = 'ZZZZZZZZ'\n",
    "scratch_df2.tail()"
   ]
  },
  {
   "cell_type": "code",
   "execution_count": 36,
   "metadata": {},
   "outputs": [
    {
     "data": {
      "text/html": [
       "<div>\n",
       "<table border=\"1\" class=\"dataframe\">\n",
       "  <thead>\n",
       "    <tr style=\"text-align: right;\">\n",
       "      <th></th>\n",
       "      <th>numeric1</th>\n",
       "      <th>numeric2</th>\n",
       "      <th>char1</th>\n",
       "      <th>char2</th>\n",
       "    </tr>\n",
       "  </thead>\n",
       "  <tbody>\n",
       "    <tr>\n",
       "      <th>0</th>\n",
       "      <td>1000.000000</td>\n",
       "      <td>1.848302</td>\n",
       "      <td>EEEEEEEE</td>\n",
       "      <td>AAAAAAAA</td>\n",
       "    </tr>\n",
       "    <tr>\n",
       "      <th>1</th>\n",
       "      <td>-0.707404</td>\n",
       "      <td>-1.004123</td>\n",
       "      <td>DDDDDDDD</td>\n",
       "      <td>DDDDDDDD</td>\n",
       "    </tr>\n",
       "    <tr>\n",
       "      <th>2</th>\n",
       "      <td>-0.094836</td>\n",
       "      <td>-0.251163</td>\n",
       "      <td>AAAAAAAA</td>\n",
       "      <td>DDDDDDDD</td>\n",
       "    </tr>\n",
       "    <tr>\n",
       "      <th>3</th>\n",
       "      <td>-0.125780</td>\n",
       "      <td>-1.237378</td>\n",
       "      <td>DDDDDDDD</td>\n",
       "      <td>FFFFFFFF</td>\n",
       "    </tr>\n",
       "    <tr>\n",
       "      <th>4</th>\n",
       "      <td>0.382183</td>\n",
       "      <td>-1.711572</td>\n",
       "      <td>CCCCCCCC</td>\n",
       "      <td>FFFFFFFF</td>\n",
       "    </tr>\n",
       "  </tbody>\n",
       "</table>\n",
       "</div>"
      ],
      "text/plain": [
       "      numeric1  numeric2     char1     char2\n",
       "0  1000.000000  1.848302  EEEEEEEE  AAAAAAAA\n",
       "1    -0.707404 -1.004123  DDDDDDDD  DDDDDDDD\n",
       "2    -0.094836 -0.251163  AAAAAAAA  DDDDDDDD\n",
       "3    -0.125780 -1.237378  DDDDDDDD  FFFFFFFF\n",
       "4     0.382183 -1.711572  CCCCCCCC  FFFFFFFF"
      ]
     },
     "execution_count": 36,
     "metadata": {},
     "output_type": "execute_result"
    }
   ],
   "source": [
    "# iat[] allows for fast location of specific indices\n",
    "scratch_df2.iat[0, 0] = 1000\n",
    "scratch_df2.head()"
   ]
  },
  {
   "cell_type": "markdown",
   "metadata": {},
   "source": [
    "***\n",
    "## 7. Sorting the dataframe\n",
    "#### Sort by values of one variable"
   ]
  },
  {
   "cell_type": "code",
   "execution_count": 37,
   "metadata": {},
   "outputs": [
    {
     "data": {
      "text/html": [
       "<div>\n",
       "<table border=\"1\" class=\"dataframe\">\n",
       "  <thead>\n",
       "    <tr style=\"text-align: right;\">\n",
       "      <th></th>\n",
       "      <th>numeric1</th>\n",
       "      <th>numeric2</th>\n",
       "      <th>char1</th>\n",
       "      <th>char2</th>\n",
       "    </tr>\n",
       "  </thead>\n",
       "  <tbody>\n",
       "    <tr>\n",
       "      <th>499</th>\n",
       "      <td>0.199489</td>\n",
       "      <td>-1.008574</td>\n",
       "      <td>AAAAAAAA</td>\n",
       "      <td>DDDDDDDD</td>\n",
       "    </tr>\n",
       "    <tr>\n",
       "      <th>225</th>\n",
       "      <td>0.531949</td>\n",
       "      <td>-1.267235</td>\n",
       "      <td>AAAAAAAA</td>\n",
       "      <td>DDDDDDDD</td>\n",
       "    </tr>\n",
       "    <tr>\n",
       "      <th>347</th>\n",
       "      <td>-0.643377</td>\n",
       "      <td>-0.165108</td>\n",
       "      <td>AAAAAAAA</td>\n",
       "      <td>AAAAAAAA</td>\n",
       "    </tr>\n",
       "    <tr>\n",
       "      <th>103</th>\n",
       "      <td>0.666005</td>\n",
       "      <td>0.631195</td>\n",
       "      <td>AAAAAAAA</td>\n",
       "      <td>BBBBBBBB</td>\n",
       "    </tr>\n",
       "    <tr>\n",
       "      <th>102</th>\n",
       "      <td>-0.924382</td>\n",
       "      <td>1.784032</td>\n",
       "      <td>AAAAAAAA</td>\n",
       "      <td>CCCCCCCC</td>\n",
       "    </tr>\n",
       "  </tbody>\n",
       "</table>\n",
       "</div>"
      ],
      "text/plain": [
       "     numeric1  numeric2     char1     char2\n",
       "499  0.199489 -1.008574  AAAAAAAA  DDDDDDDD\n",
       "225  0.531949 -1.267235  AAAAAAAA  DDDDDDDD\n",
       "347 -0.643377 -0.165108  AAAAAAAA  AAAAAAAA\n",
       "103  0.666005  0.631195  AAAAAAAA  BBBBBBBB\n",
       "102 -0.924382  1.784032  AAAAAAAA  CCCCCCCC"
      ]
     },
     "execution_count": 37,
     "metadata": {},
     "output_type": "execute_result"
    }
   ],
   "source": [
    "scratch_df2.sort_values(by='char1').head()"
   ]
  },
  {
   "cell_type": "markdown",
   "metadata": {},
   "source": [
    "#### Sort by values of multiple variables and specify sort order"
   ]
  },
  {
   "cell_type": "code",
   "execution_count": 38,
   "metadata": {},
   "outputs": [
    {
     "data": {
      "text/html": [
       "<div>\n",
       "<table border=\"1\" class=\"dataframe\">\n",
       "  <thead>\n",
       "    <tr style=\"text-align: right;\">\n",
       "      <th></th>\n",
       "      <th>numeric1</th>\n",
       "      <th>numeric2</th>\n",
       "      <th>char1</th>\n",
       "      <th>char2</th>\n",
       "    </tr>\n",
       "  </thead>\n",
       "  <tbody>\n",
       "    <tr>\n",
       "      <th>533</th>\n",
       "      <td>-3.490143</td>\n",
       "      <td>1.699398</td>\n",
       "      <td>ZZZZZZZZ</td>\n",
       "      <td>EEEEEEEE</td>\n",
       "    </tr>\n",
       "    <tr>\n",
       "      <th>605</th>\n",
       "      <td>-2.669272</td>\n",
       "      <td>-0.577942</td>\n",
       "      <td>ZZZZZZZZ</td>\n",
       "      <td>GGGGGGGG</td>\n",
       "    </tr>\n",
       "    <tr>\n",
       "      <th>759</th>\n",
       "      <td>-2.455348</td>\n",
       "      <td>-0.499223</td>\n",
       "      <td>ZZZZZZZZ</td>\n",
       "      <td>GGGGGGGG</td>\n",
       "    </tr>\n",
       "    <tr>\n",
       "      <th>630</th>\n",
       "      <td>-2.426346</td>\n",
       "      <td>0.238347</td>\n",
       "      <td>ZZZZZZZZ</td>\n",
       "      <td>EEEEEEEE</td>\n",
       "    </tr>\n",
       "    <tr>\n",
       "      <th>884</th>\n",
       "      <td>-2.409502</td>\n",
       "      <td>0.063437</td>\n",
       "      <td>ZZZZZZZZ</td>\n",
       "      <td>BBBBBBBB</td>\n",
       "    </tr>\n",
       "  </tbody>\n",
       "</table>\n",
       "</div>"
      ],
      "text/plain": [
       "     numeric1  numeric2     char1     char2\n",
       "533 -3.490143  1.699398  ZZZZZZZZ  EEEEEEEE\n",
       "605 -2.669272 -0.577942  ZZZZZZZZ  GGGGGGGG\n",
       "759 -2.455348 -0.499223  ZZZZZZZZ  GGGGGGGG\n",
       "630 -2.426346  0.238347  ZZZZZZZZ  EEEEEEEE\n",
       "884 -2.409502  0.063437  ZZZZZZZZ  BBBBBBBB"
      ]
     },
     "execution_count": 38,
     "metadata": {},
     "output_type": "execute_result"
    }
   ],
   "source": [
    "scratch_df3 = scratch_df2.sort_values(by=['char1', 'numeric1'],\n",
    "                            ascending=[False, True]).copy()\n",
    "scratch_df3.head()"
   ]
  },
  {
   "cell_type": "markdown",
   "metadata": {},
   "source": [
    "#### Sort by the value of the dataframe index"
   ]
  },
  {
   "cell_type": "code",
   "execution_count": 39,
   "metadata": {},
   "outputs": [
    {
     "data": {
      "text/html": [
       "<div>\n",
       "<table border=\"1\" class=\"dataframe\">\n",
       "  <thead>\n",
       "    <tr style=\"text-align: right;\">\n",
       "      <th></th>\n",
       "      <th>numeric1</th>\n",
       "      <th>numeric2</th>\n",
       "      <th>char1</th>\n",
       "      <th>char2</th>\n",
       "    </tr>\n",
       "  </thead>\n",
       "  <tbody>\n",
       "    <tr>\n",
       "      <th>0</th>\n",
       "      <td>1000.000000</td>\n",
       "      <td>1.848302</td>\n",
       "      <td>EEEEEEEE</td>\n",
       "      <td>AAAAAAAA</td>\n",
       "    </tr>\n",
       "    <tr>\n",
       "      <th>1</th>\n",
       "      <td>-0.707404</td>\n",
       "      <td>-1.004123</td>\n",
       "      <td>DDDDDDDD</td>\n",
       "      <td>DDDDDDDD</td>\n",
       "    </tr>\n",
       "    <tr>\n",
       "      <th>2</th>\n",
       "      <td>-0.094836</td>\n",
       "      <td>-0.251163</td>\n",
       "      <td>AAAAAAAA</td>\n",
       "      <td>DDDDDDDD</td>\n",
       "    </tr>\n",
       "    <tr>\n",
       "      <th>3</th>\n",
       "      <td>-0.125780</td>\n",
       "      <td>-1.237378</td>\n",
       "      <td>DDDDDDDD</td>\n",
       "      <td>FFFFFFFF</td>\n",
       "    </tr>\n",
       "    <tr>\n",
       "      <th>4</th>\n",
       "      <td>0.382183</td>\n",
       "      <td>-1.711572</td>\n",
       "      <td>CCCCCCCC</td>\n",
       "      <td>FFFFFFFF</td>\n",
       "    </tr>\n",
       "  </tbody>\n",
       "</table>\n",
       "</div>"
      ],
      "text/plain": [
       "      numeric1  numeric2     char1     char2\n",
       "0  1000.000000  1.848302  EEEEEEEE  AAAAAAAA\n",
       "1    -0.707404 -1.004123  DDDDDDDD  DDDDDDDD\n",
       "2    -0.094836 -0.251163  AAAAAAAA  DDDDDDDD\n",
       "3    -0.125780 -1.237378  DDDDDDDD  FFFFFFFF\n",
       "4     0.382183 -1.711572  CCCCCCCC  FFFFFFFF"
      ]
     },
     "execution_count": 39,
     "metadata": {},
     "output_type": "execute_result"
    }
   ],
   "source": [
    "scratch_df2.sort_index().head()"
   ]
  },
  {
   "cell_type": "markdown",
   "metadata": {},
   "source": [
    "***\n",
    "## 8. Adding data to the dataframe\n",
    "* Pandas `concat()` supports numerous types of joins and merges\n",
    "* Pandas `merge()` supports joins and merges using more SQL-like syntax \n",
    "  * i.e. `merge(left, right, on=)`\n",
    "* Pandas `append()` supports stacking dataframes top-to-bottom"
   ]
  },
  {
   "cell_type": "code",
   "execution_count": 40,
   "metadata": {},
   "outputs": [
    {
     "data": {
      "text/html": [
       "<div>\n",
       "<table border=\"1\" class=\"dataframe\">\n",
       "  <thead>\n",
       "    <tr style=\"text-align: right;\">\n",
       "      <th></th>\n",
       "      <th>char3</th>\n",
       "      <th>char4</th>\n",
       "    </tr>\n",
       "  </thead>\n",
       "  <tbody>\n",
       "    <tr>\n",
       "      <th>286</th>\n",
       "      <td>AAAAAAAA</td>\n",
       "      <td>AAAAAAAA</td>\n",
       "    </tr>\n",
       "    <tr>\n",
       "      <th>172</th>\n",
       "      <td>AAAAAAAA</td>\n",
       "      <td>AAAAAAAA</td>\n",
       "    </tr>\n",
       "    <tr>\n",
       "      <th>26</th>\n",
       "      <td>AAAAAAAA</td>\n",
       "      <td>CCCCCCCC</td>\n",
       "    </tr>\n",
       "    <tr>\n",
       "      <th>228</th>\n",
       "      <td>AAAAAAAA</td>\n",
       "      <td>GGGGGGGG</td>\n",
       "    </tr>\n",
       "    <tr>\n",
       "      <th>117</th>\n",
       "      <td>AAAAAAAA</td>\n",
       "      <td>GGGGGGGG</td>\n",
       "    </tr>\n",
       "  </tbody>\n",
       "</table>\n",
       "</div>"
      ],
      "text/plain": [
       "        char3     char4\n",
       "286  AAAAAAAA  AAAAAAAA\n",
       "172  AAAAAAAA  AAAAAAAA\n",
       "26   AAAAAAAA  CCCCCCCC\n",
       "228  AAAAAAAA  GGGGGGGG\n",
       "117  AAAAAAAA  GGGGGGGG"
      ]
     },
     "execution_count": 40,
     "metadata": {},
     "output_type": "execute_result"
    }
   ],
   "source": [
    "# create a toy dataframe to join/merge onto scratch_df\n",
    "scratch_df3 = scratch_df3.drop(['numeric1', 'numeric2'] , axis=1)\n",
    "scratch_df3.columns = ['char3', 'char4']\n",
    "scratch_df3.tail()"
   ]
  },
  {
   "cell_type": "code",
   "execution_count": 41,
   "metadata": {},
   "outputs": [
    {
     "data": {
      "text/html": [
       "<div>\n",
       "<table border=\"1\" class=\"dataframe\">\n",
       "  <thead>\n",
       "    <tr style=\"text-align: right;\">\n",
       "      <th></th>\n",
       "      <th>char1</th>\n",
       "      <th>char2</th>\n",
       "      <th>char3</th>\n",
       "      <th>char4</th>\n",
       "      <th>numeric1</th>\n",
       "      <th>numeric2</th>\n",
       "    </tr>\n",
       "  </thead>\n",
       "  <tbody>\n",
       "    <tr>\n",
       "      <th>0</th>\n",
       "      <td>EEEEEEEE</td>\n",
       "      <td>AAAAAAAA</td>\n",
       "      <td>NaN</td>\n",
       "      <td>NaN</td>\n",
       "      <td>-1.846671</td>\n",
       "      <td>1.848302</td>\n",
       "    </tr>\n",
       "    <tr>\n",
       "      <th>1</th>\n",
       "      <td>DDDDDDDD</td>\n",
       "      <td>DDDDDDDD</td>\n",
       "      <td>NaN</td>\n",
       "      <td>NaN</td>\n",
       "      <td>-0.707404</td>\n",
       "      <td>-1.004123</td>\n",
       "    </tr>\n",
       "    <tr>\n",
       "      <th>2</th>\n",
       "      <td>AAAAAAAA</td>\n",
       "      <td>DDDDDDDD</td>\n",
       "      <td>NaN</td>\n",
       "      <td>NaN</td>\n",
       "      <td>-0.094836</td>\n",
       "      <td>-0.251163</td>\n",
       "    </tr>\n",
       "    <tr>\n",
       "      <th>3</th>\n",
       "      <td>DDDDDDDD</td>\n",
       "      <td>FFFFFFFF</td>\n",
       "      <td>NaN</td>\n",
       "      <td>NaN</td>\n",
       "      <td>-0.125780</td>\n",
       "      <td>-1.237378</td>\n",
       "    </tr>\n",
       "    <tr>\n",
       "      <th>4</th>\n",
       "      <td>CCCCCCCC</td>\n",
       "      <td>FFFFFFFF</td>\n",
       "      <td>NaN</td>\n",
       "      <td>NaN</td>\n",
       "      <td>0.382183</td>\n",
       "      <td>-1.711572</td>\n",
       "    </tr>\n",
       "    <tr>\n",
       "      <th>5</th>\n",
       "      <td>FFFFFFFF</td>\n",
       "      <td>GGGGGGGG</td>\n",
       "      <td>NaN</td>\n",
       "      <td>NaN</td>\n",
       "      <td>-0.661172</td>\n",
       "      <td>-0.124998</td>\n",
       "    </tr>\n",
       "    <tr>\n",
       "      <th>6</th>\n",
       "      <td>GGGGGGGG</td>\n",
       "      <td>GGGGGGGG</td>\n",
       "      <td>NaN</td>\n",
       "      <td>NaN</td>\n",
       "      <td>0.828998</td>\n",
       "      <td>-0.967002</td>\n",
       "    </tr>\n",
       "    <tr>\n",
       "      <th>7</th>\n",
       "      <td>CCCCCCCC</td>\n",
       "      <td>EEEEEEEE</td>\n",
       "      <td>NaN</td>\n",
       "      <td>NaN</td>\n",
       "      <td>-0.135225</td>\n",
       "      <td>0.982267</td>\n",
       "    </tr>\n",
       "    <tr>\n",
       "      <th>8</th>\n",
       "      <td>AAAAAAAA</td>\n",
       "      <td>EEEEEEEE</td>\n",
       "      <td>NaN</td>\n",
       "      <td>NaN</td>\n",
       "      <td>0.565589</td>\n",
       "      <td>-1.405314</td>\n",
       "    </tr>\n",
       "    <tr>\n",
       "      <th>9</th>\n",
       "      <td>AAAAAAAA</td>\n",
       "      <td>FFFFFFFF</td>\n",
       "      <td>NaN</td>\n",
       "      <td>NaN</td>\n",
       "      <td>0.534110</td>\n",
       "      <td>0.430327</td>\n",
       "    </tr>\n",
       "    <tr>\n",
       "      <th>10</th>\n",
       "      <td>DDDDDDDD</td>\n",
       "      <td>CCCCCCCC</td>\n",
       "      <td>NaN</td>\n",
       "      <td>NaN</td>\n",
       "      <td>0.627748</td>\n",
       "      <td>-0.870272</td>\n",
       "    </tr>\n",
       "    <tr>\n",
       "      <th>11</th>\n",
       "      <td>EEEEEEEE</td>\n",
       "      <td>BBBBBBBB</td>\n",
       "      <td>NaN</td>\n",
       "      <td>NaN</td>\n",
       "      <td>-0.957339</td>\n",
       "      <td>0.435087</td>\n",
       "    </tr>\n",
       "    <tr>\n",
       "      <th>12</th>\n",
       "      <td>GGGGGGGG</td>\n",
       "      <td>FFFFFFFF</td>\n",
       "      <td>NaN</td>\n",
       "      <td>NaN</td>\n",
       "      <td>0.390665</td>\n",
       "      <td>0.408823</td>\n",
       "    </tr>\n",
       "    <tr>\n",
       "      <th>13</th>\n",
       "      <td>BBBBBBBB</td>\n",
       "      <td>EEEEEEEE</td>\n",
       "      <td>NaN</td>\n",
       "      <td>NaN</td>\n",
       "      <td>-0.679535</td>\n",
       "      <td>-1.710162</td>\n",
       "    </tr>\n",
       "    <tr>\n",
       "      <th>14</th>\n",
       "      <td>DDDDDDDD</td>\n",
       "      <td>BBBBBBBB</td>\n",
       "      <td>NaN</td>\n",
       "      <td>NaN</td>\n",
       "      <td>2.413431</td>\n",
       "      <td>2.178699</td>\n",
       "    </tr>\n",
       "    <tr>\n",
       "      <th>15</th>\n",
       "      <td>EEEEEEEE</td>\n",
       "      <td>FFFFFFFF</td>\n",
       "      <td>NaN</td>\n",
       "      <td>NaN</td>\n",
       "      <td>0.860728</td>\n",
       "      <td>-1.677506</td>\n",
       "    </tr>\n",
       "    <tr>\n",
       "      <th>16</th>\n",
       "      <td>EEEEEEEE</td>\n",
       "      <td>GGGGGGGG</td>\n",
       "      <td>NaN</td>\n",
       "      <td>NaN</td>\n",
       "      <td>-2.262108</td>\n",
       "      <td>3.574336</td>\n",
       "    </tr>\n",
       "    <tr>\n",
       "      <th>17</th>\n",
       "      <td>CCCCCCCC</td>\n",
       "      <td>GGGGGGGG</td>\n",
       "      <td>NaN</td>\n",
       "      <td>NaN</td>\n",
       "      <td>1.559153</td>\n",
       "      <td>0.458943</td>\n",
       "    </tr>\n",
       "    <tr>\n",
       "      <th>18</th>\n",
       "      <td>EEEEEEEE</td>\n",
       "      <td>GGGGGGGG</td>\n",
       "      <td>NaN</td>\n",
       "      <td>NaN</td>\n",
       "      <td>-0.027194</td>\n",
       "      <td>-0.293085</td>\n",
       "    </tr>\n",
       "    <tr>\n",
       "      <th>19</th>\n",
       "      <td>EEEEEEEE</td>\n",
       "      <td>GGGGGGGG</td>\n",
       "      <td>NaN</td>\n",
       "      <td>NaN</td>\n",
       "      <td>1.142378</td>\n",
       "      <td>0.649251</td>\n",
       "    </tr>\n",
       "    <tr>\n",
       "      <th>20</th>\n",
       "      <td>FFFFFFFF</td>\n",
       "      <td>CCCCCCCC</td>\n",
       "      <td>NaN</td>\n",
       "      <td>NaN</td>\n",
       "      <td>0.152942</td>\n",
       "      <td>-0.996234</td>\n",
       "    </tr>\n",
       "    <tr>\n",
       "      <th>21</th>\n",
       "      <td>AAAAAAAA</td>\n",
       "      <td>GGGGGGGG</td>\n",
       "      <td>NaN</td>\n",
       "      <td>NaN</td>\n",
       "      <td>-0.121501</td>\n",
       "      <td>-0.906697</td>\n",
       "    </tr>\n",
       "    <tr>\n",
       "      <th>22</th>\n",
       "      <td>BBBBBBBB</td>\n",
       "      <td>CCCCCCCC</td>\n",
       "      <td>NaN</td>\n",
       "      <td>NaN</td>\n",
       "      <td>1.634791</td>\n",
       "      <td>0.741408</td>\n",
       "    </tr>\n",
       "    <tr>\n",
       "      <th>23</th>\n",
       "      <td>DDDDDDDD</td>\n",
       "      <td>FFFFFFFF</td>\n",
       "      <td>NaN</td>\n",
       "      <td>NaN</td>\n",
       "      <td>-0.944472</td>\n",
       "      <td>-0.210692</td>\n",
       "    </tr>\n",
       "    <tr>\n",
       "      <th>24</th>\n",
       "      <td>BBBBBBBB</td>\n",
       "      <td>AAAAAAAA</td>\n",
       "      <td>NaN</td>\n",
       "      <td>NaN</td>\n",
       "      <td>-2.409763</td>\n",
       "      <td>0.079427</td>\n",
       "    </tr>\n",
       "    <tr>\n",
       "      <th>25</th>\n",
       "      <td>DDDDDDDD</td>\n",
       "      <td>EEEEEEEE</td>\n",
       "      <td>NaN</td>\n",
       "      <td>NaN</td>\n",
       "      <td>2.186654</td>\n",
       "      <td>2.085687</td>\n",
       "    </tr>\n",
       "    <tr>\n",
       "      <th>26</th>\n",
       "      <td>AAAAAAAA</td>\n",
       "      <td>CCCCCCCC</td>\n",
       "      <td>NaN</td>\n",
       "      <td>NaN</td>\n",
       "      <td>2.096871</td>\n",
       "      <td>1.511935</td>\n",
       "    </tr>\n",
       "    <tr>\n",
       "      <th>27</th>\n",
       "      <td>CCCCCCCC</td>\n",
       "      <td>AAAAAAAA</td>\n",
       "      <td>NaN</td>\n",
       "      <td>NaN</td>\n",
       "      <td>-0.809646</td>\n",
       "      <td>-1.582986</td>\n",
       "    </tr>\n",
       "    <tr>\n",
       "      <th>28</th>\n",
       "      <td>AAAAAAAA</td>\n",
       "      <td>GGGGGGGG</td>\n",
       "      <td>NaN</td>\n",
       "      <td>NaN</td>\n",
       "      <td>-0.581517</td>\n",
       "      <td>-1.024026</td>\n",
       "    </tr>\n",
       "    <tr>\n",
       "      <th>29</th>\n",
       "      <td>DDDDDDDD</td>\n",
       "      <td>DDDDDDDD</td>\n",
       "      <td>NaN</td>\n",
       "      <td>NaN</td>\n",
       "      <td>0.915936</td>\n",
       "      <td>-0.378046</td>\n",
       "    </tr>\n",
       "    <tr>\n",
       "      <th>...</th>\n",
       "      <td>...</td>\n",
       "      <td>...</td>\n",
       "      <td>...</td>\n",
       "      <td>...</td>\n",
       "      <td>...</td>\n",
       "      <td>...</td>\n",
       "    </tr>\n",
       "    <tr>\n",
       "      <th>63</th>\n",
       "      <td>NaN</td>\n",
       "      <td>NaN</td>\n",
       "      <td>AAAAAAAA</td>\n",
       "      <td>DDDDDDDD</td>\n",
       "      <td>NaN</td>\n",
       "      <td>NaN</td>\n",
       "    </tr>\n",
       "    <tr>\n",
       "      <th>218</th>\n",
       "      <td>NaN</td>\n",
       "      <td>NaN</td>\n",
       "      <td>AAAAAAAA</td>\n",
       "      <td>BBBBBBBB</td>\n",
       "      <td>NaN</td>\n",
       "      <td>NaN</td>\n",
       "    </tr>\n",
       "    <tr>\n",
       "      <th>396</th>\n",
       "      <td>NaN</td>\n",
       "      <td>NaN</td>\n",
       "      <td>AAAAAAAA</td>\n",
       "      <td>BBBBBBBB</td>\n",
       "      <td>NaN</td>\n",
       "      <td>NaN</td>\n",
       "    </tr>\n",
       "    <tr>\n",
       "      <th>225</th>\n",
       "      <td>NaN</td>\n",
       "      <td>NaN</td>\n",
       "      <td>AAAAAAAA</td>\n",
       "      <td>DDDDDDDD</td>\n",
       "      <td>NaN</td>\n",
       "      <td>NaN</td>\n",
       "    </tr>\n",
       "    <tr>\n",
       "      <th>149</th>\n",
       "      <td>NaN</td>\n",
       "      <td>NaN</td>\n",
       "      <td>AAAAAAAA</td>\n",
       "      <td>CCCCCCCC</td>\n",
       "      <td>NaN</td>\n",
       "      <td>NaN</td>\n",
       "    </tr>\n",
       "    <tr>\n",
       "      <th>9</th>\n",
       "      <td>NaN</td>\n",
       "      <td>NaN</td>\n",
       "      <td>AAAAAAAA</td>\n",
       "      <td>FFFFFFFF</td>\n",
       "      <td>NaN</td>\n",
       "      <td>NaN</td>\n",
       "    </tr>\n",
       "    <tr>\n",
       "      <th>118</th>\n",
       "      <td>NaN</td>\n",
       "      <td>NaN</td>\n",
       "      <td>AAAAAAAA</td>\n",
       "      <td>GGGGGGGG</td>\n",
       "      <td>NaN</td>\n",
       "      <td>NaN</td>\n",
       "    </tr>\n",
       "    <tr>\n",
       "      <th>8</th>\n",
       "      <td>NaN</td>\n",
       "      <td>NaN</td>\n",
       "      <td>AAAAAAAA</td>\n",
       "      <td>EEEEEEEE</td>\n",
       "      <td>NaN</td>\n",
       "      <td>NaN</td>\n",
       "    </tr>\n",
       "    <tr>\n",
       "      <th>255</th>\n",
       "      <td>NaN</td>\n",
       "      <td>NaN</td>\n",
       "      <td>AAAAAAAA</td>\n",
       "      <td>CCCCCCCC</td>\n",
       "      <td>NaN</td>\n",
       "      <td>NaN</td>\n",
       "    </tr>\n",
       "    <tr>\n",
       "      <th>479</th>\n",
       "      <td>NaN</td>\n",
       "      <td>NaN</td>\n",
       "      <td>AAAAAAAA</td>\n",
       "      <td>DDDDDDDD</td>\n",
       "      <td>NaN</td>\n",
       "      <td>NaN</td>\n",
       "    </tr>\n",
       "    <tr>\n",
       "      <th>103</th>\n",
       "      <td>NaN</td>\n",
       "      <td>NaN</td>\n",
       "      <td>AAAAAAAA</td>\n",
       "      <td>BBBBBBBB</td>\n",
       "      <td>NaN</td>\n",
       "      <td>NaN</td>\n",
       "    </tr>\n",
       "    <tr>\n",
       "      <th>289</th>\n",
       "      <td>NaN</td>\n",
       "      <td>NaN</td>\n",
       "      <td>AAAAAAAA</td>\n",
       "      <td>DDDDDDDD</td>\n",
       "      <td>NaN</td>\n",
       "      <td>NaN</td>\n",
       "    </tr>\n",
       "    <tr>\n",
       "      <th>243</th>\n",
       "      <td>NaN</td>\n",
       "      <td>NaN</td>\n",
       "      <td>AAAAAAAA</td>\n",
       "      <td>BBBBBBBB</td>\n",
       "      <td>NaN</td>\n",
       "      <td>NaN</td>\n",
       "    </tr>\n",
       "    <tr>\n",
       "      <th>32</th>\n",
       "      <td>NaN</td>\n",
       "      <td>NaN</td>\n",
       "      <td>AAAAAAAA</td>\n",
       "      <td>GGGGGGGG</td>\n",
       "      <td>NaN</td>\n",
       "      <td>NaN</td>\n",
       "    </tr>\n",
       "    <tr>\n",
       "      <th>57</th>\n",
       "      <td>NaN</td>\n",
       "      <td>NaN</td>\n",
       "      <td>AAAAAAAA</td>\n",
       "      <td>CCCCCCCC</td>\n",
       "      <td>NaN</td>\n",
       "      <td>NaN</td>\n",
       "    </tr>\n",
       "    <tr>\n",
       "      <th>257</th>\n",
       "      <td>NaN</td>\n",
       "      <td>NaN</td>\n",
       "      <td>AAAAAAAA</td>\n",
       "      <td>DDDDDDDD</td>\n",
       "      <td>NaN</td>\n",
       "      <td>NaN</td>\n",
       "    </tr>\n",
       "    <tr>\n",
       "      <th>130</th>\n",
       "      <td>NaN</td>\n",
       "      <td>NaN</td>\n",
       "      <td>AAAAAAAA</td>\n",
       "      <td>CCCCCCCC</td>\n",
       "      <td>NaN</td>\n",
       "      <td>NaN</td>\n",
       "    </tr>\n",
       "    <tr>\n",
       "      <th>376</th>\n",
       "      <td>NaN</td>\n",
       "      <td>NaN</td>\n",
       "      <td>AAAAAAAA</td>\n",
       "      <td>GGGGGGGG</td>\n",
       "      <td>NaN</td>\n",
       "      <td>NaN</td>\n",
       "    </tr>\n",
       "    <tr>\n",
       "      <th>247</th>\n",
       "      <td>NaN</td>\n",
       "      <td>NaN</td>\n",
       "      <td>AAAAAAAA</td>\n",
       "      <td>DDDDDDDD</td>\n",
       "      <td>NaN</td>\n",
       "      <td>NaN</td>\n",
       "    </tr>\n",
       "    <tr>\n",
       "      <th>195</th>\n",
       "      <td>NaN</td>\n",
       "      <td>NaN</td>\n",
       "      <td>AAAAAAAA</td>\n",
       "      <td>AAAAAAAA</td>\n",
       "      <td>NaN</td>\n",
       "      <td>NaN</td>\n",
       "    </tr>\n",
       "    <tr>\n",
       "      <th>366</th>\n",
       "      <td>NaN</td>\n",
       "      <td>NaN</td>\n",
       "      <td>AAAAAAAA</td>\n",
       "      <td>AAAAAAAA</td>\n",
       "      <td>NaN</td>\n",
       "      <td>NaN</td>\n",
       "    </tr>\n",
       "    <tr>\n",
       "      <th>452</th>\n",
       "      <td>NaN</td>\n",
       "      <td>NaN</td>\n",
       "      <td>AAAAAAAA</td>\n",
       "      <td>AAAAAAAA</td>\n",
       "      <td>NaN</td>\n",
       "      <td>NaN</td>\n",
       "    </tr>\n",
       "    <tr>\n",
       "      <th>408</th>\n",
       "      <td>NaN</td>\n",
       "      <td>NaN</td>\n",
       "      <td>AAAAAAAA</td>\n",
       "      <td>BBBBBBBB</td>\n",
       "      <td>NaN</td>\n",
       "      <td>NaN</td>\n",
       "    </tr>\n",
       "    <tr>\n",
       "      <th>260</th>\n",
       "      <td>NaN</td>\n",
       "      <td>NaN</td>\n",
       "      <td>AAAAAAAA</td>\n",
       "      <td>GGGGGGGG</td>\n",
       "      <td>NaN</td>\n",
       "      <td>NaN</td>\n",
       "    </tr>\n",
       "    <tr>\n",
       "      <th>91</th>\n",
       "      <td>NaN</td>\n",
       "      <td>NaN</td>\n",
       "      <td>AAAAAAAA</td>\n",
       "      <td>FFFFFFFF</td>\n",
       "      <td>NaN</td>\n",
       "      <td>NaN</td>\n",
       "    </tr>\n",
       "    <tr>\n",
       "      <th>286</th>\n",
       "      <td>NaN</td>\n",
       "      <td>NaN</td>\n",
       "      <td>AAAAAAAA</td>\n",
       "      <td>AAAAAAAA</td>\n",
       "      <td>NaN</td>\n",
       "      <td>NaN</td>\n",
       "    </tr>\n",
       "    <tr>\n",
       "      <th>172</th>\n",
       "      <td>NaN</td>\n",
       "      <td>NaN</td>\n",
       "      <td>AAAAAAAA</td>\n",
       "      <td>AAAAAAAA</td>\n",
       "      <td>NaN</td>\n",
       "      <td>NaN</td>\n",
       "    </tr>\n",
       "    <tr>\n",
       "      <th>26</th>\n",
       "      <td>NaN</td>\n",
       "      <td>NaN</td>\n",
       "      <td>AAAAAAAA</td>\n",
       "      <td>CCCCCCCC</td>\n",
       "      <td>NaN</td>\n",
       "      <td>NaN</td>\n",
       "    </tr>\n",
       "    <tr>\n",
       "      <th>228</th>\n",
       "      <td>NaN</td>\n",
       "      <td>NaN</td>\n",
       "      <td>AAAAAAAA</td>\n",
       "      <td>GGGGGGGG</td>\n",
       "      <td>NaN</td>\n",
       "      <td>NaN</td>\n",
       "    </tr>\n",
       "    <tr>\n",
       "      <th>117</th>\n",
       "      <td>NaN</td>\n",
       "      <td>NaN</td>\n",
       "      <td>AAAAAAAA</td>\n",
       "      <td>GGGGGGGG</td>\n",
       "      <td>NaN</td>\n",
       "      <td>NaN</td>\n",
       "    </tr>\n",
       "  </tbody>\n",
       "</table>\n",
       "<p>2000 rows × 6 columns</p>\n",
       "</div>"
      ],
      "text/plain": [
       "        char1     char2     char3     char4  numeric1  numeric2\n",
       "0    EEEEEEEE  AAAAAAAA       NaN       NaN -1.846671  1.848302\n",
       "1    DDDDDDDD  DDDDDDDD       NaN       NaN -0.707404 -1.004123\n",
       "2    AAAAAAAA  DDDDDDDD       NaN       NaN -0.094836 -0.251163\n",
       "3    DDDDDDDD  FFFFFFFF       NaN       NaN -0.125780 -1.237378\n",
       "4    CCCCCCCC  FFFFFFFF       NaN       NaN  0.382183 -1.711572\n",
       "5    FFFFFFFF  GGGGGGGG       NaN       NaN -0.661172 -0.124998\n",
       "6    GGGGGGGG  GGGGGGGG       NaN       NaN  0.828998 -0.967002\n",
       "7    CCCCCCCC  EEEEEEEE       NaN       NaN -0.135225  0.982267\n",
       "8    AAAAAAAA  EEEEEEEE       NaN       NaN  0.565589 -1.405314\n",
       "9    AAAAAAAA  FFFFFFFF       NaN       NaN  0.534110  0.430327\n",
       "10   DDDDDDDD  CCCCCCCC       NaN       NaN  0.627748 -0.870272\n",
       "11   EEEEEEEE  BBBBBBBB       NaN       NaN -0.957339  0.435087\n",
       "12   GGGGGGGG  FFFFFFFF       NaN       NaN  0.390665  0.408823\n",
       "13   BBBBBBBB  EEEEEEEE       NaN       NaN -0.679535 -1.710162\n",
       "14   DDDDDDDD  BBBBBBBB       NaN       NaN  2.413431  2.178699\n",
       "15   EEEEEEEE  FFFFFFFF       NaN       NaN  0.860728 -1.677506\n",
       "16   EEEEEEEE  GGGGGGGG       NaN       NaN -2.262108  3.574336\n",
       "17   CCCCCCCC  GGGGGGGG       NaN       NaN  1.559153  0.458943\n",
       "18   EEEEEEEE  GGGGGGGG       NaN       NaN -0.027194 -0.293085\n",
       "19   EEEEEEEE  GGGGGGGG       NaN       NaN  1.142378  0.649251\n",
       "20   FFFFFFFF  CCCCCCCC       NaN       NaN  0.152942 -0.996234\n",
       "21   AAAAAAAA  GGGGGGGG       NaN       NaN -0.121501 -0.906697\n",
       "22   BBBBBBBB  CCCCCCCC       NaN       NaN  1.634791  0.741408\n",
       "23   DDDDDDDD  FFFFFFFF       NaN       NaN -0.944472 -0.210692\n",
       "24   BBBBBBBB  AAAAAAAA       NaN       NaN -2.409763  0.079427\n",
       "25   DDDDDDDD  EEEEEEEE       NaN       NaN  2.186654  2.085687\n",
       "26   AAAAAAAA  CCCCCCCC       NaN       NaN  2.096871  1.511935\n",
       "27   CCCCCCCC  AAAAAAAA       NaN       NaN -0.809646 -1.582986\n",
       "28   AAAAAAAA  GGGGGGGG       NaN       NaN -0.581517 -1.024026\n",
       "29   DDDDDDDD  DDDDDDDD       NaN       NaN  0.915936 -0.378046\n",
       "..        ...       ...       ...       ...       ...       ...\n",
       "63        NaN       NaN  AAAAAAAA  DDDDDDDD       NaN       NaN\n",
       "218       NaN       NaN  AAAAAAAA  BBBBBBBB       NaN       NaN\n",
       "396       NaN       NaN  AAAAAAAA  BBBBBBBB       NaN       NaN\n",
       "225       NaN       NaN  AAAAAAAA  DDDDDDDD       NaN       NaN\n",
       "149       NaN       NaN  AAAAAAAA  CCCCCCCC       NaN       NaN\n",
       "9         NaN       NaN  AAAAAAAA  FFFFFFFF       NaN       NaN\n",
       "118       NaN       NaN  AAAAAAAA  GGGGGGGG       NaN       NaN\n",
       "8         NaN       NaN  AAAAAAAA  EEEEEEEE       NaN       NaN\n",
       "255       NaN       NaN  AAAAAAAA  CCCCCCCC       NaN       NaN\n",
       "479       NaN       NaN  AAAAAAAA  DDDDDDDD       NaN       NaN\n",
       "103       NaN       NaN  AAAAAAAA  BBBBBBBB       NaN       NaN\n",
       "289       NaN       NaN  AAAAAAAA  DDDDDDDD       NaN       NaN\n",
       "243       NaN       NaN  AAAAAAAA  BBBBBBBB       NaN       NaN\n",
       "32        NaN       NaN  AAAAAAAA  GGGGGGGG       NaN       NaN\n",
       "57        NaN       NaN  AAAAAAAA  CCCCCCCC       NaN       NaN\n",
       "257       NaN       NaN  AAAAAAAA  DDDDDDDD       NaN       NaN\n",
       "130       NaN       NaN  AAAAAAAA  CCCCCCCC       NaN       NaN\n",
       "376       NaN       NaN  AAAAAAAA  GGGGGGGG       NaN       NaN\n",
       "247       NaN       NaN  AAAAAAAA  DDDDDDDD       NaN       NaN\n",
       "195       NaN       NaN  AAAAAAAA  AAAAAAAA       NaN       NaN\n",
       "366       NaN       NaN  AAAAAAAA  AAAAAAAA       NaN       NaN\n",
       "452       NaN       NaN  AAAAAAAA  AAAAAAAA       NaN       NaN\n",
       "408       NaN       NaN  AAAAAAAA  BBBBBBBB       NaN       NaN\n",
       "260       NaN       NaN  AAAAAAAA  GGGGGGGG       NaN       NaN\n",
       "91        NaN       NaN  AAAAAAAA  FFFFFFFF       NaN       NaN\n",
       "286       NaN       NaN  AAAAAAAA  AAAAAAAA       NaN       NaN\n",
       "172       NaN       NaN  AAAAAAAA  AAAAAAAA       NaN       NaN\n",
       "26        NaN       NaN  AAAAAAAA  CCCCCCCC       NaN       NaN\n",
       "228       NaN       NaN  AAAAAAAA  GGGGGGGG       NaN       NaN\n",
       "117       NaN       NaN  AAAAAAAA  GGGGGGGG       NaN       NaN\n",
       "\n",
       "[2000 rows x 6 columns]"
      ]
     },
     "execution_count": 41,
     "metadata": {},
     "output_type": "execute_result"
    }
   ],
   "source": [
    "# default outer join on matching indices\n",
    "# this will create 2000 row × 6 column dataset because indices are not in identical order\n",
    "scratch_df4 = pd.concat([scratch_df, scratch_df3])\n",
    "scratch_df4"
   ]
  },
  {
   "cell_type": "code",
   "execution_count": 42,
   "metadata": {},
   "outputs": [
    {
     "data": {
      "text/html": [
       "<div>\n",
       "<table border=\"1\" class=\"dataframe\">\n",
       "  <thead>\n",
       "    <tr style=\"text-align: right;\">\n",
       "      <th></th>\n",
       "      <th>numeric1</th>\n",
       "      <th>numeric2</th>\n",
       "      <th>char1</th>\n",
       "      <th>char2</th>\n",
       "      <th>char3</th>\n",
       "      <th>char4</th>\n",
       "    </tr>\n",
       "  </thead>\n",
       "  <tbody>\n",
       "    <tr>\n",
       "      <th>0</th>\n",
       "      <td>-1.846671</td>\n",
       "      <td>1.848302</td>\n",
       "      <td>EEEEEEEE</td>\n",
       "      <td>AAAAAAAA</td>\n",
       "      <td>EEEEEEEE</td>\n",
       "      <td>AAAAAAAA</td>\n",
       "    </tr>\n",
       "    <tr>\n",
       "      <th>1</th>\n",
       "      <td>-0.707404</td>\n",
       "      <td>-1.004123</td>\n",
       "      <td>DDDDDDDD</td>\n",
       "      <td>DDDDDDDD</td>\n",
       "      <td>DDDDDDDD</td>\n",
       "      <td>DDDDDDDD</td>\n",
       "    </tr>\n",
       "    <tr>\n",
       "      <th>2</th>\n",
       "      <td>-0.094836</td>\n",
       "      <td>-0.251163</td>\n",
       "      <td>AAAAAAAA</td>\n",
       "      <td>DDDDDDDD</td>\n",
       "      <td>AAAAAAAA</td>\n",
       "      <td>DDDDDDDD</td>\n",
       "    </tr>\n",
       "    <tr>\n",
       "      <th>3</th>\n",
       "      <td>-0.125780</td>\n",
       "      <td>-1.237378</td>\n",
       "      <td>DDDDDDDD</td>\n",
       "      <td>FFFFFFFF</td>\n",
       "      <td>DDDDDDDD</td>\n",
       "      <td>FFFFFFFF</td>\n",
       "    </tr>\n",
       "    <tr>\n",
       "      <th>4</th>\n",
       "      <td>0.382183</td>\n",
       "      <td>-1.711572</td>\n",
       "      <td>CCCCCCCC</td>\n",
       "      <td>FFFFFFFF</td>\n",
       "      <td>CCCCCCCC</td>\n",
       "      <td>FFFFFFFF</td>\n",
       "    </tr>\n",
       "  </tbody>\n",
       "</table>\n",
       "</div>"
      ],
      "text/plain": [
       "   numeric1  numeric2     char1     char2     char3     char4\n",
       "0 -1.846671  1.848302  EEEEEEEE  AAAAAAAA  EEEEEEEE  AAAAAAAA\n",
       "1 -0.707404 -1.004123  DDDDDDDD  DDDDDDDD  DDDDDDDD  DDDDDDDD\n",
       "2 -0.094836 -0.251163  AAAAAAAA  DDDDDDDD  AAAAAAAA  DDDDDDDD\n",
       "3 -0.125780 -1.237378  DDDDDDDD  FFFFFFFF  DDDDDDDD  FFFFFFFF\n",
       "4  0.382183 -1.711572  CCCCCCCC  FFFFFFFF  CCCCCCCC  FFFFFFFF"
      ]
     },
     "execution_count": 42,
     "metadata": {},
     "output_type": "execute_result"
    }
   ],
   "source": [
    "# outer join on matching columns\n",
    "# axis=1 specificies to join on matching columns\n",
    "scratch_df5 = pd.concat([scratch_df, scratch_df3], axis=1)\n",
    "scratch_df5.head()"
   ]
  },
  {
   "cell_type": "code",
   "execution_count": 43,
   "metadata": {},
   "outputs": [
    {
     "data": {
      "text/plain": [
       "(1000, 6)"
      ]
     },
     "execution_count": 43,
     "metadata": {},
     "output_type": "execute_result"
    }
   ],
   "source": [
    "scratch_df5.shape"
   ]
  },
  {
   "cell_type": "code",
   "execution_count": 44,
   "metadata": {},
   "outputs": [
    {
     "data": {
      "text/plain": [
       "(2000, 4)"
      ]
     },
     "execution_count": 44,
     "metadata": {},
     "output_type": "execute_result"
    }
   ],
   "source": [
    "# append\n",
    "scratch_df6 = scratch_df.append(scratch_df)\n",
    "scratch_df6.shape"
   ]
  },
  {
   "cell_type": "markdown",
   "metadata": {},
   "source": [
    "***\n",
    "## 9. Comparing dataframes\n",
    "* Use Pandas `equals()` to compare dataframes\n",
    "* Row order is not ignored"
   ]
  },
  {
   "cell_type": "code",
   "execution_count": 45,
   "metadata": {},
   "outputs": [
    {
     "data": {
      "text/plain": [
       "True"
      ]
     },
     "execution_count": 45,
     "metadata": {},
     "output_type": "execute_result"
    }
   ],
   "source": [
    "scratch_df.equals(scratch_df)"
   ]
  },
  {
   "cell_type": "code",
   "execution_count": 46,
   "metadata": {},
   "outputs": [
    {
     "data": {
      "text/plain": [
       "False"
      ]
     },
     "execution_count": 46,
     "metadata": {},
     "output_type": "execute_result"
    }
   ],
   "source": [
    "scratch_df.equals(scratch_df.sort_values(by='char1'))"
   ]
  },
  {
   "cell_type": "code",
   "execution_count": 47,
   "metadata": {},
   "outputs": [
    {
     "data": {
      "text/plain": [
       "False"
      ]
     },
     "execution_count": 47,
     "metadata": {},
     "output_type": "execute_result"
    }
   ],
   "source": [
    "scratch_df.equals(scratch_df2)"
   ]
  },
  {
   "cell_type": "markdown",
   "metadata": {},
   "source": [
    "***\n",
    "## 10. Summarizing dataframes\n",
    "Pandas offers several straightforward summarization functions"
   ]
  },
  {
   "cell_type": "code",
   "execution_count": 48,
   "metadata": {},
   "outputs": [
    {
     "data": {
      "text/plain": [
       "numeric1    0.067432\n",
       "numeric2   -0.002979\n",
       "dtype: float64"
      ]
     },
     "execution_count": 48,
     "metadata": {},
     "output_type": "execute_result"
    }
   ],
   "source": [
    "scratch_df.mean()"
   ]
  },
  {
   "cell_type": "code",
   "execution_count": 49,
   "metadata": {},
   "outputs": [
    {
     "data": {
      "text/html": [
       "<div>\n",
       "<table border=\"1\" class=\"dataframe\">\n",
       "  <thead>\n",
       "    <tr style=\"text-align: right;\">\n",
       "      <th></th>\n",
       "      <th>numeric1</th>\n",
       "      <th>numeric2</th>\n",
       "      <th>char1</th>\n",
       "      <th>char2</th>\n",
       "    </tr>\n",
       "  </thead>\n",
       "  <tbody>\n",
       "    <tr>\n",
       "      <th>0</th>\n",
       "      <td>NaN</td>\n",
       "      <td>NaN</td>\n",
       "      <td>DDDDDDDD</td>\n",
       "      <td>BBBBBBBB</td>\n",
       "    </tr>\n",
       "  </tbody>\n",
       "</table>\n",
       "</div>"
      ],
      "text/plain": [
       "   numeric1  numeric2     char1     char2\n",
       "0       NaN       NaN  DDDDDDDD  BBBBBBBB"
      ]
     },
     "execution_count": 49,
     "metadata": {},
     "output_type": "execute_result"
    }
   ],
   "source": [
    "scratch_df.mode()"
   ]
  },
  {
   "cell_type": "code",
   "execution_count": 50,
   "metadata": {},
   "outputs": [
    {
     "data": {
      "text/html": [
       "<div>\n",
       "<table border=\"1\" class=\"dataframe\">\n",
       "  <thead>\n",
       "    <tr style=\"text-align: right;\">\n",
       "      <th></th>\n",
       "      <th>numeric1</th>\n",
       "      <th>numeric2</th>\n",
       "    </tr>\n",
       "  </thead>\n",
       "  <tbody>\n",
       "    <tr>\n",
       "      <th>count</th>\n",
       "      <td>1000.000000</td>\n",
       "      <td>1000.000000</td>\n",
       "    </tr>\n",
       "    <tr>\n",
       "      <th>mean</th>\n",
       "      <td>0.067432</td>\n",
       "      <td>-0.002979</td>\n",
       "    </tr>\n",
       "    <tr>\n",
       "      <th>std</th>\n",
       "      <td>1.014362</td>\n",
       "      <td>1.008141</td>\n",
       "    </tr>\n",
       "    <tr>\n",
       "      <th>min</th>\n",
       "      <td>-3.490143</td>\n",
       "      <td>-3.344991</td>\n",
       "    </tr>\n",
       "    <tr>\n",
       "      <th>25%</th>\n",
       "      <td>-0.610958</td>\n",
       "      <td>-0.692698</td>\n",
       "    </tr>\n",
       "    <tr>\n",
       "      <th>50%</th>\n",
       "      <td>0.050545</td>\n",
       "      <td>0.002861</td>\n",
       "    </tr>\n",
       "    <tr>\n",
       "      <th>75%</th>\n",
       "      <td>0.718816</td>\n",
       "      <td>0.676773</td>\n",
       "    </tr>\n",
       "    <tr>\n",
       "      <th>max</th>\n",
       "      <td>3.259914</td>\n",
       "      <td>3.623428</td>\n",
       "    </tr>\n",
       "  </tbody>\n",
       "</table>\n",
       "</div>"
      ],
      "text/plain": [
       "          numeric1     numeric2\n",
       "count  1000.000000  1000.000000\n",
       "mean      0.067432    -0.002979\n",
       "std       1.014362     1.008141\n",
       "min      -3.490143    -3.344991\n",
       "25%      -0.610958    -0.692698\n",
       "50%       0.050545     0.002861\n",
       "75%       0.718816     0.676773\n",
       "max       3.259914     3.623428"
      ]
     },
     "execution_count": 50,
     "metadata": {},
     "output_type": "execute_result"
    }
   ],
   "source": [
    "scratch_df.describe()"
   ]
  },
  {
   "cell_type": "markdown",
   "metadata": {},
   "source": [
    "***\n",
    "## 11. By group processing\n",
    "Use Pandas `groupby()` to create groups for subsequent processing"
   ]
  },
  {
   "cell_type": "code",
   "execution_count": 51,
   "metadata": {},
   "outputs": [
    {
     "data": {
      "text/plain": [
       "<matplotlib.axes._subplots.AxesSubplot at 0xd715b38>"
      ]
     },
     "execution_count": 51,
     "metadata": {},
     "output_type": "execute_result"
    },
    {
     "data": {
      "image/png": "[encoded data removed]",
      "text/plain": [
       "<matplotlib.figure.Figure at 0xd79d0f0>"
      ]
     },
     "metadata": {},
     "output_type": "display_data"
    }
   ],
   "source": [
    "# use summary function size() on groups created by groupby()\n",
    "counts = scratch_df.groupby('char1').size()\n",
    "plt.figure()\n",
    "counts.plot.bar(title='Frequency of char1 values (Histogram of char1)')"
   ]
  },
  {
   "cell_type": "code",
   "execution_count": 52,
   "metadata": {},
   "outputs": [
    {
     "data": {
      "text/html": [
       "<div>\n",
       "<table border=\"1\" class=\"dataframe\">\n",
       "  <thead>\n",
       "    <tr style=\"text-align: right;\">\n",
       "      <th></th>\n",
       "      <th></th>\n",
       "      <th>numeric1</th>\n",
       "      <th>numeric2</th>\n",
       "    </tr>\n",
       "    <tr>\n",
       "      <th>char1</th>\n",
       "      <th>char2</th>\n",
       "      <th></th>\n",
       "      <th></th>\n",
       "    </tr>\n",
       "  </thead>\n",
       "  <tbody>\n",
       "    <tr>\n",
       "      <th rowspan=\"7\" valign=\"top\">AAAAAAAA</th>\n",
       "      <th>AAAAAAAA</th>\n",
       "      <td>0.287226</td>\n",
       "      <td>0.139453</td>\n",
       "    </tr>\n",
       "    <tr>\n",
       "      <th>BBBBBBBB</th>\n",
       "      <td>-0.116169</td>\n",
       "      <td>0.065721</td>\n",
       "    </tr>\n",
       "    <tr>\n",
       "      <th>CCCCCCCC</th>\n",
       "      <td>-0.027425</td>\n",
       "      <td>0.133440</td>\n",
       "    </tr>\n",
       "    <tr>\n",
       "      <th>DDDDDDDD</th>\n",
       "      <td>0.197693</td>\n",
       "      <td>-0.190331</td>\n",
       "    </tr>\n",
       "    <tr>\n",
       "      <th>EEEEEEEE</th>\n",
       "      <td>0.063590</td>\n",
       "      <td>0.329729</td>\n",
       "    </tr>\n",
       "    <tr>\n",
       "      <th>FFFFFFFF</th>\n",
       "      <td>-0.175555</td>\n",
       "      <td>-0.329659</td>\n",
       "    </tr>\n",
       "    <tr>\n",
       "      <th>GGGGGGGG</th>\n",
       "      <td>0.189824</td>\n",
       "      <td>0.147558</td>\n",
       "    </tr>\n",
       "    <tr>\n",
       "      <th rowspan=\"7\" valign=\"top\">BBBBBBBB</th>\n",
       "      <th>AAAAAAAA</th>\n",
       "      <td>-0.086814</td>\n",
       "      <td>0.221350</td>\n",
       "    </tr>\n",
       "    <tr>\n",
       "      <th>BBBBBBBB</th>\n",
       "      <td>0.188284</td>\n",
       "      <td>-0.389512</td>\n",
       "    </tr>\n",
       "    <tr>\n",
       "      <th>CCCCCCCC</th>\n",
       "      <td>0.069539</td>\n",
       "      <td>-0.126538</td>\n",
       "    </tr>\n",
       "    <tr>\n",
       "      <th>DDDDDDDD</th>\n",
       "      <td>0.314592</td>\n",
       "      <td>-0.064758</td>\n",
       "    </tr>\n",
       "    <tr>\n",
       "      <th>EEEEEEEE</th>\n",
       "      <td>0.269574</td>\n",
       "      <td>-0.129884</td>\n",
       "    </tr>\n",
       "    <tr>\n",
       "      <th>FFFFFFFF</th>\n",
       "      <td>-0.205605</td>\n",
       "      <td>-0.028343</td>\n",
       "    </tr>\n",
       "    <tr>\n",
       "      <th>GGGGGGGG</th>\n",
       "      <td>0.365227</td>\n",
       "      <td>-0.053123</td>\n",
       "    </tr>\n",
       "    <tr>\n",
       "      <th rowspan=\"7\" valign=\"top\">CCCCCCCC</th>\n",
       "      <th>AAAAAAAA</th>\n",
       "      <td>0.028210</td>\n",
       "      <td>-0.295764</td>\n",
       "    </tr>\n",
       "    <tr>\n",
       "      <th>BBBBBBBB</th>\n",
       "      <td>0.074422</td>\n",
       "      <td>-0.017167</td>\n",
       "    </tr>\n",
       "    <tr>\n",
       "      <th>CCCCCCCC</th>\n",
       "      <td>0.243360</td>\n",
       "      <td>0.073591</td>\n",
       "    </tr>\n",
       "    <tr>\n",
       "      <th>DDDDDDDD</th>\n",
       "      <td>0.250268</td>\n",
       "      <td>-0.491992</td>\n",
       "    </tr>\n",
       "    <tr>\n",
       "      <th>EEEEEEEE</th>\n",
       "      <td>-0.085427</td>\n",
       "      <td>-0.369362</td>\n",
       "    </tr>\n",
       "    <tr>\n",
       "      <th>FFFFFFFF</th>\n",
       "      <td>0.175509</td>\n",
       "      <td>0.043392</td>\n",
       "    </tr>\n",
       "    <tr>\n",
       "      <th>GGGGGGGG</th>\n",
       "      <td>-0.017040</td>\n",
       "      <td>-0.272344</td>\n",
       "    </tr>\n",
       "    <tr>\n",
       "      <th rowspan=\"7\" valign=\"top\">DDDDDDDD</th>\n",
       "      <th>AAAAAAAA</th>\n",
       "      <td>0.202584</td>\n",
       "      <td>-0.024968</td>\n",
       "    </tr>\n",
       "    <tr>\n",
       "      <th>BBBBBBBB</th>\n",
       "      <td>0.089411</td>\n",
       "      <td>0.240417</td>\n",
       "    </tr>\n",
       "    <tr>\n",
       "      <th>CCCCCCCC</th>\n",
       "      <td>0.410671</td>\n",
       "      <td>0.360820</td>\n",
       "    </tr>\n",
       "    <tr>\n",
       "      <th>DDDDDDDD</th>\n",
       "      <td>0.350856</td>\n",
       "      <td>-0.309482</td>\n",
       "    </tr>\n",
       "    <tr>\n",
       "      <th>EEEEEEEE</th>\n",
       "      <td>0.109395</td>\n",
       "      <td>0.058292</td>\n",
       "    </tr>\n",
       "    <tr>\n",
       "      <th>FFFFFFFF</th>\n",
       "      <td>0.078943</td>\n",
       "      <td>-0.383857</td>\n",
       "    </tr>\n",
       "    <tr>\n",
       "      <th>GGGGGGGG</th>\n",
       "      <td>-0.013982</td>\n",
       "      <td>0.018074</td>\n",
       "    </tr>\n",
       "    <tr>\n",
       "      <th rowspan=\"7\" valign=\"top\">EEEEEEEE</th>\n",
       "      <th>AAAAAAAA</th>\n",
       "      <td>-0.369364</td>\n",
       "      <td>-0.409199</td>\n",
       "    </tr>\n",
       "    <tr>\n",
       "      <th>BBBBBBBB</th>\n",
       "      <td>-0.099274</td>\n",
       "      <td>0.193680</td>\n",
       "    </tr>\n",
       "    <tr>\n",
       "      <th>CCCCCCCC</th>\n",
       "      <td>0.035146</td>\n",
       "      <td>0.146343</td>\n",
       "    </tr>\n",
       "    <tr>\n",
       "      <th>DDDDDDDD</th>\n",
       "      <td>-0.268458</td>\n",
       "      <td>0.223898</td>\n",
       "    </tr>\n",
       "    <tr>\n",
       "      <th>EEEEEEEE</th>\n",
       "      <td>0.079099</td>\n",
       "      <td>0.065767</td>\n",
       "    </tr>\n",
       "    <tr>\n",
       "      <th>FFFFFFFF</th>\n",
       "      <td>0.253714</td>\n",
       "      <td>-0.161576</td>\n",
       "    </tr>\n",
       "    <tr>\n",
       "      <th>GGGGGGGG</th>\n",
       "      <td>-0.270056</td>\n",
       "      <td>0.107336</td>\n",
       "    </tr>\n",
       "    <tr>\n",
       "      <th rowspan=\"7\" valign=\"top\">FFFFFFFF</th>\n",
       "      <th>AAAAAAAA</th>\n",
       "      <td>0.029830</td>\n",
       "      <td>0.038701</td>\n",
       "    </tr>\n",
       "    <tr>\n",
       "      <th>BBBBBBBB</th>\n",
       "      <td>0.217070</td>\n",
       "      <td>-0.012318</td>\n",
       "    </tr>\n",
       "    <tr>\n",
       "      <th>CCCCCCCC</th>\n",
       "      <td>0.205450</td>\n",
       "      <td>-0.087807</td>\n",
       "    </tr>\n",
       "    <tr>\n",
       "      <th>DDDDDDDD</th>\n",
       "      <td>0.264409</td>\n",
       "      <td>-0.141813</td>\n",
       "    </tr>\n",
       "    <tr>\n",
       "      <th>EEEEEEEE</th>\n",
       "      <td>0.042105</td>\n",
       "      <td>0.272400</td>\n",
       "    </tr>\n",
       "    <tr>\n",
       "      <th>FFFFFFFF</th>\n",
       "      <td>0.146905</td>\n",
       "      <td>0.100713</td>\n",
       "    </tr>\n",
       "    <tr>\n",
       "      <th>GGGGGGGG</th>\n",
       "      <td>-0.316132</td>\n",
       "      <td>0.396029</td>\n",
       "    </tr>\n",
       "    <tr>\n",
       "      <th rowspan=\"7\" valign=\"top\">GGGGGGGG</th>\n",
       "      <th>AAAAAAAA</th>\n",
       "      <td>0.160410</td>\n",
       "      <td>0.226501</td>\n",
       "    </tr>\n",
       "    <tr>\n",
       "      <th>BBBBBBBB</th>\n",
       "      <td>0.058595</td>\n",
       "      <td>0.171269</td>\n",
       "    </tr>\n",
       "    <tr>\n",
       "      <th>CCCCCCCC</th>\n",
       "      <td>0.027790</td>\n",
       "      <td>0.132749</td>\n",
       "    </tr>\n",
       "    <tr>\n",
       "      <th>DDDDDDDD</th>\n",
       "      <td>0.006063</td>\n",
       "      <td>0.317409</td>\n",
       "    </tr>\n",
       "    <tr>\n",
       "      <th>EEEEEEEE</th>\n",
       "      <td>-0.286541</td>\n",
       "      <td>-0.345819</td>\n",
       "    </tr>\n",
       "    <tr>\n",
       "      <th>FFFFFFFF</th>\n",
       "      <td>-0.053367</td>\n",
       "      <td>-0.024303</td>\n",
       "    </tr>\n",
       "    <tr>\n",
       "      <th>GGGGGGGG</th>\n",
       "      <td>0.223895</td>\n",
       "      <td>0.133305</td>\n",
       "    </tr>\n",
       "  </tbody>\n",
       "</table>\n",
       "</div>"
      ],
      "text/plain": [
       "                   numeric1  numeric2\n",
       "char1    char2                       \n",
       "AAAAAAAA AAAAAAAA  0.287226  0.139453\n",
       "         BBBBBBBB -0.116169  0.065721\n",
       "         CCCCCCCC -0.027425  0.133440\n",
       "         DDDDDDDD  0.197693 -0.190331\n",
       "         EEEEEEEE  0.063590  0.329729\n",
       "         FFFFFFFF -0.175555 -0.329659\n",
       "         GGGGGGGG  0.189824  0.147558\n",
       "BBBBBBBB AAAAAAAA -0.086814  0.221350\n",
       "         BBBBBBBB  0.188284 -0.389512\n",
       "         CCCCCCCC  0.069539 -0.126538\n",
       "         DDDDDDDD  0.314592 -0.064758\n",
       "         EEEEEEEE  0.269574 -0.129884\n",
       "         FFFFFFFF -0.205605 -0.028343\n",
       "         GGGGGGGG  0.365227 -0.053123\n",
       "CCCCCCCC AAAAAAAA  0.028210 -0.295764\n",
       "         BBBBBBBB  0.074422 -0.017167\n",
       "         CCCCCCCC  0.243360  0.073591\n",
       "         DDDDDDDD  0.250268 -0.491992\n",
       "         EEEEEEEE -0.085427 -0.369362\n",
       "         FFFFFFFF  0.175509  0.043392\n",
       "         GGGGGGGG -0.017040 -0.272344\n",
       "DDDDDDDD AAAAAAAA  0.202584 -0.024968\n",
       "         BBBBBBBB  0.089411  0.240417\n",
       "         CCCCCCCC  0.410671  0.360820\n",
       "         DDDDDDDD  0.350856 -0.309482\n",
       "         EEEEEEEE  0.109395  0.058292\n",
       "         FFFFFFFF  0.078943 -0.383857\n",
       "         GGGGGGGG -0.013982  0.018074\n",
       "EEEEEEEE AAAAAAAA -0.369364 -0.409199\n",
       "         BBBBBBBB -0.099274  0.193680\n",
       "         CCCCCCCC  0.035146  0.146343\n",
       "         DDDDDDDD -0.268458  0.223898\n",
       "         EEEEEEEE  0.079099  0.065767\n",
       "         FFFFFFFF  0.253714 -0.161576\n",
       "         GGGGGGGG -0.270056  0.107336\n",
       "FFFFFFFF AAAAAAAA  0.029830  0.038701\n",
       "         BBBBBBBB  0.217070 -0.012318\n",
       "         CCCCCCCC  0.205450 -0.087807\n",
       "         DDDDDDDD  0.264409 -0.141813\n",
       "         EEEEEEEE  0.042105  0.272400\n",
       "         FFFFFFFF  0.146905  0.100713\n",
       "         GGGGGGGG -0.316132  0.396029\n",
       "GGGGGGGG AAAAAAAA  0.160410  0.226501\n",
       "         BBBBBBBB  0.058595  0.171269\n",
       "         CCCCCCCC  0.027790  0.132749\n",
       "         DDDDDDDD  0.006063  0.317409\n",
       "         EEEEEEEE -0.286541 -0.345819\n",
       "         FFFFFFFF -0.053367 -0.024303\n",
       "         GGGGGGGG  0.223895  0.133305"
      ]
     },
     "execution_count": 52,
     "metadata": {},
     "output_type": "execute_result"
    }
   ],
   "source": [
    "# groupby the values of more than one variable\n",
    "group_means = scratch_df.groupby(['char1', 'char2']).mean()\n",
    "group_means"
   ]
  },
  {
   "cell_type": "markdown",
   "metadata": {},
   "source": [
    "***\n",
    "## 12. Transposing a table\n",
    "* Transposing a matrix simply switches row and columns values\n",
    "* Transposing a data.frame or dplyr table is more complex because of metadata associated with variable names and row indices"
   ]
  },
  {
   "cell_type": "code",
   "execution_count": 53,
   "metadata": {},
   "outputs": [
    {
     "data": {
      "text/html": [
       "<div>\n",
       "<table border=\"1\" class=\"dataframe\">\n",
       "  <thead>\n",
       "    <tr style=\"text-align: right;\">\n",
       "      <th></th>\n",
       "      <th>0</th>\n",
       "      <th>1</th>\n",
       "      <th>2</th>\n",
       "      <th>3</th>\n",
       "      <th>4</th>\n",
       "    </tr>\n",
       "  </thead>\n",
       "  <tbody>\n",
       "    <tr>\n",
       "      <th>numeric1</th>\n",
       "      <td>-1.84667</td>\n",
       "      <td>-0.707404</td>\n",
       "      <td>-0.0948355</td>\n",
       "      <td>-0.12578</td>\n",
       "      <td>0.382183</td>\n",
       "    </tr>\n",
       "    <tr>\n",
       "      <th>numeric2</th>\n",
       "      <td>1.8483</td>\n",
       "      <td>-1.00412</td>\n",
       "      <td>-0.251163</td>\n",
       "      <td>-1.23738</td>\n",
       "      <td>-1.71157</td>\n",
       "    </tr>\n",
       "    <tr>\n",
       "      <th>char1</th>\n",
       "      <td>EEEEEEEE</td>\n",
       "      <td>DDDDDDDD</td>\n",
       "      <td>AAAAAAAA</td>\n",
       "      <td>DDDDDDDD</td>\n",
       "      <td>CCCCCCCC</td>\n",
       "    </tr>\n",
       "    <tr>\n",
       "      <th>char2</th>\n",
       "      <td>AAAAAAAA</td>\n",
       "      <td>DDDDDDDD</td>\n",
       "      <td>DDDDDDDD</td>\n",
       "      <td>FFFFFFFF</td>\n",
       "      <td>FFFFFFFF</td>\n",
       "    </tr>\n",
       "  </tbody>\n",
       "</table>\n",
       "</div>"
      ],
      "text/plain": [
       "                 0         1          2         3         4\n",
       "numeric1  -1.84667 -0.707404 -0.0948355  -0.12578  0.382183\n",
       "numeric2    1.8483  -1.00412  -0.251163  -1.23738  -1.71157\n",
       "char1     EEEEEEEE  DDDDDDDD   AAAAAAAA  DDDDDDDD  CCCCCCCC\n",
       "char2     AAAAAAAA  DDDDDDDD   DDDDDDDD  FFFFFFFF  FFFFFFFF"
      ]
     },
     "execution_count": 53,
     "metadata": {},
     "output_type": "execute_result"
    }
   ],
   "source": [
    "# Pandas .T performs a transpose\n",
    "scratch_df.T.iloc[:, 0:5]"
   ]
  },
  {
   "cell_type": "markdown",
   "metadata": {},
   "source": [
    "Often, instead of simply transposing, a data set will need to be reformatted in a **melt/stack** - **column split** - **cast** action described in Hadley Wickham's *Tidy Data*:\n",
    "https://www.jstatsoft.org/article/view/v059i10\n",
    "\n",
    "See the `stack` and `unstack` methods for Pandas dataframes"
   ]
  },
  {
   "cell_type": "markdown",
   "metadata": {},
   "source": [
    "## Exporting and importing a dataframe\n",
    "* Many `to_*` methods available for exporting dataframes to other formats\n",
    "* Many `read_*` methods available for creating dataframes from other formats"
   ]
  },
  {
   "cell_type": "code",
   "execution_count": 54,
   "metadata": {
    "collapsed": true
   },
   "outputs": [],
   "source": [
    "# export to csv\n",
    "scratch_df.to_csv('scratch.csv')"
   ]
  },
  {
   "cell_type": "code",
   "execution_count": 55,
   "metadata": {},
   "outputs": [],
   "source": [
    "# import from csv \n",
    "scratch_df7 = pd.read_csv('scratch.csv')"
   ]
  }
 ],
 "metadata": {
  "kernelspec": {
   "display_name": "Python 3",
   "language": "python",
   "name": "python3"
  },
  "language_info": {
   "codemirror_mode": {
    "name": "ipython",
    "version": 3
   },
   "file_extension": ".py",
   "mimetype": "text/x-python",
   "name": "python",
   "nbconvert_exporter": "python",
   "pygments_lexer": "ipython3",
   "version": "3.6.1"
  }
 },
 "nbformat": 4,
 "nbformat_minor": 1
}
