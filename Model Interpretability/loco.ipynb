{
 "cells": [
  {
   "cell_type": "markdown",
   "metadata": {},
   "source": [
    "# License \n",
    "***\n",
    "Copyright 2017 J. Patrick Hall, jphall@gwu.edu\n",
    "\n",
    "Permission is hereby granted, free of charge, to any person obtaining a copy of this software and associated documentation files (the \"Software\"), to deal in the Software without restriction, including without limitation the rights to use, copy, modify, merge, publish, distribute, sublicense, and/or sell copies of the Software, and to permit persons to whom the Software is furnished to do so, subject to the following conditions:\n",
    "\n",
    "The above copyright notice and this permission notice shall be included in all copies or substantial portions of the Software.\n",
    "\n",
    "THE SOFTWARE IS PROVIDED \"AS IS\", WITHOUT WARRANTY OF ANY KIND, EXPRESS OR IMPLIED, INCLUDING BUT NOT LIMITED TO THE WARRANTIES OF MERCHANTABILITY, FITNESS FOR A PARTICULAR PURPOSE AND NONINFRINGEMENT. IN NO EVENT SHALL THE AUTHORS OR COPYRIGHT HOLDERS BE LIABLE FOR ANY CLAIM, DAMAGES OR OTHER LIABILITY, WHETHER IN AN ACTION OF CONTRACT, TORT OR OTHERWISE, ARISING FROM, OUT OF OR IN CONNECTION WITH THE SOFTWARE OR THE USE OR OTHER DEALINGS IN THE SOFTWARE."
   ]
  },
  {
   "cell_type": "markdown",
   "metadata": {},
   "source": [
    "# Local Feature Importance and Reason Codes using LOCO\n",
    "***\n",
    "\n",
    "Based on: Lei, Jing, G’Sell, Max, Rinaldo, Alessandro, Tibshirani, Ryan J., and Wasserman, Larry. Distribution-free predictive inference for regression. *Journal of the American Statistical Association*, 2017.\n",
    "\n",
    "http://www.stat.cmu.edu/~ryantibs/papers/conformal.pdf\n",
    "\n",
    "** Instead of dropping one variable and retraining a model to understand the importance of that variable in a model, these examples set a variable to missing and rescore the this new, corruptes sample with original model. This is liley more appropriate for nonlineaer models in which nonlinear dependencies can allow variables to nearly completely replace one another when a model is retrained. **"
   ]
  },
  {
   "cell_type": "markdown",
   "metadata": {},
   "source": [
    "## Preliminaries: imports, start h2o, load and clean data "
   ]
  },
  {
   "cell_type": "code",
   "execution_count": 1,
   "metadata": {
    "collapsed": false
   },
   "outputs": [],
   "source": [
    "# imports\n",
    "import h2o \n",
    "import numpy as np\n",
    "import pandas as pd\n",
    "from h2o.estimators.gbm import H2OGradientBoostingEstimator"
   ]
  },
  {
   "cell_type": "code",
   "execution_count": 2,
   "metadata": {
    "collapsed": false
   },
   "outputs": [
    {
     "name": "stdout",
     "output_type": "stream",
     "text": [
      "Checking whether there is an H2O instance running at http://localhost:54321..... not found.\n",
      "Attempting to start a local H2O server...\n",
      "  Java Version: java version \"1.8.0_112\"; Java(TM) SE Runtime Environment (build 1.8.0_112-b16); Java HotSpot(TM) 64-Bit Server VM (build 25.112-b16, mixed mode)\n",
      "  Starting server from /Users/phall/anaconda/lib/python3.5/site-packages/h2o/backend/bin/h2o.jar\n",
      "  Ice root: /var/folders/tc/0ss1l73113j3wdyjsxmy1j2r0000gn/T/tmpoidcpxm3\n",
      "  JVM stdout: /var/folders/tc/0ss1l73113j3wdyjsxmy1j2r0000gn/T/tmpoidcpxm3/h2o_phall_started_from_python.out\n",
      "  JVM stderr: /var/folders/tc/0ss1l73113j3wdyjsxmy1j2r0000gn/T/tmpoidcpxm3/h2o_phall_started_from_python.err\n",
      "  Server is running at http://127.0.0.1:54321\n",
      "Connecting to H2O server at http://127.0.0.1:54321... successful.\n"
     ]
    },
    {
     "data": {
      "text/html": [
       "<div style=\"overflow:auto\"><table style=\"width:50%\"><tr><td>H2O cluster uptime:</td>\n",
       "<td>01 secs</td></tr>\n",
       "<tr><td>H2O cluster version:</td>\n",
       "<td>3.12.0.1</td></tr>\n",
       "<tr><td>H2O cluster version age:</td>\n",
       "<td>2 months and 7 days </td></tr>\n",
       "<tr><td>H2O cluster name:</td>\n",
       "<td>H2O_from_python_phall_tff9kq</td></tr>\n",
       "<tr><td>H2O cluster total nodes:</td>\n",
       "<td>1</td></tr>\n",
       "<tr><td>H2O cluster free memory:</td>\n",
       "<td>3.556 Gb</td></tr>\n",
       "<tr><td>H2O cluster total cores:</td>\n",
       "<td>8</td></tr>\n",
       "<tr><td>H2O cluster allowed cores:</td>\n",
       "<td>8</td></tr>\n",
       "<tr><td>H2O cluster status:</td>\n",
       "<td>accepting new members, healthy</td></tr>\n",
       "<tr><td>H2O connection url:</td>\n",
       "<td>http://127.0.0.1:54321</td></tr>\n",
       "<tr><td>H2O connection proxy:</td>\n",
       "<td>None</td></tr>\n",
       "<tr><td>H2O internal security:</td>\n",
       "<td>False</td></tr>\n",
       "<tr><td>Python version:</td>\n",
       "<td>3.5.2 final</td></tr></table></div>"
      ],
      "text/plain": [
       "--------------------------  ------------------------------\n",
       "H2O cluster uptime:         01 secs\n",
       "H2O cluster version:        3.12.0.1\n",
       "H2O cluster version age:    2 months and 7 days\n",
       "H2O cluster name:           H2O_from_python_phall_tff9kq\n",
       "H2O cluster total nodes:    1\n",
       "H2O cluster free memory:    3.556 Gb\n",
       "H2O cluster total cores:    8\n",
       "H2O cluster allowed cores:  8\n",
       "H2O cluster status:         accepting new members, healthy\n",
       "H2O connection url:         http://127.0.0.1:54321\n",
       "H2O connection proxy:\n",
       "H2O internal security:      False\n",
       "Python version:             3.5.2 final\n",
       "--------------------------  ------------------------------"
      ]
     },
     "metadata": {},
     "output_type": "display_data"
    }
   ],
   "source": [
    "# start h2o\n",
    "h2o.init()\n",
    "h2o.remove_all()\n",
    "h2o.show_progress()"
   ]
  },
  {
   "cell_type": "markdown",
   "metadata": {},
   "source": [
    "#### Load and prepare data for modeling"
   ]
  },
  {
   "cell_type": "code",
   "execution_count": 3,
   "metadata": {
    "collapsed": false
   },
   "outputs": [
    {
     "name": "stdout",
     "output_type": "stream",
     "text": [
      "Parse progress: |█████████████████████████████████████████████████████████| 100%\n"
     ]
    }
   ],
   "source": [
    "# load clean data\n",
    "path = '../../03_regression/data/train.csv'\n",
    "frame = h2o.import_file(path=path)"
   ]
  },
  {
   "cell_type": "code",
   "execution_count": 4,
   "metadata": {
    "collapsed": false
   },
   "outputs": [],
   "source": [
    "# assign target and inputs\n",
    "y = 'SalePrice'\n",
    "X = [name for name in frame.columns if name not in [y, 'Id']]"
   ]
  },
  {
   "cell_type": "markdown",
   "metadata": {},
   "source": [
    "#### LOCO is simpler to use with data containing no missing values"
   ]
  },
  {
   "cell_type": "code",
   "execution_count": 5,
   "metadata": {
    "collapsed": true
   },
   "outputs": [],
   "source": [
    "# determine column types\n",
    "# impute\n",
    "reals, enums = [], []\n",
    "for key, val in frame.types.items():\n",
    "    if key in X:\n",
    "        if val == 'enum':\n",
    "            enums.append(key)\n",
    "        else: \n",
    "            reals.append(key)\n",
    "            \n",
    "_ = frame[reals].impute(method='median')\n",
    "_ = frame[enums].impute(method='mode')"
   ]
  },
  {
   "cell_type": "code",
   "execution_count": 6,
   "metadata": {
    "collapsed": true
   },
   "outputs": [],
   "source": [
    "# split into training and validation\n",
    "train, valid = frame.split_frame([0.7])"
   ]
  },
  {
   "cell_type": "markdown",
   "metadata": {},
   "source": [
    "#### Understanding linear correlation and nonlinear dependencies are important for LOCO.\n",
    "* If strong relationships are present, retraining the model after removing an input will simply allow the linearly correlated or nonlinearly dependent variables to make up for the impact of the removed input. This why we will set to missing here, and **not** drop and retrain.\n",
    "* If such relationships are present, models must be regularized to prevent correlation or other dependencies from creating instability in model parameters or rules. (H2O GBM is regularized by column and row sampling.)\n",
    "* For H2O GBM, setting a variable to missing causes it to follow the majority path in each decision tree. The interpretation of LOCO becomes the numeric difference between the local behavior of the variable and the most common local behavior.\n",
    "* Because of linear correlation and nonlinear dependence, LOCO values are valid only for a given data and feature set. "
   ]
  },
  {
   "cell_type": "code",
   "execution_count": 7,
   "metadata": {
    "collapsed": false
   },
   "outputs": [
    {
     "name": "stdout",
     "output_type": "stream",
     "text": [
      "GarageYrBlt YearBuilt\n",
      "GrLivArea TotRmsAbvGrd\n",
      "TotalBsmtSF 1stFlrSF\n",
      "1stFlrSF TotalBsmtSF\n",
      "GarageCars GarageArea\n",
      "YearBuilt GarageYrBlt\n",
      "GarageArea GarageCars\n",
      "TotRmsAbvGrd GrLivArea\n"
     ]
    }
   ],
   "source": [
    "# print out linearly correlated pairs\n",
    "corr = train[reals].cor().as_data_frame()\n",
    "for i in range(0, corr.shape[0]):\n",
    "    for j in range(0, corr.shape[1]):\n",
    "        if i != j:\n",
    "            if np.abs(corr.iat[i, j]) > 0.7:\n",
    "                print(corr.columns[i], corr.columns[j])"
   ]
  },
  {
   "cell_type": "markdown",
   "metadata": {},
   "source": [
    "It's likely that even more nonlinearly dependent relationships exist between inputs. Nonlinearly relationships can also behave differently at global and local scales."
   ]
  },
  {
   "cell_type": "markdown",
   "metadata": {
    "collapsed": true
   },
   "source": [
    "#### Removing one var from each correlated pair may increase stability in the model and its explanations"
   ]
  },
  {
   "cell_type": "code",
   "execution_count": 8,
   "metadata": {
    "collapsed": false
   },
   "outputs": [],
   "source": [
    "X_reals_decorr = [i for i in reals if i not in  ['GarageYrBlt', 'TotRmsAbvGrd', 'TotalBsmtSF', 'GarageCars']]"
   ]
  },
  {
   "cell_type": "markdown",
   "metadata": {},
   "source": [
    "## Train a predictive model"
   ]
  },
  {
   "cell_type": "code",
   "execution_count": 9,
   "metadata": {
    "collapsed": false
   },
   "outputs": [
    {
     "name": "stdout",
     "output_type": "stream",
     "text": [
      "gbm Model Build progress: |███████████████████████████████████████████████| 100%\n",
      "gbm prediction progress: |████████████████████████████████████████████████| 100%\n"
     ]
    }
   ],
   "source": [
    "# train GBM model\n",
    "model = H2OGradientBoostingEstimator(ntrees=100,\n",
    "                                     max_depth=10,\n",
    "                                     distribution='huber',\n",
    "                                     learn_rate=0.1,\n",
    "                                     stopping_rounds=5,\n",
    "                                     seed=12345)\n",
    "\n",
    "model.train(y=y, x=X_reals_decorr, training_frame=train, validation_frame=valid)\n",
    "\n",
    "preds = valid['Id'].cbind(model.predict(valid))"
   ]
  },
  {
   "cell_type": "markdown",
   "metadata": {},
   "source": [
    "## Rescore predictive model\n",
    "* Each time leaving one input (covariate) out by setting it to missing\n",
    "* To generate local feature importance values for each decision"
   ]
  },
  {
   "cell_type": "code",
   "execution_count": 10,
   "metadata": {
    "collapsed": false
   },
   "outputs": [
    {
     "name": "stdout",
     "output_type": "stream",
     "text": [
      "LOCO Progress: HalfBath (1/32) ...\n",
      "LOCO Progress: BsmtFinSF1 (2/32) ...\n",
      "LOCO Progress: MoSold (3/32) ...\n",
      "LOCO Progress: PoolArea (4/32) ...\n",
      "LOCO Progress: BsmtHalfBath (5/32) ...\n",
      "LOCO Progress: BedroomAbvGr (6/32) ...\n",
      "LOCO Progress: BsmtFinSF2 (7/32) ...\n",
      "LOCO Progress: GrLivArea (8/32) ...\n",
      "LOCO Progress: KitchenAbvGr (9/32) ...\n",
      "LOCO Progress: LotFrontage (10/32) ...\n",
      "LOCO Progress: MSSubClass (11/32) ...\n",
      "LOCO Progress: BsmtUnfSF (12/32) ...\n",
      "LOCO Progress: LotArea (13/32) ...\n",
      "LOCO Progress: OpenPorchSF (14/32) ...\n",
      "LOCO Progress: 1stFlrSF (15/32) ...\n",
      "LOCO Progress: 3SsnPorch (16/32) ...\n",
      "LOCO Progress: Fireplaces (17/32) ...\n",
      "LOCO Progress: EnclosedPorch (18/32) ...\n",
      "LOCO Progress: LowQualFinSF (19/32) ...\n",
      "LOCO Progress: 2ndFlrSF (20/32) ...\n",
      "LOCO Progress: YearBuilt (21/32) ...\n",
      "LOCO Progress: YrSold (22/32) ...\n",
      "LOCO Progress: BsmtFullBath (23/32) ...\n",
      "LOCO Progress: WoodDeckSF (24/32) ...\n",
      "LOCO Progress: OverallCond (25/32) ...\n",
      "LOCO Progress: GarageArea (26/32) ...\n",
      "LOCO Progress: ScreenPorch (27/32) ...\n",
      "LOCO Progress: MasVnrArea (28/32) ...\n",
      "LOCO Progress: MiscVal (29/32) ...\n",
      "LOCO Progress: OverallQual (30/32) ...\n",
      "LOCO Progress: YearRemodAdd (31/32) ...\n",
      "LOCO Progress: FullBath (32/32) ...\n",
      "Done.\n"
     ]
    },
    {
     "data": {
      "text/html": [
       "<table>\n",
       "<thead>\n",
       "<tr><th style=\"text-align: right;\">  Id</th><th style=\"text-align: right;\">  predict</th><th style=\"text-align: right;\">  HalfBath</th><th style=\"text-align: right;\">  BsmtFinSF1</th><th style=\"text-align: right;\">   MoSold</th><th style=\"text-align: right;\">  PoolArea</th><th style=\"text-align: right;\">  BsmtHalfBath</th><th style=\"text-align: right;\">  BedroomAbvGr</th><th style=\"text-align: right;\">  BsmtFinSF2</th><th style=\"text-align: right;\">  GrLivArea</th><th style=\"text-align: right;\">  KitchenAbvGr</th><th style=\"text-align: right;\">  LotFrontage</th><th style=\"text-align: right;\">  MSSubClass</th><th style=\"text-align: right;\">  BsmtUnfSF</th><th style=\"text-align: right;\">    LotArea</th><th style=\"text-align: right;\">  OpenPorchSF</th><th style=\"text-align: right;\">  1stFlrSF</th><th style=\"text-align: right;\">  3SsnPorch</th><th style=\"text-align: right;\">  Fireplaces</th><th style=\"text-align: right;\">  EnclosedPorch</th><th style=\"text-align: right;\">  LowQualFinSF</th><th style=\"text-align: right;\">  2ndFlrSF</th><th style=\"text-align: right;\">  YearBuilt</th><th style=\"text-align: right;\">   YrSold</th><th style=\"text-align: right;\">  BsmtFullBath</th><th style=\"text-align: right;\">  WoodDeckSF</th><th style=\"text-align: right;\">  OverallCond</th><th style=\"text-align: right;\">  GarageArea</th><th style=\"text-align: right;\">  ScreenPorch</th><th style=\"text-align: right;\">  MasVnrArea</th><th style=\"text-align: right;\">  MiscVal</th><th style=\"text-align: right;\">  OverallQual</th><th style=\"text-align: right;\">  YearRemodAdd</th><th style=\"text-align: right;\">  FullBath</th></tr>\n",
       "</thead>\n",
       "<tbody>\n",
       "<tr><td style=\"text-align: right;\">   4</td><td style=\"text-align: right;\">   162737</td><td style=\"text-align: right;\">     0    </td><td style=\"text-align: right;\">    5426.69 </td><td style=\"text-align: right;\"> 1307.74 </td><td style=\"text-align: right;\">         0</td><td style=\"text-align: right;\">        0     </td><td style=\"text-align: right;\">         0    </td><td style=\"text-align: right;\">           0</td><td style=\"text-align: right;\">   2825.75 </td><td style=\"text-align: right;\">          0   </td><td style=\"text-align: right;\">      719.187</td><td style=\"text-align: right;\">    836.729 </td><td style=\"text-align: right;\">   1734.61 </td><td style=\"text-align: right;\">     0     </td><td style=\"text-align: right;\">      727.522</td><td style=\"text-align: right;\">   683.734</td><td style=\"text-align: right;\">          0</td><td style=\"text-align: right;\">  -294.17   </td><td style=\"text-align: right;\">       -79.2358</td><td style=\"text-align: right;\">             0</td><td style=\"text-align: right;\">  -810.712</td><td style=\"text-align: right;\">  12167.3  </td><td style=\"text-align: right;\">-5918.04 </td><td style=\"text-align: right;\">   -1459.14   </td><td style=\"text-align: right;\">    -635.263</td><td style=\"text-align: right;\">     5173.29 </td><td style=\"text-align: right;\">   -8044.2  </td><td style=\"text-align: right;\">          0  </td><td style=\"text-align: right;\">       0    </td><td style=\"text-align: right;\">        0</td><td style=\"text-align: right;\">    -36467.5 </td><td style=\"text-align: right;\">     21993.6  </td><td style=\"text-align: right;\">     0    </td></tr>\n",
       "<tr><td style=\"text-align: right;\">   5</td><td style=\"text-align: right;\">   321949</td><td style=\"text-align: right;\">  -708.329</td><td style=\"text-align: right;\">   12408.5  </td><td style=\"text-align: right;\">27137.8  </td><td style=\"text-align: right;\">         0</td><td style=\"text-align: right;\">        0     </td><td style=\"text-align: right;\">         0    </td><td style=\"text-align: right;\">           0</td><td style=\"text-align: right;\">  -7560.51 </td><td style=\"text-align: right;\">          0   </td><td style=\"text-align: right;\">    -3064.35 </td><td style=\"text-align: right;\">      0     </td><td style=\"text-align: right;\">   -321.035</td><td style=\"text-align: right;\">-11176.7   </td><td style=\"text-align: right;\">    -6596.96 </td><td style=\"text-align: right;\"> 13893.5  </td><td style=\"text-align: right;\">          0</td><td style=\"text-align: right;\">    -3.02205</td><td style=\"text-align: right;\">         0     </td><td style=\"text-align: right;\">             0</td><td style=\"text-align: right;\"> -3952.2  </td><td style=\"text-align: right;\">  -7019.57 </td><td style=\"text-align: right;\"> 1599.46 </td><td style=\"text-align: right;\">   -2264.6    </td><td style=\"text-align: right;\">   -3086.45 </td><td style=\"text-align: right;\">        0    </td><td style=\"text-align: right;\">  -39288.8  </td><td style=\"text-align: right;\">          0  </td><td style=\"text-align: right;\">     609.803</td><td style=\"text-align: right;\">        0</td><td style=\"text-align: right;\">    -80951.9 </td><td style=\"text-align: right;\">      4742.61 </td><td style=\"text-align: right;\">     0    </td></tr>\n",
       "<tr><td style=\"text-align: right;\">   7</td><td style=\"text-align: right;\">   288940</td><td style=\"text-align: right;\">  4286.86 </td><td style=\"text-align: right;\">  -38286.6  </td><td style=\"text-align: right;\">    0    </td><td style=\"text-align: right;\">         0</td><td style=\"text-align: right;\">        0     </td><td style=\"text-align: right;\">         0    </td><td style=\"text-align: right;\">           0</td><td style=\"text-align: right;\">    521.262</td><td style=\"text-align: right;\">          0   </td><td style=\"text-align: right;\">        0    </td><td style=\"text-align: right;\">   -716.772 </td><td style=\"text-align: right;\">    275.934</td><td style=\"text-align: right;\">   229.391 </td><td style=\"text-align: right;\">     -912.311</td><td style=\"text-align: right;\">-10971    </td><td style=\"text-align: right;\">          0</td><td style=\"text-align: right;\">   224.838  </td><td style=\"text-align: right;\">         0     </td><td style=\"text-align: right;\">             0</td><td style=\"text-align: right;\">     0    </td><td style=\"text-align: right;\">    664.773</td><td style=\"text-align: right;\"> -297.844</td><td style=\"text-align: right;\">      -1.47215</td><td style=\"text-align: right;\">    -112.298</td><td style=\"text-align: right;\">        0    </td><td style=\"text-align: right;\">   -9753.45 </td><td style=\"text-align: right;\">          0  </td><td style=\"text-align: right;\">    -139.076</td><td style=\"text-align: right;\">        0</td><td style=\"text-align: right;\">    -83533.4 </td><td style=\"text-align: right;\">      -411.94 </td><td style=\"text-align: right;\">     0    </td></tr>\n",
       "<tr><td style=\"text-align: right;\">   8</td><td style=\"text-align: right;\">   214558</td><td style=\"text-align: right;\"> -2934.78 </td><td style=\"text-align: right;\">   -2155.88 </td><td style=\"text-align: right;\">-1596.35 </td><td style=\"text-align: right;\">         0</td><td style=\"text-align: right;\">        0     </td><td style=\"text-align: right;\">         0    </td><td style=\"text-align: right;\">           0</td><td style=\"text-align: right;\"> -34924.2  </td><td style=\"text-align: right;\">          0   </td><td style=\"text-align: right;\">      824.924</td><td style=\"text-align: right;\">      0     </td><td style=\"text-align: right;\">  -3677.11 </td><td style=\"text-align: right;\">  5894.01  </td><td style=\"text-align: right;\">    -2393.04 </td><td style=\"text-align: right;\">  -717.704</td><td style=\"text-align: right;\">          0</td><td style=\"text-align: right;\">  1019.98   </td><td style=\"text-align: right;\">      2054.01  </td><td style=\"text-align: right;\">             0</td><td style=\"text-align: right;\"> -1302.45 </td><td style=\"text-align: right;\">   1471.64 </td><td style=\"text-align: right;\">    0    </td><td style=\"text-align: right;\">    -525.598  </td><td style=\"text-align: right;\">   -6039.15 </td><td style=\"text-align: right;\">    -1901.71 </td><td style=\"text-align: right;\">   -6247.74 </td><td style=\"text-align: right;\">          0  </td><td style=\"text-align: right;\">    1615.11 </td><td style=\"text-align: right;\">        0</td><td style=\"text-align: right;\">    -14857.3 </td><td style=\"text-align: right;\">     25196.1  </td><td style=\"text-align: right;\">     0    </td></tr>\n",
       "<tr><td style=\"text-align: right;\">  11</td><td style=\"text-align: right;\">   130570</td><td style=\"text-align: right;\">     0    </td><td style=\"text-align: right;\">   -1501.59 </td><td style=\"text-align: right;\">  373.448</td><td style=\"text-align: right;\">         0</td><td style=\"text-align: right;\">        0     </td><td style=\"text-align: right;\">         0    </td><td style=\"text-align: right;\">           0</td><td style=\"text-align: right;\">   -772.792</td><td style=\"text-align: right;\">          0   </td><td style=\"text-align: right;\">      -58.044</td><td style=\"text-align: right;\">    420.323 </td><td style=\"text-align: right;\">   1796.17 </td><td style=\"text-align: right;\">    24.6083</td><td style=\"text-align: right;\">        0    </td><td style=\"text-align: right;\"> -7408.69 </td><td style=\"text-align: right;\">          0</td><td style=\"text-align: right;\">     0      </td><td style=\"text-align: right;\">         0     </td><td style=\"text-align: right;\">             0</td><td style=\"text-align: right;\">     0    </td><td style=\"text-align: right;\">    706.53 </td><td style=\"text-align: right;\">    0    </td><td style=\"text-align: right;\">   -1356.89   </td><td style=\"text-align: right;\">       0    </td><td style=\"text-align: right;\">     5717.06 </td><td style=\"text-align: right;\">    2281.01 </td><td style=\"text-align: right;\">          0  </td><td style=\"text-align: right;\">       0    </td><td style=\"text-align: right;\">        0</td><td style=\"text-align: right;\">      1182.2 </td><td style=\"text-align: right;\">      2090.64 </td><td style=\"text-align: right;\">     0    </td></tr>\n",
       "<tr><td style=\"text-align: right;\">  13</td><td style=\"text-align: right;\">   132042</td><td style=\"text-align: right;\">     0    </td><td style=\"text-align: right;\">   -3415.88 </td><td style=\"text-align: right;\"> -313.206</td><td style=\"text-align: right;\">         0</td><td style=\"text-align: right;\">        0     </td><td style=\"text-align: right;\">       150.151</td><td style=\"text-align: right;\">           0</td><td style=\"text-align: right;\">   -733.679</td><td style=\"text-align: right;\">          0   </td><td style=\"text-align: right;\">      447.161</td><td style=\"text-align: right;\">    180.826 </td><td style=\"text-align: right;\">  -1629.84 </td><td style=\"text-align: right;\"> -3467.46  </td><td style=\"text-align: right;\">        0    </td><td style=\"text-align: right;\">     0    </td><td style=\"text-align: right;\">          0</td><td style=\"text-align: right;\">     0      </td><td style=\"text-align: right;\">         0     </td><td style=\"text-align: right;\">             0</td><td style=\"text-align: right;\">     0    </td><td style=\"text-align: right;\">    220.939</td><td style=\"text-align: right;\">    0    </td><td style=\"text-align: right;\">   -1251      </td><td style=\"text-align: right;\">     262.766</td><td style=\"text-align: right;\">     -927.486</td><td style=\"text-align: right;\">    -469.974</td><td style=\"text-align: right;\">      -2031.6</td><td style=\"text-align: right;\">       0    </td><td style=\"text-align: right;\">        0</td><td style=\"text-align: right;\">      1709.63</td><td style=\"text-align: right;\">      6448.98 </td><td style=\"text-align: right;\">     0    </td></tr>\n",
       "<tr><td style=\"text-align: right;\">  18</td><td style=\"text-align: right;\">   124058</td><td style=\"text-align: right;\">   140.167</td><td style=\"text-align: right;\">    7117.68 </td><td style=\"text-align: right;\"> 1132.37 </td><td style=\"text-align: right;\">         0</td><td style=\"text-align: right;\">        0     </td><td style=\"text-align: right;\">      1359.23 </td><td style=\"text-align: right;\">           0</td><td style=\"text-align: right;\">    315.657</td><td style=\"text-align: right;\">       1959.07</td><td style=\"text-align: right;\">      -58.044</td><td style=\"text-align: right;\">   4142.5   </td><td style=\"text-align: right;\">   5807.16 </td><td style=\"text-align: right;\">   265.833 </td><td style=\"text-align: right;\">        0    </td><td style=\"text-align: right;\">-11407.5  </td><td style=\"text-align: right;\">          0</td><td style=\"text-align: right;\">   922.09   </td><td style=\"text-align: right;\">         0     </td><td style=\"text-align: right;\">             0</td><td style=\"text-align: right;\">     0    </td><td style=\"text-align: right;\"> -17613.7  </td><td style=\"text-align: right;\"> 1225.79 </td><td style=\"text-align: right;\">       0      </td><td style=\"text-align: right;\">       0    </td><td style=\"text-align: right;\">      538.854</td><td style=\"text-align: right;\">     561.559</td><td style=\"text-align: right;\">          0  </td><td style=\"text-align: right;\">       0    </td><td style=\"text-align: right;\">        0</td><td style=\"text-align: right;\">      8583.6 </td><td style=\"text-align: right;\">       896.597</td><td style=\"text-align: right;\"> -1646.95 </td></tr>\n",
       "<tr><td style=\"text-align: right;\">  21</td><td style=\"text-align: right;\">   315667</td><td style=\"text-align: right;\">   105.762</td><td style=\"text-align: right;\">   12636.7  </td><td style=\"text-align: right;\">25091.7  </td><td style=\"text-align: right;\">         0</td><td style=\"text-align: right;\">        0     </td><td style=\"text-align: right;\">         0    </td><td style=\"text-align: right;\">           0</td><td style=\"text-align: right;\"> -30379.8  </td><td style=\"text-align: right;\">          0   </td><td style=\"text-align: right;\">    -2426.85 </td><td style=\"text-align: right;\">      0     </td><td style=\"text-align: right;\">  13761.8  </td><td style=\"text-align: right;\"> -6041.51  </td><td style=\"text-align: right;\">    -5266.2  </td><td style=\"text-align: right;\">  9589.59 </td><td style=\"text-align: right;\">          0</td><td style=\"text-align: right;\">   433.176  </td><td style=\"text-align: right;\">         0     </td><td style=\"text-align: right;\">             0</td><td style=\"text-align: right;\"> -6544.59 </td><td style=\"text-align: right;\">  -8300.07 </td><td style=\"text-align: right;\">    0    </td><td style=\"text-align: right;\">    2814.84   </td><td style=\"text-align: right;\">    1723.94 </td><td style=\"text-align: right;\">        0    </td><td style=\"text-align: right;\">  -18974.7  </td><td style=\"text-align: right;\">          0  </td><td style=\"text-align: right;\">   -2872.53 </td><td style=\"text-align: right;\">        0</td><td style=\"text-align: right;\">   -107036   </td><td style=\"text-align: right;\">     -2016.31 </td><td style=\"text-align: right;\">     0    </td></tr>\n",
       "<tr><td style=\"text-align: right;\">  38</td><td style=\"text-align: right;\">   139593</td><td style=\"text-align: right;\">   140.167</td><td style=\"text-align: right;\">  -11190.9  </td><td style=\"text-align: right;\"> 3093.13 </td><td style=\"text-align: right;\">         0</td><td style=\"text-align: right;\">      -60.0012</td><td style=\"text-align: right;\">         0    </td><td style=\"text-align: right;\">           0</td><td style=\"text-align: right;\">  -1225.85 </td><td style=\"text-align: right;\">          0   </td><td style=\"text-align: right;\">      840.328</td><td style=\"text-align: right;\">     75.9954</td><td style=\"text-align: right;\">   3984.55 </td><td style=\"text-align: right;\">  3999.82  </td><td style=\"text-align: right;\">        0    </td><td style=\"text-align: right;\">  4484.02 </td><td style=\"text-align: right;\">          0</td><td style=\"text-align: right;\"> -3524.89   </td><td style=\"text-align: right;\">         0     </td><td style=\"text-align: right;\">             0</td><td style=\"text-align: right;\">     0    </td><td style=\"text-align: right;\">  10936.9  </td><td style=\"text-align: right;\">  240.289</td><td style=\"text-align: right;\">       0      </td><td style=\"text-align: right;\">       0    </td><td style=\"text-align: right;\">     -445.479</td><td style=\"text-align: right;\">    1442.54 </td><td style=\"text-align: right;\">          0  </td><td style=\"text-align: right;\">    -822.334</td><td style=\"text-align: right;\">        0</td><td style=\"text-align: right;\">      2498.6 </td><td style=\"text-align: right;\">      2362.87 </td><td style=\"text-align: right;\">   162.936</td></tr>\n",
       "<tr><td style=\"text-align: right;\">  41</td><td style=\"text-align: right;\">   158223</td><td style=\"text-align: right;\">  -557.072</td><td style=\"text-align: right;\">     538.874</td><td style=\"text-align: right;\"> 3711.56 </td><td style=\"text-align: right;\">         0</td><td style=\"text-align: right;\">        0     </td><td style=\"text-align: right;\">         0    </td><td style=\"text-align: right;\">           0</td><td style=\"text-align: right;\">  -2371.64 </td><td style=\"text-align: right;\">          0   </td><td style=\"text-align: right;\">    -3263.31 </td><td style=\"text-align: right;\">   1773.37  </td><td style=\"text-align: right;\">    538.58 </td><td style=\"text-align: right;\"> -1101.54  </td><td style=\"text-align: right;\">    -2713.6  </td><td style=\"text-align: right;\">-18880.1  </td><td style=\"text-align: right;\">          0</td><td style=\"text-align: right;\"> -8196.03   </td><td style=\"text-align: right;\">         0     </td><td style=\"text-align: right;\">             0</td><td style=\"text-align: right;\">     0    </td><td style=\"text-align: right;\">  -3437.71 </td><td style=\"text-align: right;\"> -496.612</td><td style=\"text-align: right;\">    2685.87   </td><td style=\"text-align: right;\">       0    </td><td style=\"text-align: right;\">      955.21 </td><td style=\"text-align: right;\">       0    </td><td style=\"text-align: right;\">          0  </td><td style=\"text-align: right;\">   -1095.96 </td><td style=\"text-align: right;\">        0</td><td style=\"text-align: right;\">     -9173.71</td><td style=\"text-align: right;\">      -579.85 </td><td style=\"text-align: right;\"> -2707.86 </td></tr>\n",
       "</tbody>\n",
       "</table>"
      ]
     },
     "metadata": {},
     "output_type": "display_data"
    },
    {
     "data": {
      "text/plain": []
     },
     "execution_count": 10,
     "metadata": {},
     "output_type": "execute_result"
    }
   ],
   "source": [
    "h2o.no_progress()\n",
    "\n",
    "for k, i in enumerate(X_reals_decorr):\n",
    "\n",
    "    # train and predict with Xi set to missing\n",
    "    valid_loco = h2o.deep_copy(valid, 'valid_loco')\n",
    "    valid_loco[i] = np.nan\n",
    "    preds_loco = model.predict(valid_loco)\n",
    "    \n",
    "    # create a new, named column for the LOCO prediction\n",
    "    preds_loco.columns = [i]\n",
    "    preds = preds.cbind(preds_loco)\n",
    "    \n",
    "    # subtract the LOCO prediction from \n",
    "    preds[i] = preds[i] - preds['predict']\n",
    "    \n",
    "    print('LOCO Progress: ' + i + ' (' + str(k+1) + '/' + str(len(X_reals_decorr)) + ') ...')\n",
    "    \n",
    "print('Done.')  \n",
    "\n",
    "preds.head()"
   ]
  },
  {
   "cell_type": "markdown",
   "metadata": {},
   "source": [
    "The numeric values in each column are an estimate of how much each variable contributed to each decision. These values can tell you how a variable and it's values were weighted in any given decision by the model. These values are crucially important for machine learning interpretability and are often to referred to \"local feature importance\", \"reason codes\", or \"turn-down codes.\" The latter phrases are borrowed from credit scoring. Credit lenders must provide reasons for turning down a credit application, even for automated decisions. Reason codes can be easily extracted from LOCO local feature importance values, by simply ranking the variables that played the largest role in any given decision."
   ]
  },
  {
   "cell_type": "markdown",
   "metadata": {},
   "source": [
    "#### Helper function for finding quantile indices"
   ]
  },
  {
   "cell_type": "code",
   "execution_count": 11,
   "metadata": {
    "collapsed": false
   },
   "outputs": [
    {
     "name": "stdout",
     "output_type": "stream",
     "text": [
      "{0: 621.0, 80: 606.0, 50: 744.0, 99: 1299.0, 20: 372.0, 70: 849.0, 40: 207.0, 10: 996.0, 60: 983.0, 90: 1343.0, 30: 38.0}\n"
     ]
    }
   ],
   "source": [
    "def get_quantile_dict(y, id_, frame):\n",
    "\n",
    "    \"\"\" Returns the percentiles of a column y as the indices for another column id_.\n",
    "    \n",
    "    Args:\n",
    "        y: Column in which to find percentiles.\n",
    "        id_: Id column that stores indices for percentiles of y.\n",
    "        frame: H2OFrame containing y and id_. \n",
    "    \n",
    "    Returns:\n",
    "        Dictionary of percentile values and index column values.\n",
    "    \n",
    "    \"\"\"\n",
    "    \n",
    "    quantiles_df = frame.as_data_frame()\n",
    "    quantiles_df.sort_values(y, inplace=True)\n",
    "    quantiles_df.reset_index(inplace=True)\n",
    "    \n",
    "    percentiles_dict = {}\n",
    "    percentiles_dict[0] = quantiles_df.loc[0, id_]\n",
    "    percentiles_dict[99] = quantiles_df.loc[quantiles_df.shape[0]-1, id_]\n",
    "    inc = quantiles_df.shape[0]//10\n",
    "    \n",
    "    for i in range(1, 10):\n",
    "        percentiles_dict[i * 10] = quantiles_df.loc[i * inc,  id_]\n",
    "\n",
    "    return percentiles_dict\n",
    "\n",
    "quantile_dict = get_quantile_dict('predict', 'Id', preds)\n",
    "print(quantile_dict)"
   ]
  },
  {
   "cell_type": "markdown",
   "metadata": {},
   "source": [
    "#### Plot some reason codes for a representative row"
   ]
  },
  {
   "cell_type": "code",
   "execution_count": 12,
   "metadata": {
    "collapsed": true
   },
   "outputs": [],
   "source": [
    "%matplotlib inline"
   ]
  },
  {
   "cell_type": "code",
   "execution_count": 13,
   "metadata": {
    "collapsed": false
   },
   "outputs": [
    {
     "data": {
      "image/png": "[encoded data removed]",
      "text/plain": [
       "<matplotlib.figure.Figure at 0x118bb3748>"
      ]
     },
     "metadata": {},
     "output_type": "display_data"
    }
   ],
   "source": [
    "median_loco = preds[preds['Id'] == int(quantile_dict[50]), :].as_data_frame().drop(['Id', 'predict'], axis=1)\n",
    "median_loco = median_loco.T.sort_values(by=0)[:5]\n",
    "_ = median_loco.plot(kind='bar', \n",
    "                     title='Negative Reason Codes for the Median of Predicted Sale Price\\n', \n",
    "                     legend=False)"
   ]
  },
  {
   "cell_type": "code",
   "execution_count": 14,
   "metadata": {
    "collapsed": false
   },
   "outputs": [
    {
     "data": {
      "image/png": "[encoded data removed]",
      "text/plain": [
       "<matplotlib.figure.Figure at 0x118c70908>"
      ]
     },
     "metadata": {},
     "output_type": "display_data"
    }
   ],
   "source": [
    "median_loco = preds[preds['Id'] == int(quantile_dict[50]), :].as_data_frame().drop(['Id', 'predict'], axis=1)\n",
    "median_loco = median_loco.T.sort_values(by=0, ascending=False)[:5]\n",
    "_ = median_loco.plot(kind='bar', \n",
    "                     title='Positive Reason Codes for the Median of Predicted Sale Price\\n', \n",
    "                     color='r',\n",
    "                     legend=False)"
   ]
  },
  {
   "cell_type": "markdown",
   "metadata": {},
   "source": [
    "## Ensembling explantions to reduce local variance\n",
    "Explanations derived from high variance machine learning models can be unstable. One general way to decrease variance is to ensemble the results of many models."
   ]
  },
  {
   "cell_type": "markdown",
   "metadata": {},
   "source": [
    "#### Train multiple models"
   ]
  },
  {
   "cell_type": "code",
   "execution_count": 15,
   "metadata": {
    "collapsed": false
   },
   "outputs": [
    {
     "name": "stdout",
     "output_type": "stream",
     "text": [
      "Training Progress: model 1/10 ...\n",
      "Training Progress: model 2/10 ...\n",
      "Training Progress: model 3/10 ...\n",
      "Training Progress: model 4/10 ...\n",
      "Training Progress: model 5/10 ...\n",
      "Training Progress: model 6/10 ...\n",
      "Training Progress: model 7/10 ...\n",
      "Training Progress: model 8/10 ...\n",
      "Training Progress: model 9/10 ...\n",
      "Training Progress: model 10/10 ...\n",
      "Done.\n"
     ]
    }
   ],
   "source": [
    "n_models = 10 # select number of models\n",
    "\n",
    "models = []\n",
    "pred_frames = []\n",
    "\n",
    "for i in range(0, n_models):\n",
    "\n",
    "    # store models\n",
    "    models.append(H2OGradientBoostingEstimator(ntrees=500,\n",
    "                                               max_depth=2 * (i + 1),\n",
    "                                               distribution='huber',\n",
    "                                               learn_rate=0.01 * (i + 1),\n",
    "                                               stopping_rounds=5,\n",
    "                                               seed=i + 1))\n",
    "    \n",
    "    # train models\n",
    "    models[i].train(y=y, x=X_reals_decorr, training_frame=train, validation_frame=valid)\n",
    "    \n",
    "    # store predictions\n",
    "    pred_frames.append(valid['Id'].cbind(models[i].predict(valid)))\n",
    "\n",
    "    print('Training Progress: model %d/%d ...' % (i + 1, n_models))\n",
    "\n",
    "print('Done.')"
   ]
  },
  {
   "cell_type": "markdown",
   "metadata": {},
   "source": [
    "#### Calculate LOCO for each model"
   ]
  },
  {
   "cell_type": "code",
   "execution_count": 16,
   "metadata": {
    "collapsed": false
   },
   "outputs": [
    {
     "name": "stdout",
     "output_type": "stream",
     "text": [
      "LOCO Progress: model 1/10 ...\n",
      "LOCO Progress: model 2/10 ...\n",
      "LOCO Progress: model 3/10 ...\n",
      "LOCO Progress: model 4/10 ...\n",
      "LOCO Progress: model 5/10 ...\n",
      "LOCO Progress: model 6/10 ...\n",
      "LOCO Progress: model 7/10 ...\n",
      "LOCO Progress: model 8/10 ...\n",
      "LOCO Progress: model 9/10 ...\n",
      "LOCO Progress: model 10/10 ...\n",
      "Done.\n"
     ]
    }
   ],
   "source": [
    "for k, model in enumerate(models):\n",
    "\n",
    "    for i in X_reals_decorr:\n",
    "\n",
    "        # train and predict with Xi set to missing\n",
    "        valid_loco = h2o.deep_copy(valid, 'valid_loco')\n",
    "        valid_loco[i] = np.nan\n",
    "        preds_loco = model.predict(valid_loco)\n",
    "\n",
    "        # create a new, named column for the LOCO prediction\n",
    "        preds_loco.columns = [i]\n",
    "        pred_frames[k] = pred_frames[k].cbind(preds_loco)\n",
    "\n",
    "        # subtract the LOCO prediction from \n",
    "        pred_frames[k][i] = pred_frames[k][i] - pred_frames[k]['predict']\n",
    "        \n",
    "    print('LOCO Progress: model %d/%d ...' % (k + 1, n_models))\n",
    "\n",
    "print('Done.')"
   ]
  },
  {
   "cell_type": "markdown",
   "metadata": {},
   "source": [
    "#### Collect LOCO values for each model for the median home"
   ]
  },
  {
   "cell_type": "code",
   "execution_count": 17,
   "metadata": {
    "collapsed": false
   },
   "outputs": [
    {
     "data": {
      "text/html": [
       "<div>\n",
       "<table border=\"1\" class=\"dataframe\">\n",
       "  <thead>\n",
       "    <tr style=\"text-align: right;\">\n",
       "      <th></th>\n",
       "      <th>Loco 1</th>\n",
       "      <th>Loco 2</th>\n",
       "      <th>Loco 3</th>\n",
       "      <th>Loco 4</th>\n",
       "      <th>Loco 5</th>\n",
       "      <th>Loco 6</th>\n",
       "      <th>Loco 7</th>\n",
       "      <th>Loco 8</th>\n",
       "      <th>Loco 9</th>\n",
       "      <th>Loco 10</th>\n",
       "      <th>Mean Local Importance</th>\n",
       "      <th>Std. Dev. Local Importance</th>\n",
       "    </tr>\n",
       "  </thead>\n",
       "  <tbody>\n",
       "    <tr>\n",
       "      <th>HalfBath</th>\n",
       "      <td>0.000000</td>\n",
       "      <td>0.000000</td>\n",
       "      <td>0.000000</td>\n",
       "      <td>0.000000</td>\n",
       "      <td>17.407978</td>\n",
       "      <td>26.615154</td>\n",
       "      <td>-0.654188</td>\n",
       "      <td>0.000000</td>\n",
       "      <td>0.000000</td>\n",
       "      <td>0.000000</td>\n",
       "      <td>4.336894</td>\n",
       "      <td>9.076043</td>\n",
       "    </tr>\n",
       "    <tr>\n",
       "      <th>BsmtFinSF1</th>\n",
       "      <td>0.000000</td>\n",
       "      <td>680.464241</td>\n",
       "      <td>-336.981845</td>\n",
       "      <td>315.137484</td>\n",
       "      <td>1214.512703</td>\n",
       "      <td>956.425747</td>\n",
       "      <td>76.630281</td>\n",
       "      <td>1519.825218</td>\n",
       "      <td>1531.221380</td>\n",
       "      <td>1996.006836</td>\n",
       "      <td>795.324205</td>\n",
       "      <td>733.805730</td>\n",
       "    </tr>\n",
       "    <tr>\n",
       "      <th>MoSold</th>\n",
       "      <td>0.000000</td>\n",
       "      <td>595.358250</td>\n",
       "      <td>1787.271071</td>\n",
       "      <td>3230.697985</td>\n",
       "      <td>3303.898013</td>\n",
       "      <td>3550.543600</td>\n",
       "      <td>3850.248353</td>\n",
       "      <td>3415.769227</td>\n",
       "      <td>5072.966855</td>\n",
       "      <td>2902.953232</td>\n",
       "      <td>2770.970658</td>\n",
       "      <td>1462.174367</td>\n",
       "    </tr>\n",
       "    <tr>\n",
       "      <th>PoolArea</th>\n",
       "      <td>0.000000</td>\n",
       "      <td>0.000000</td>\n",
       "      <td>0.000000</td>\n",
       "      <td>0.000000</td>\n",
       "      <td>0.000000</td>\n",
       "      <td>0.000000</td>\n",
       "      <td>0.000000</td>\n",
       "      <td>0.000000</td>\n",
       "      <td>0.000000</td>\n",
       "      <td>0.000000</td>\n",
       "      <td>0.000000</td>\n",
       "      <td>0.000000</td>\n",
       "    </tr>\n",
       "    <tr>\n",
       "      <th>BsmtHalfBath</th>\n",
       "      <td>0.000000</td>\n",
       "      <td>-324.321083</td>\n",
       "      <td>-905.862109</td>\n",
       "      <td>-916.352115</td>\n",
       "      <td>-1350.069398</td>\n",
       "      <td>-610.558753</td>\n",
       "      <td>-1009.995516</td>\n",
       "      <td>-1744.493128</td>\n",
       "      <td>-285.008494</td>\n",
       "      <td>-496.417082</td>\n",
       "      <td>-764.307768</td>\n",
       "      <td>501.027368</td>\n",
       "    </tr>\n",
       "    <tr>\n",
       "      <th>BedroomAbvGr</th>\n",
       "      <td>0.000000</td>\n",
       "      <td>0.000000</td>\n",
       "      <td>0.000000</td>\n",
       "      <td>0.000000</td>\n",
       "      <td>0.000000</td>\n",
       "      <td>0.000000</td>\n",
       "      <td>22.660268</td>\n",
       "      <td>0.000000</td>\n",
       "      <td>0.000000</td>\n",
       "      <td>0.000000</td>\n",
       "      <td>2.266027</td>\n",
       "      <td>6.798080</td>\n",
       "    </tr>\n",
       "    <tr>\n",
       "      <th>BsmtFinSF2</th>\n",
       "      <td>0.000000</td>\n",
       "      <td>0.000000</td>\n",
       "      <td>0.000000</td>\n",
       "      <td>0.000000</td>\n",
       "      <td>0.000000</td>\n",
       "      <td>0.000000</td>\n",
       "      <td>0.000000</td>\n",
       "      <td>0.000000</td>\n",
       "      <td>0.000000</td>\n",
       "      <td>0.000000</td>\n",
       "      <td>0.000000</td>\n",
       "      <td>0.000000</td>\n",
       "    </tr>\n",
       "    <tr>\n",
       "      <th>GrLivArea</th>\n",
       "      <td>-9814.912363</td>\n",
       "      <td>-3293.085560</td>\n",
       "      <td>-15809.346302</td>\n",
       "      <td>-11922.584258</td>\n",
       "      <td>-16613.081561</td>\n",
       "      <td>-15301.129244</td>\n",
       "      <td>-9991.529671</td>\n",
       "      <td>-19807.260831</td>\n",
       "      <td>-13970.186814</td>\n",
       "      <td>-14553.987621</td>\n",
       "      <td>-13107.710422</td>\n",
       "      <td>4363.503123</td>\n",
       "    </tr>\n",
       "    <tr>\n",
       "      <th>KitchenAbvGr</th>\n",
       "      <td>0.000000</td>\n",
       "      <td>0.000000</td>\n",
       "      <td>0.000000</td>\n",
       "      <td>0.000000</td>\n",
       "      <td>0.000000</td>\n",
       "      <td>0.000000</td>\n",
       "      <td>0.000000</td>\n",
       "      <td>0.000000</td>\n",
       "      <td>0.000000</td>\n",
       "      <td>0.000000</td>\n",
       "      <td>0.000000</td>\n",
       "      <td>0.000000</td>\n",
       "    </tr>\n",
       "    <tr>\n",
       "      <th>LotFrontage</th>\n",
       "      <td>0.000000</td>\n",
       "      <td>0.000000</td>\n",
       "      <td>0.000000</td>\n",
       "      <td>200.859772</td>\n",
       "      <td>0.000000</td>\n",
       "      <td>-15.328415</td>\n",
       "      <td>-173.339762</td>\n",
       "      <td>-238.470665</td>\n",
       "      <td>444.862839</td>\n",
       "      <td>187.604218</td>\n",
       "      <td>40.618799</td>\n",
       "      <td>185.497698</td>\n",
       "    </tr>\n",
       "    <tr>\n",
       "      <th>MSSubClass</th>\n",
       "      <td>0.000000</td>\n",
       "      <td>0.000000</td>\n",
       "      <td>-709.661157</td>\n",
       "      <td>-213.455500</td>\n",
       "      <td>-2214.505028</td>\n",
       "      <td>16.975995</td>\n",
       "      <td>-682.136323</td>\n",
       "      <td>0.000000</td>\n",
       "      <td>-331.997725</td>\n",
       "      <td>384.716454</td>\n",
       "      <td>-375.006328</td>\n",
       "      <td>690.705773</td>\n",
       "    </tr>\n",
       "    <tr>\n",
       "      <th>BsmtUnfSF</th>\n",
       "      <td>121.164420</td>\n",
       "      <td>2647.415364</td>\n",
       "      <td>3674.875089</td>\n",
       "      <td>4124.255683</td>\n",
       "      <td>4699.058784</td>\n",
       "      <td>5641.689768</td>\n",
       "      <td>6299.426278</td>\n",
       "      <td>3633.974463</td>\n",
       "      <td>5917.591017</td>\n",
       "      <td>2262.545135</td>\n",
       "      <td>3902.199600</td>\n",
       "      <td>1794.475306</td>\n",
       "    </tr>\n",
       "    <tr>\n",
       "      <th>LotArea</th>\n",
       "      <td>-9108.242034</td>\n",
       "      <td>-3173.464452</td>\n",
       "      <td>-8563.072269</td>\n",
       "      <td>-10691.301457</td>\n",
       "      <td>-7911.315177</td>\n",
       "      <td>-8419.845015</td>\n",
       "      <td>-5652.362702</td>\n",
       "      <td>-14777.721228</td>\n",
       "      <td>-5995.706427</td>\n",
       "      <td>-9938.346915</td>\n",
       "      <td>-8423.137768</td>\n",
       "      <td>2995.008619</td>\n",
       "    </tr>\n",
       "    <tr>\n",
       "      <th>OpenPorchSF</th>\n",
       "      <td>0.000000</td>\n",
       "      <td>355.176453</td>\n",
       "      <td>-1089.777695</td>\n",
       "      <td>130.642463</td>\n",
       "      <td>-548.384396</td>\n",
       "      <td>-785.343713</td>\n",
       "      <td>266.417814</td>\n",
       "      <td>748.838837</td>\n",
       "      <td>-388.206953</td>\n",
       "      <td>-702.716066</td>\n",
       "      <td>-201.335326</td>\n",
       "      <td>558.499491</td>\n",
       "    </tr>\n",
       "    <tr>\n",
       "      <th>1stFlrSF</th>\n",
       "      <td>-12816.035657</td>\n",
       "      <td>-4749.720377</td>\n",
       "      <td>-4650.553413</td>\n",
       "      <td>-3123.249856</td>\n",
       "      <td>-3961.233045</td>\n",
       "      <td>-1524.936389</td>\n",
       "      <td>-1415.375563</td>\n",
       "      <td>-3122.871154</td>\n",
       "      <td>-1500.447717</td>\n",
       "      <td>-5490.038249</td>\n",
       "      <td>-4235.446142</td>\n",
       "      <td>3177.533381</td>\n",
       "    </tr>\n",
       "    <tr>\n",
       "      <th>3SsnPorch</th>\n",
       "      <td>0.000000</td>\n",
       "      <td>0.000000</td>\n",
       "      <td>0.000000</td>\n",
       "      <td>0.000000</td>\n",
       "      <td>0.000000</td>\n",
       "      <td>0.000000</td>\n",
       "      <td>0.000000</td>\n",
       "      <td>0.000000</td>\n",
       "      <td>0.000000</td>\n",
       "      <td>0.000000</td>\n",
       "      <td>0.000000</td>\n",
       "      <td>0.000000</td>\n",
       "    </tr>\n",
       "    <tr>\n",
       "      <th>Fireplaces</th>\n",
       "      <td>-2643.482971</td>\n",
       "      <td>-5933.319113</td>\n",
       "      <td>-3037.572496</td>\n",
       "      <td>-2628.585165</td>\n",
       "      <td>-3402.100046</td>\n",
       "      <td>-2305.288406</td>\n",
       "      <td>-3088.624344</td>\n",
       "      <td>-3892.029889</td>\n",
       "      <td>-8849.192387</td>\n",
       "      <td>-2399.433849</td>\n",
       "      <td>-3817.962867</td>\n",
       "      <td>1954.528206</td>\n",
       "    </tr>\n",
       "    <tr>\n",
       "      <th>EnclosedPorch</th>\n",
       "      <td>0.000000</td>\n",
       "      <td>0.000000</td>\n",
       "      <td>0.000000</td>\n",
       "      <td>0.000000</td>\n",
       "      <td>0.000000</td>\n",
       "      <td>0.000000</td>\n",
       "      <td>0.000000</td>\n",
       "      <td>0.000000</td>\n",
       "      <td>0.000000</td>\n",
       "      <td>0.000000</td>\n",
       "      <td>0.000000</td>\n",
       "      <td>0.000000</td>\n",
       "    </tr>\n",
       "    <tr>\n",
       "      <th>LowQualFinSF</th>\n",
       "      <td>0.000000</td>\n",
       "      <td>0.000000</td>\n",
       "      <td>0.000000</td>\n",
       "      <td>0.000000</td>\n",
       "      <td>0.000000</td>\n",
       "      <td>0.000000</td>\n",
       "      <td>0.000000</td>\n",
       "      <td>0.000000</td>\n",
       "      <td>0.000000</td>\n",
       "      <td>0.000000</td>\n",
       "      <td>0.000000</td>\n",
       "      <td>0.000000</td>\n",
       "    </tr>\n",
       "    <tr>\n",
       "      <th>2ndFlrSF</th>\n",
       "      <td>0.000000</td>\n",
       "      <td>0.000000</td>\n",
       "      <td>0.000000</td>\n",
       "      <td>0.000000</td>\n",
       "      <td>-608.084846</td>\n",
       "      <td>-592.995049</td>\n",
       "      <td>-625.048765</td>\n",
       "      <td>-712.648758</td>\n",
       "      <td>0.000000</td>\n",
       "      <td>0.000000</td>\n",
       "      <td>-253.877742</td>\n",
       "      <td>312.318017</td>\n",
       "    </tr>\n",
       "    <tr>\n",
       "      <th>YearBuilt</th>\n",
       "      <td>0.000000</td>\n",
       "      <td>100.637253</td>\n",
       "      <td>1514.610630</td>\n",
       "      <td>1348.396648</td>\n",
       "      <td>2445.587627</td>\n",
       "      <td>2074.893215</td>\n",
       "      <td>1530.263380</td>\n",
       "      <td>1744.224174</td>\n",
       "      <td>761.738695</td>\n",
       "      <td>4507.843872</td>\n",
       "      <td>1602.819550</td>\n",
       "      <td>1224.869322</td>\n",
       "    </tr>\n",
       "    <tr>\n",
       "      <th>YrSold</th>\n",
       "      <td>0.000000</td>\n",
       "      <td>456.844194</td>\n",
       "      <td>257.992503</td>\n",
       "      <td>831.095733</td>\n",
       "      <td>1597.267298</td>\n",
       "      <td>-151.615834</td>\n",
       "      <td>597.121547</td>\n",
       "      <td>1987.846712</td>\n",
       "      <td>-823.560783</td>\n",
       "      <td>-14.832626</td>\n",
       "      <td>473.815874</td>\n",
       "      <td>792.577017</td>\n",
       "    </tr>\n",
       "    <tr>\n",
       "      <th>BsmtFullBath</th>\n",
       "      <td>0.000000</td>\n",
       "      <td>247.717456</td>\n",
       "      <td>0.000000</td>\n",
       "      <td>-297.483564</td>\n",
       "      <td>914.217367</td>\n",
       "      <td>348.857594</td>\n",
       "      <td>288.174486</td>\n",
       "      <td>0.000000</td>\n",
       "      <td>-248.795288</td>\n",
       "      <td>-462.691910</td>\n",
       "      <td>78.999614</td>\n",
       "      <td>374.696339</td>\n",
       "    </tr>\n",
       "    <tr>\n",
       "      <th>WoodDeckSF</th>\n",
       "      <td>-1605.896414</td>\n",
       "      <td>-4872.201764</td>\n",
       "      <td>-6925.043301</td>\n",
       "      <td>-6380.796316</td>\n",
       "      <td>-5369.324640</td>\n",
       "      <td>-7617.595119</td>\n",
       "      <td>-4263.532391</td>\n",
       "      <td>-6881.978770</td>\n",
       "      <td>-4553.882088</td>\n",
       "      <td>-4736.891539</td>\n",
       "      <td>-5320.714234</td>\n",
       "      <td>1657.129032</td>\n",
       "    </tr>\n",
       "    <tr>\n",
       "      <th>OverallCond</th>\n",
       "      <td>0.000000</td>\n",
       "      <td>-644.256906</td>\n",
       "      <td>-1229.180650</td>\n",
       "      <td>-395.593688</td>\n",
       "      <td>-469.863885</td>\n",
       "      <td>-258.986919</td>\n",
       "      <td>274.087225</td>\n",
       "      <td>0.000000</td>\n",
       "      <td>721.658834</td>\n",
       "      <td>216.195011</td>\n",
       "      <td>-178.594098</td>\n",
       "      <td>519.036582</td>\n",
       "    </tr>\n",
       "    <tr>\n",
       "      <th>GarageArea</th>\n",
       "      <td>731.604033</td>\n",
       "      <td>0.000000</td>\n",
       "      <td>395.115519</td>\n",
       "      <td>399.249884</td>\n",
       "      <td>-358.596918</td>\n",
       "      <td>219.872650</td>\n",
       "      <td>794.479536</td>\n",
       "      <td>0.000000</td>\n",
       "      <td>1466.591026</td>\n",
       "      <td>0.000000</td>\n",
       "      <td>364.831573</td>\n",
       "      <td>497.871785</td>\n",
       "    </tr>\n",
       "    <tr>\n",
       "      <th>ScreenPorch</th>\n",
       "      <td>0.000000</td>\n",
       "      <td>1342.053231</td>\n",
       "      <td>329.164328</td>\n",
       "      <td>2211.683096</td>\n",
       "      <td>2088.159995</td>\n",
       "      <td>1362.830740</td>\n",
       "      <td>4055.699565</td>\n",
       "      <td>907.492787</td>\n",
       "      <td>819.242192</td>\n",
       "      <td>397.302864</td>\n",
       "      <td>1351.362880</td>\n",
       "      <td>1133.937876</td>\n",
       "    </tr>\n",
       "    <tr>\n",
       "      <th>MasVnrArea</th>\n",
       "      <td>0.000000</td>\n",
       "      <td>0.000000</td>\n",
       "      <td>0.000000</td>\n",
       "      <td>0.000000</td>\n",
       "      <td>-654.879852</td>\n",
       "      <td>0.000000</td>\n",
       "      <td>-9.169921</td>\n",
       "      <td>0.000000</td>\n",
       "      <td>0.000000</td>\n",
       "      <td>-361.344009</td>\n",
       "      <td>-102.539378</td>\n",
       "      <td>213.161432</td>\n",
       "    </tr>\n",
       "    <tr>\n",
       "      <th>MiscVal</th>\n",
       "      <td>0.000000</td>\n",
       "      <td>0.000000</td>\n",
       "      <td>0.000000</td>\n",
       "      <td>0.000000</td>\n",
       "      <td>0.000000</td>\n",
       "      <td>0.000000</td>\n",
       "      <td>0.000000</td>\n",
       "      <td>0.000000</td>\n",
       "      <td>0.000000</td>\n",
       "      <td>0.000000</td>\n",
       "      <td>0.000000</td>\n",
       "      <td>0.000000</td>\n",
       "    </tr>\n",
       "    <tr>\n",
       "      <th>OverallQual</th>\n",
       "      <td>5605.038536</td>\n",
       "      <td>7845.886589</td>\n",
       "      <td>4061.570592</td>\n",
       "      <td>3172.157405</td>\n",
       "      <td>3868.077097</td>\n",
       "      <td>1652.437249</td>\n",
       "      <td>3540.237396</td>\n",
       "      <td>3780.340014</td>\n",
       "      <td>775.159604</td>\n",
       "      <td>4246.169251</td>\n",
       "      <td>3854.707373</td>\n",
       "      <td>1846.436805</td>\n",
       "    </tr>\n",
       "    <tr>\n",
       "      <th>YearRemodAdd</th>\n",
       "      <td>-952.580441</td>\n",
       "      <td>-2956.527016</td>\n",
       "      <td>-7692.476658</td>\n",
       "      <td>-2060.712163</td>\n",
       "      <td>-4456.392792</td>\n",
       "      <td>-2488.663940</td>\n",
       "      <td>-1805.367599</td>\n",
       "      <td>-3281.516177</td>\n",
       "      <td>-4713.228129</td>\n",
       "      <td>-2263.878578</td>\n",
       "      <td>-3267.134349</td>\n",
       "      <td>1837.056771</td>\n",
       "    </tr>\n",
       "    <tr>\n",
       "      <th>FullBath</th>\n",
       "      <td>0.000000</td>\n",
       "      <td>-1323.125640</td>\n",
       "      <td>546.541096</td>\n",
       "      <td>48.387112</td>\n",
       "      <td>-183.312572</td>\n",
       "      <td>1162.542391</td>\n",
       "      <td>258.270741</td>\n",
       "      <td>-916.331985</td>\n",
       "      <td>1426.976099</td>\n",
       "      <td>3106.391031</td>\n",
       "      <td>412.633827</td>\n",
       "      <td>1196.931310</td>\n",
       "    </tr>\n",
       "  </tbody>\n",
       "</table>\n",
       "</div>"
      ],
      "text/plain": [
       "                     Loco 1       Loco 2        Loco 3        Loco 4  \\\n",
       "HalfBath           0.000000     0.000000      0.000000      0.000000   \n",
       "BsmtFinSF1         0.000000   680.464241   -336.981845    315.137484   \n",
       "MoSold             0.000000   595.358250   1787.271071   3230.697985   \n",
       "PoolArea           0.000000     0.000000      0.000000      0.000000   \n",
       "BsmtHalfBath       0.000000  -324.321083   -905.862109   -916.352115   \n",
       "BedroomAbvGr       0.000000     0.000000      0.000000      0.000000   \n",
       "BsmtFinSF2         0.000000     0.000000      0.000000      0.000000   \n",
       "GrLivArea      -9814.912363 -3293.085560 -15809.346302 -11922.584258   \n",
       "KitchenAbvGr       0.000000     0.000000      0.000000      0.000000   \n",
       "LotFrontage        0.000000     0.000000      0.000000    200.859772   \n",
       "MSSubClass         0.000000     0.000000   -709.661157   -213.455500   \n",
       "BsmtUnfSF        121.164420  2647.415364   3674.875089   4124.255683   \n",
       "LotArea        -9108.242034 -3173.464452  -8563.072269 -10691.301457   \n",
       "OpenPorchSF        0.000000   355.176453  -1089.777695    130.642463   \n",
       "1stFlrSF      -12816.035657 -4749.720377  -4650.553413  -3123.249856   \n",
       "3SsnPorch          0.000000     0.000000      0.000000      0.000000   \n",
       "Fireplaces     -2643.482971 -5933.319113  -3037.572496  -2628.585165   \n",
       "EnclosedPorch      0.000000     0.000000      0.000000      0.000000   \n",
       "LowQualFinSF       0.000000     0.000000      0.000000      0.000000   \n",
       "2ndFlrSF           0.000000     0.000000      0.000000      0.000000   \n",
       "YearBuilt          0.000000   100.637253   1514.610630   1348.396648   \n",
       "YrSold             0.000000   456.844194    257.992503    831.095733   \n",
       "BsmtFullBath       0.000000   247.717456      0.000000   -297.483564   \n",
       "WoodDeckSF     -1605.896414 -4872.201764  -6925.043301  -6380.796316   \n",
       "OverallCond        0.000000  -644.256906  -1229.180650   -395.593688   \n",
       "GarageArea       731.604033     0.000000    395.115519    399.249884   \n",
       "ScreenPorch        0.000000  1342.053231    329.164328   2211.683096   \n",
       "MasVnrArea         0.000000     0.000000      0.000000      0.000000   \n",
       "MiscVal            0.000000     0.000000      0.000000      0.000000   \n",
       "OverallQual     5605.038536  7845.886589   4061.570592   3172.157405   \n",
       "YearRemodAdd    -952.580441 -2956.527016  -7692.476658  -2060.712163   \n",
       "FullBath           0.000000 -1323.125640    546.541096     48.387112   \n",
       "\n",
       "                     Loco 5        Loco 6       Loco 7        Loco 8  \\\n",
       "HalfBath          17.407978     26.615154    -0.654188      0.000000   \n",
       "BsmtFinSF1      1214.512703    956.425747    76.630281   1519.825218   \n",
       "MoSold          3303.898013   3550.543600  3850.248353   3415.769227   \n",
       "PoolArea           0.000000      0.000000     0.000000      0.000000   \n",
       "BsmtHalfBath   -1350.069398   -610.558753 -1009.995516  -1744.493128   \n",
       "BedroomAbvGr       0.000000      0.000000    22.660268      0.000000   \n",
       "BsmtFinSF2         0.000000      0.000000     0.000000      0.000000   \n",
       "GrLivArea     -16613.081561 -15301.129244 -9991.529671 -19807.260831   \n",
       "KitchenAbvGr       0.000000      0.000000     0.000000      0.000000   \n",
       "LotFrontage        0.000000    -15.328415  -173.339762   -238.470665   \n",
       "MSSubClass     -2214.505028     16.975995  -682.136323      0.000000   \n",
       "BsmtUnfSF       4699.058784   5641.689768  6299.426278   3633.974463   \n",
       "LotArea        -7911.315177  -8419.845015 -5652.362702 -14777.721228   \n",
       "OpenPorchSF     -548.384396   -785.343713   266.417814    748.838837   \n",
       "1stFlrSF       -3961.233045  -1524.936389 -1415.375563  -3122.871154   \n",
       "3SsnPorch          0.000000      0.000000     0.000000      0.000000   \n",
       "Fireplaces     -3402.100046  -2305.288406 -3088.624344  -3892.029889   \n",
       "EnclosedPorch      0.000000      0.000000     0.000000      0.000000   \n",
       "LowQualFinSF       0.000000      0.000000     0.000000      0.000000   \n",
       "2ndFlrSF        -608.084846   -592.995049  -625.048765   -712.648758   \n",
       "YearBuilt       2445.587627   2074.893215  1530.263380   1744.224174   \n",
       "YrSold          1597.267298   -151.615834   597.121547   1987.846712   \n",
       "BsmtFullBath     914.217367    348.857594   288.174486      0.000000   \n",
       "WoodDeckSF     -5369.324640  -7617.595119 -4263.532391  -6881.978770   \n",
       "OverallCond     -469.863885   -258.986919   274.087225      0.000000   \n",
       "GarageArea      -358.596918    219.872650   794.479536      0.000000   \n",
       "ScreenPorch     2088.159995   1362.830740  4055.699565    907.492787   \n",
       "MasVnrArea      -654.879852      0.000000    -9.169921      0.000000   \n",
       "MiscVal            0.000000      0.000000     0.000000      0.000000   \n",
       "OverallQual     3868.077097   1652.437249  3540.237396   3780.340014   \n",
       "YearRemodAdd   -4456.392792  -2488.663940 -1805.367599  -3281.516177   \n",
       "FullBath        -183.312572   1162.542391   258.270741   -916.331985   \n",
       "\n",
       "                     Loco 9       Loco 10  Mean Local Importance  \\\n",
       "HalfBath           0.000000      0.000000               4.336894   \n",
       "BsmtFinSF1      1531.221380   1996.006836             795.324205   \n",
       "MoSold          5072.966855   2902.953232            2770.970658   \n",
       "PoolArea           0.000000      0.000000               0.000000   \n",
       "BsmtHalfBath    -285.008494   -496.417082            -764.307768   \n",
       "BedroomAbvGr       0.000000      0.000000               2.266027   \n",
       "BsmtFinSF2         0.000000      0.000000               0.000000   \n",
       "GrLivArea     -13970.186814 -14553.987621          -13107.710422   \n",
       "KitchenAbvGr       0.000000      0.000000               0.000000   \n",
       "LotFrontage      444.862839    187.604218              40.618799   \n",
       "MSSubClass      -331.997725    384.716454            -375.006328   \n",
       "BsmtUnfSF       5917.591017   2262.545135            3902.199600   \n",
       "LotArea        -5995.706427  -9938.346915           -8423.137768   \n",
       "OpenPorchSF     -388.206953   -702.716066            -201.335326   \n",
       "1stFlrSF       -1500.447717  -5490.038249           -4235.446142   \n",
       "3SsnPorch          0.000000      0.000000               0.000000   \n",
       "Fireplaces     -8849.192387  -2399.433849           -3817.962867   \n",
       "EnclosedPorch      0.000000      0.000000               0.000000   \n",
       "LowQualFinSF       0.000000      0.000000               0.000000   \n",
       "2ndFlrSF           0.000000      0.000000            -253.877742   \n",
       "YearBuilt        761.738695   4507.843872            1602.819550   \n",
       "YrSold          -823.560783    -14.832626             473.815874   \n",
       "BsmtFullBath    -248.795288   -462.691910              78.999614   \n",
       "WoodDeckSF     -4553.882088  -4736.891539           -5320.714234   \n",
       "OverallCond      721.658834    216.195011            -178.594098   \n",
       "GarageArea      1466.591026      0.000000             364.831573   \n",
       "ScreenPorch      819.242192    397.302864            1351.362880   \n",
       "MasVnrArea         0.000000   -361.344009            -102.539378   \n",
       "MiscVal            0.000000      0.000000               0.000000   \n",
       "OverallQual      775.159604   4246.169251            3854.707373   \n",
       "YearRemodAdd   -4713.228129  -2263.878578           -3267.134349   \n",
       "FullBath        1426.976099   3106.391031             412.633827   \n",
       "\n",
       "               Std. Dev. Local Importance  \n",
       "HalfBath                         9.076043  \n",
       "BsmtFinSF1                     733.805730  \n",
       "MoSold                        1462.174367  \n",
       "PoolArea                         0.000000  \n",
       "BsmtHalfBath                   501.027368  \n",
       "BedroomAbvGr                     6.798080  \n",
       "BsmtFinSF2                       0.000000  \n",
       "GrLivArea                     4363.503123  \n",
       "KitchenAbvGr                     0.000000  \n",
       "LotFrontage                    185.497698  \n",
       "MSSubClass                     690.705773  \n",
       "BsmtUnfSF                     1794.475306  \n",
       "LotArea                       2995.008619  \n",
       "OpenPorchSF                    558.499491  \n",
       "1stFlrSF                      3177.533381  \n",
       "3SsnPorch                        0.000000  \n",
       "Fireplaces                    1954.528206  \n",
       "EnclosedPorch                    0.000000  \n",
       "LowQualFinSF                     0.000000  \n",
       "2ndFlrSF                       312.318017  \n",
       "YearBuilt                     1224.869322  \n",
       "YrSold                         792.577017  \n",
       "BsmtFullBath                   374.696339  \n",
       "WoodDeckSF                    1657.129032  \n",
       "OverallCond                    519.036582  \n",
       "GarageArea                     497.871785  \n",
       "ScreenPorch                   1133.937876  \n",
       "MasVnrArea                     213.161432  \n",
       "MiscVal                          0.000000  \n",
       "OverallQual                   1846.436805  \n",
       "YearRemodAdd                  1837.056771  \n",
       "FullBath                      1196.931310  "
      ]
     },
     "execution_count": 17,
     "metadata": {},
     "output_type": "execute_result"
    }
   ],
   "source": [
    "median_loco_frames = []\n",
    "col_names = ['Loco ' + str(i) for i in range(1, n_models + 1)]\n",
    "\n",
    "for i in range(0, n_models):\n",
    "    \n",
    "    # collect LOCO as a column vector in a Pandas df\n",
    "    preds = pred_frames[i]\n",
    "    median_loco_frames.append(preds[preds['Id'] == int(quantile_dict[50]), :]\\\n",
    "                              .as_data_frame()\\\n",
    "                              .drop(['Id', 'predict'], axis=1)\n",
    "                              .T)\n",
    "    \n",
    "loco_ensemble = pd.concat(median_loco_frames, axis=1) \n",
    "loco_ensemble.columns = col_names\n",
    "loco_ensemble['Mean Local Importance'] = loco_ensemble.mean(axis=1)\n",
    "loco_ensemble['Std. Dev. Local Importance'] = loco_ensemble.std(axis=1)\n",
    "loco_ensemble"
   ]
  },
  {
   "cell_type": "markdown",
   "metadata": {},
   "source": [
    "#### Negative mean reason codes"
   ]
  },
  {
   "cell_type": "code",
   "execution_count": 18,
   "metadata": {
    "collapsed": false
   },
   "outputs": [
    {
     "data": {
      "image/png": "[encoded data removed]",
      "text/plain": [
       "<matplotlib.figure.Figure at 0x11b0dea90>"
      ]
     },
     "metadata": {},
     "output_type": "display_data"
    }
   ],
   "source": [
    "median_mean_loco = loco_ensemble['Mean Local Importance'].sort_values()[:5]\n",
    "_ = median_mean_loco.plot(kind='bar', \n",
    "                          title='Negative Mean Reason Codes for the Median of Predicted Sale Price\\n', \n",
    "                          legend=False)"
   ]
  },
  {
   "cell_type": "markdown",
   "metadata": {},
   "source": [
    "#### Positive mean reason codes"
   ]
  },
  {
   "cell_type": "code",
   "execution_count": 19,
   "metadata": {
    "collapsed": false
   },
   "outputs": [
    {
     "data": {
      "image/png": "[encoded data removed]",
      "text/plain": [
       "<matplotlib.figure.Figure at 0x11be9d128>"
      ]
     },
     "metadata": {},
     "output_type": "display_data"
    }
   ],
   "source": [
    "median_mean_loco = loco_ensemble['Mean Local Importance'].sort_values(ascending=False)[:5]\n",
    "_ = median_mean_loco.plot(kind='bar', \n",
    "                          title='Positive Mean Reason Codes for the Median of Predicted Sale Price\\n', \n",
    "                          color='r',\n",
    "                          legend=False)"
   ]
  },
  {
   "cell_type": "markdown",
   "metadata": {},
   "source": [
    "#### Shutdown H2O"
   ]
  },
  {
   "cell_type": "code",
   "execution_count": 20,
   "metadata": {
    "collapsed": false
   },
   "outputs": [
    {
     "name": "stdout",
     "output_type": "stream",
     "text": [
      "Are you sure you want to shutdown the H2O instance running at http://127.0.0.1:54321 (Y/N)? y\n",
      "H2O session _sid_8094 closed.\n"
     ]
    }
   ],
   "source": [
    "h2o.cluster().shutdown(prompt=True)"
   ]
  }
 ],
 "metadata": {
  "anaconda-cloud": {},
  "kernelspec": {
   "display_name": "Python [conda root]",
   "language": "python",
   "name": "conda-root-py"
  },
  "language_info": {
   "codemirror_mode": {
    "name": "ipython",
    "version": 3
   },
   "file_extension": ".py",
   "mimetype": "text/x-python",
   "name": "python",
   "nbconvert_exporter": "python",
   "pygments_lexer": "ipython3",
   "version": "3.5.2"
  }
 },
 "nbformat": 4,
 "nbformat_minor": 2
}
